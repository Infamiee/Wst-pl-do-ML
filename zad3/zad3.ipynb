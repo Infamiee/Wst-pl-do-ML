{
 "cells": [
  {
   "cell_type": "markdown",
   "metadata": {
    "collapsed": true,
    "pycharm": {
     "name": "#%% md\n"
    }
   },
   "source": [
    "### NumPy\n"
   ]
  },
  {
   "cell_type": "code",
   "execution_count": 1,
   "outputs": [],
   "source": [
    "from pprint import pprint\n"
   ],
   "metadata": {
    "collapsed": false,
    "pycharm": {
     "name": "#%%\n"
    }
   }
  },
  {
   "cell_type": "markdown",
   "source": [
    "### Python Basics"
   ],
   "metadata": {
    "collapsed": false,
    "pycharm": {
     "name": "#%% md\n"
    }
   }
  },
  {
   "cell_type": "code",
   "execution_count": 2,
   "outputs": [
    {
     "data": {
      "text/plain": "[[4, 5, 6, 7], [3, 4, 5, 6]]"
     },
     "execution_count": 2,
     "metadata": {},
     "output_type": "execute_result"
    }
   ],
   "source": [
    "#Tworzenie listy\n",
    "list = [[4,5,6,7], [3,4,5,6]]\n",
    "list"
   ],
   "metadata": {
    "collapsed": false,
    "pycharm": {
     "name": "#%%\n"
    }
   }
  },
  {
   "cell_type": "code",
   "execution_count": 3,
   "outputs": [
    {
     "data": {
      "text/plain": "[3, 4, 5, 6]"
     },
     "execution_count": 3,
     "metadata": {},
     "output_type": "execute_result"
    }
   ],
   "source": [
    "#podzbiór listy\n",
    "list[1]\n"
   ],
   "metadata": {
    "collapsed": false,
    "pycharm": {
     "name": "#%%\n"
    }
   }
  },
  {
   "cell_type": "code",
   "execution_count": 4,
   "outputs": [
    {
     "data": {
      "text/plain": "[[4, 5, 6, 7], [3, 4, 5, 6], 1, 2, 3, 4, 'text']"
     },
     "execution_count": 4,
     "metadata": {},
     "output_type": "execute_result"
    }
   ],
   "source": [
    "#Łączenie list\n",
    "list = list + [1,2,3,4,'text']\n",
    "list"
   ],
   "metadata": {
    "collapsed": false,
    "pycharm": {
     "name": "#%%\n"
    }
   }
  },
  {
   "cell_type": "code",
   "execution_count": 5,
   "outputs": [
    {
     "data": {
      "text/plain": "1"
     },
     "execution_count": 5,
     "metadata": {},
     "output_type": "execute_result"
    }
   ],
   "source": [
    "#Zliczanie ilości wystąpień elementu\n",
    "list.count(4)"
   ],
   "metadata": {
    "collapsed": false,
    "pycharm": {
     "name": "#%%\n"
    }
   }
  },
  {
   "cell_type": "code",
   "execution_count": 6,
   "outputs": [
    {
     "data": {
      "text/plain": "[[4, 5, 6, 7], [3, 4, 5, 6], 1, 2, 3, 4]"
     },
     "execution_count": 6,
     "metadata": {},
     "output_type": "execute_result"
    }
   ],
   "source": [
    "#usuwanie elementu\n",
    "list.remove('text')\n",
    "list"
   ],
   "metadata": {
    "collapsed": false,
    "pycharm": {
     "name": "#%%\n"
    }
   }
  },
  {
   "cell_type": "markdown",
   "source": [
    "### Numpy"
   ],
   "metadata": {
    "collapsed": false,
    "pycharm": {
     "name": "#%% md\n"
    }
   }
  },
  {
   "cell_type": "code",
   "execution_count": 7,
   "outputs": [],
   "source": [
    "import numpy as np"
   ],
   "metadata": {
    "collapsed": false,
    "pycharm": {
     "name": "#%%\n"
    }
   }
  },
  {
   "cell_type": "code",
   "execution_count": 8,
   "outputs": [
    {
     "name": "stdout",
     "output_type": "stream",
     "text": [
      "'float64'\n",
      "'float32'\n"
     ]
    }
   ],
   "source": [
    "#metoda astype tworzy kopie tablicy i robi casta na wybrany typ\n",
    "array = np.random.rand(4,6)\n",
    "pprint(array.dtype.name)\n",
    "array = array.astype(np.float32)\n",
    "pprint(array.dtype.name)"
   ],
   "metadata": {
    "collapsed": false,
    "pycharm": {
     "name": "#%%\n"
    }
   }
  },
  {
   "cell_type": "code",
   "execution_count": 9,
   "outputs": [
    {
     "name": "stdout",
     "output_type": "stream",
     "text": [
      "'suma wszystkich wartości: 12.854206'\n",
      "'suma wierszy: [3.2852316 2.910762  4.303962  2.3542504]'\n"
     ]
    }
   ],
   "source": [
    "#sum sumuje wartości w tablicy, można także określić czy sumować wiersze czy kolumny\n",
    "pprint(\"suma wszystkich wartości: \" + str(array.sum()))\n",
    "pprint(\"suma wierszy: \"+str(array.sum(axis=1)))"
   ],
   "metadata": {
    "collapsed": false,
    "pycharm": {
     "name": "#%%\n"
    }
   }
  },
  {
   "cell_type": "code",
   "execution_count": 10,
   "outputs": [
    {
     "name": "stdout",
     "output_type": "stream",
     "text": [
      "'Przed wykonaniem metody: (4, 6)'\n",
      "'Po wykonaniu metody: (24,)'\n"
     ]
    }
   ],
   "source": [
    "#metoda ravel pozwala na \"rozpłaszczenie\" tablicy wielowymiarowej na jednowymiarową\n",
    "pprint(\"Przed wykonaniem metody: \" + str(array.shape))\n",
    "pprint(\"Po wykonaniu metody: \" + str(array.ravel().shape))\n",
    "\n"
   ],
   "metadata": {
    "collapsed": false,
    "pycharm": {
     "name": "#%%\n"
    }
   }
  },
  {
   "cell_type": "code",
   "execution_count": 11,
   "outputs": [
    {
     "name": "stdout",
     "output_type": "stream",
     "text": [
      "array([[9.55594853e-02, 5.19335330e-01, 2.44640395e-01, 1.24031484e-01,\n",
      "        3.08658462e-04, 1.37554750e-01],\n",
      "       [3.15889359e-01, 5.80484569e-01, 3.23441237e-01, 5.08635640e-01,\n",
      "        5.18730938e-01, 4.51724827e-01],\n",
      "       [8.74421477e-01, 7.54610538e-01, 6.25938416e-01, 7.80495405e-01,\n",
      "        6.69189692e-01, 6.24718130e-01],\n",
      "       [9.04934049e-01, 8.30411732e-01, 6.99055970e-01, 9.25615013e-01,\n",
      "        6.72784448e-01, 6.71694994e-01]], dtype=float32)\n"
     ]
    }
   ],
   "source": [
    "#Sort sortuje wartości, pozwala także wybrać czy sortować kolumny czy wiersze lub algorytm sortowania\n",
    "array.sort(axis=0)\n",
    "pprint(array)\n"
   ],
   "metadata": {
    "collapsed": false,
    "pycharm": {
     "name": "#%%\n"
    }
   }
  },
  {
   "cell_type": "code",
   "execution_count": 12,
   "outputs": [
    {
     "name": "stdout",
     "output_type": "stream",
     "text": [
      "array([[9.55594853e-02, 3.15889359e-01, 8.74421477e-01, 9.04934049e-01],\n",
      "       [5.19335330e-01, 5.80484569e-01, 7.54610538e-01, 8.30411732e-01],\n",
      "       [2.44640395e-01, 3.23441237e-01, 6.25938416e-01, 6.99055970e-01],\n",
      "       [1.24031484e-01, 5.08635640e-01, 7.80495405e-01, 9.25615013e-01],\n",
      "       [3.08658462e-04, 5.18730938e-01, 6.69189692e-01, 6.72784448e-01],\n",
      "       [1.37554750e-01, 4.51724827e-01, 6.24718130e-01, 6.71694994e-01]],\n",
      "      dtype=float32)\n",
      "array([[9.55594853e-02, 3.15889359e-01, 8.74421477e-01, 9.04934049e-01],\n",
      "       [5.19335330e-01, 5.80484569e-01, 7.54610538e-01, 8.30411732e-01],\n",
      "       [2.44640395e-01, 3.23441237e-01, 6.25938416e-01, 6.99055970e-01],\n",
      "       [1.24031484e-01, 5.08635640e-01, 7.80495405e-01, 9.25615013e-01],\n",
      "       [3.08658462e-04, 5.18730938e-01, 6.69189692e-01, 6.72784448e-01],\n",
      "       [1.37554750e-01, 4.51724827e-01, 6.24718130e-01, 6.71694994e-01]],\n",
      "      dtype=float32)\n"
     ]
    }
   ],
   "source": [
    "#metoda transpose dokonuje transpozycji macierzy, alternatywą jest pobranie zmiennej T z macierzy\n",
    "pprint(np.transpose(array))\n",
    "pprint(array.T)"
   ],
   "metadata": {
    "collapsed": false,
    "pycharm": {
     "name": "#%%\n"
    }
   }
  },
  {
   "cell_type": "markdown",
   "source": [
    "### SciPy"
   ],
   "metadata": {
    "collapsed": false
   }
  },
  {
   "cell_type": "code",
   "execution_count": 13,
   "outputs": [],
   "source": [
    "from scipy import linalg,sparse"
   ],
   "metadata": {
    "collapsed": false,
    "pycharm": {
     "name": "#%%\n"
    }
   }
  },
  {
   "cell_type": "code",
   "execution_count": 14,
   "outputs": [
    {
     "name": "stdout",
     "output_type": "stream",
     "text": [
      "array([[-0.26679363,  0.36108243, -2.11624822],\n",
      "       [-1.17056348, -0.35532093,  0.28460388],\n",
      "       [ 0.32008142, -0.79138461,  1.05738322]])\n",
      "array([[ 0.08951024, -0.76909926,  0.38615566],\n",
      "       [-0.79043409, -0.23511936, -1.51869144],\n",
      "       [-0.61868575,  0.05684273, -0.30780731]])\n"
     ]
    }
   ],
   "source": [
    "#obliczanie macierzy odwrotnej\n",
    "array = np.random.randn(3,3)\n",
    "pprint(array)\n",
    "pprint(linalg.inv(array))"
   ],
   "metadata": {
    "collapsed": false,
    "pycharm": {
     "name": "#%%\n"
    }
   }
  },
  {
   "cell_type": "code",
   "execution_count": 15,
   "outputs": [
    {
     "name": "stdout",
     "output_type": "stream",
     "text": [
      "array([[0.53816136, 0.00371448],\n",
      "       [0.52951575, 0.40542224]])\n",
      "array([[-0.62369797,  0.00794957],\n",
      "       [ 1.13324774, -0.90778075]])\n"
     ]
    }
   ],
   "source": [
    "#Logarytm macierzy\n",
    "A = np.random.rand(2,2)\n",
    "pprint(A)\n",
    "pprint(linalg.logm(A))\n"
   ],
   "metadata": {
    "collapsed": false,
    "pycharm": {
     "name": "#%%\n"
    }
   }
  },
  {
   "cell_type": "code",
   "execution_count": 16,
   "outputs": [
    {
     "name": "stdout",
     "output_type": "stream",
     "text": [
      "array([[0.95510324, 0.55447471, 0.04416709],\n",
      "       [0.60850478, 0.52067219, 0.01510697]])\n",
      "array([[0.13092379, 0.87513658, 0.54106352],\n",
      "       [0.16275028, 0.73229386, 0.01837876]])\n",
      "array([[1.08602702, 1.42961129, 0.5852306 ],\n",
      "       [0.77125507, 1.25296605, 0.03348573]])\n"
     ]
    }
   ],
   "source": [
    "#Dodawanie macierzy\n",
    "A = np.random.rand(2,3)\n",
    "B = np.random.rand(2,3)\n",
    "pprint(A)\n",
    "pprint(B)\n",
    "pprint(np.add(A,B))\n"
   ],
   "metadata": {
    "collapsed": false,
    "pycharm": {
     "name": "#%%\n"
    }
   }
  },
  {
   "cell_type": "code",
   "execution_count": 17,
   "outputs": [
    {
     "name": "stdout",
     "output_type": "stream",
     "text": [
      "array([-3.37857752+0.j])\n",
      "array([[ 0.47010506+0.j],\n",
      "       [-0.04994788+0.j],\n",
      "       [ 0.61345407+0.j],\n",
      "       [ 0.55131709+0.j],\n",
      "       [-0.31020962+0.j]])\n"
     ]
    }
   ],
   "source": [
    "#Obliczanie eigenvalues i eigenvectors\n",
    "F = np.random.randn(5,5)\n",
    "la, v = sparse.linalg.eigs(F,1)\n",
    "pprint(la)\n",
    "pprint(v)"
   ],
   "metadata": {
    "collapsed": false,
    "pycharm": {
     "name": "#%%\n"
    }
   }
  },
  {
   "cell_type": "code",
   "execution_count": 18,
   "outputs": [
    {
     "data": {
      "text/plain": "False"
     },
     "execution_count": 18,
     "metadata": {},
     "output_type": "execute_result"
    }
   ],
   "source": [
    "#Sprawdzenie czy macierz jest rzadka\n",
    "sparse.isspmatrix_csc(F)\n"
   ],
   "metadata": {
    "collapsed": false,
    "pycharm": {
     "name": "#%%\n"
    }
   }
  },
  {
   "cell_type": "markdown",
   "source": [
    "### Pandas\n"
   ],
   "metadata": {
    "collapsed": false
   }
  },
  {
   "cell_type": "code",
   "execution_count": 19,
   "outputs": [],
   "source": [
    "import pandas as pd"
   ],
   "metadata": {
    "collapsed": false,
    "pycharm": {
     "name": "#%%\n"
    }
   }
  },
  {
   "cell_type": "code",
   "execution_count": 20,
   "outputs": [
    {
     "name": "stdout",
     "output_type": "stream",
     "text": [
      "          state           county      candidate party   votes\n",
      "0      Delaware      Kent County      Joe Biden   DEM   44518\n",
      "1      Delaware      Kent County   Donald Trump   REP   40976\n",
      "2      Delaware      Kent County   Jo Jorgensen   LIB    1044\n",
      "3      Delaware      Kent County  Howie Hawkins   GRN     420\n",
      "4      Delaware      Kent County      Write-ins   WRI       0\n",
      "...         ...              ...            ...   ...     ...\n",
      "31132   Arizona  Maricopa County   Donald Trump   REP  983690\n",
      "31133   Arizona  Maricopa County   Jo Jorgensen   LIB   31214\n",
      "31134   Arizona    Mohave County   Donald Trump   REP   78218\n",
      "31135   Arizona    Mohave County      Joe Biden   DEM   24769\n",
      "31136   Arizona    Mohave County   Jo Jorgensen   LIB    1296\n",
      "\n",
      "[31137 rows x 5 columns]\n"
     ]
    }
   ],
   "source": [
    "df = pd.read_csv(\"president_county_candidate.csv\")\n",
    "print(df)"
   ],
   "metadata": {
    "collapsed": false,
    "pycharm": {
     "name": "#%%\n"
    }
   }
  },
  {
   "cell_type": "code",
   "execution_count": 21,
   "outputs": [
    {
     "name": "stdout",
     "output_type": "stream",
     "text": [
      "(31137, 5)\n"
     ]
    }
   ],
   "source": [
    "#Wyświetlanie wielkości DataFrame\n",
    "print(df.shape)\n"
   ],
   "metadata": {
    "collapsed": false,
    "pycharm": {
     "name": "#%%\n"
    }
   }
  },
  {
   "cell_type": "code",
   "execution_count": 22,
   "outputs": [
    {
     "data": {
      "text/plain": "         state            county     candidate party  votes\n27012  Alabama   Cherokee County  Donald Trump   REP  10562\n27153  Alabama  Limestone County     Joe Biden   DEM  13510\n27152  Alabama  Limestone County  Donald Trump   REP  34337\n27151  Alabama        Lee County     Write-ins   WRI    349\n27150  Alabama        Lee County  Jo Jorgensen   LIB   1012\n...        ...               ...           ...   ...    ...\n26953  Wyoming    Lincoln County     Joe Biden   DEM   1509\n26951  Wyoming    Laramie County     Write-ins   WRI    319\n26950  Wyoming    Laramie County  Brock Pierce   IND    491\n26959  Wyoming    Natrona County  Jo Jorgensen   LIB    895\n26898  Wyoming     Albany County  Donald Trump   REP   8575\n\n[31137 rows x 5 columns]",
      "text/html": "<div>\n<style scoped>\n    .dataframe tbody tr th:only-of-type {\n        vertical-align: middle;\n    }\n\n    .dataframe tbody tr th {\n        vertical-align: top;\n    }\n\n    .dataframe thead th {\n        text-align: right;\n    }\n</style>\n<table border=\"1\" class=\"dataframe\">\n  <thead>\n    <tr style=\"text-align: right;\">\n      <th></th>\n      <th>state</th>\n      <th>county</th>\n      <th>candidate</th>\n      <th>party</th>\n      <th>votes</th>\n    </tr>\n  </thead>\n  <tbody>\n    <tr>\n      <th>27012</th>\n      <td>Alabama</td>\n      <td>Cherokee County</td>\n      <td>Donald Trump</td>\n      <td>REP</td>\n      <td>10562</td>\n    </tr>\n    <tr>\n      <th>27153</th>\n      <td>Alabama</td>\n      <td>Limestone County</td>\n      <td>Joe Biden</td>\n      <td>DEM</td>\n      <td>13510</td>\n    </tr>\n    <tr>\n      <th>27152</th>\n      <td>Alabama</td>\n      <td>Limestone County</td>\n      <td>Donald Trump</td>\n      <td>REP</td>\n      <td>34337</td>\n    </tr>\n    <tr>\n      <th>27151</th>\n      <td>Alabama</td>\n      <td>Lee County</td>\n      <td>Write-ins</td>\n      <td>WRI</td>\n      <td>349</td>\n    </tr>\n    <tr>\n      <th>27150</th>\n      <td>Alabama</td>\n      <td>Lee County</td>\n      <td>Jo Jorgensen</td>\n      <td>LIB</td>\n      <td>1012</td>\n    </tr>\n    <tr>\n      <th>...</th>\n      <td>...</td>\n      <td>...</td>\n      <td>...</td>\n      <td>...</td>\n      <td>...</td>\n    </tr>\n    <tr>\n      <th>26953</th>\n      <td>Wyoming</td>\n      <td>Lincoln County</td>\n      <td>Joe Biden</td>\n      <td>DEM</td>\n      <td>1509</td>\n    </tr>\n    <tr>\n      <th>26951</th>\n      <td>Wyoming</td>\n      <td>Laramie County</td>\n      <td>Write-ins</td>\n      <td>WRI</td>\n      <td>319</td>\n    </tr>\n    <tr>\n      <th>26950</th>\n      <td>Wyoming</td>\n      <td>Laramie County</td>\n      <td>Brock Pierce</td>\n      <td>IND</td>\n      <td>491</td>\n    </tr>\n    <tr>\n      <th>26959</th>\n      <td>Wyoming</td>\n      <td>Natrona County</td>\n      <td>Jo Jorgensen</td>\n      <td>LIB</td>\n      <td>895</td>\n    </tr>\n    <tr>\n      <th>26898</th>\n      <td>Wyoming</td>\n      <td>Albany County</td>\n      <td>Donald Trump</td>\n      <td>REP</td>\n      <td>8575</td>\n    </tr>\n  </tbody>\n</table>\n<p>31137 rows × 5 columns</p>\n</div>"
     },
     "execution_count": 22,
     "metadata": {},
     "output_type": "execute_result"
    }
   ],
   "source": [
    "#Sortowanie\n",
    "df.sort_values(by='state')\n"
   ],
   "metadata": {
    "collapsed": false,
    "pycharm": {
     "name": "#%%\n"
    }
   }
  },
  {
   "cell_type": "code",
   "execution_count": 23,
   "outputs": [
    {
     "name": "stdout",
     "output_type": "stream",
     "text": [
      "                   state                county  candidate party   votes\n",
      "0               Delaware           Kent County  Joe Biden   DEM   44518\n",
      "5               Delaware     New Castle County  Joe Biden   DEM  194245\n",
      "11              Delaware         Sussex County  Joe Biden   DEM   56657\n",
      "14  District of Columbia  District of Columbia  Joe Biden   DEM   31723\n",
      "21  District of Columbia                Ward 2  Joe Biden   DEM   25228\n",
      "                   state                county     candidate party  votes\n",
      "1               Delaware           Kent County  Donald Trump   REP  40976\n",
      "6               Delaware     New Castle County  Donald Trump   REP  87687\n",
      "10              Delaware         Sussex County  Donald Trump   REP  71196\n",
      "15  District of Columbia  District of Columbia  Donald Trump   REP   1239\n",
      "22  District of Columbia                Ward 2  Donald Trump   REP   2466\n"
     ]
    }
   ],
   "source": [
    "#filtrowanie boolowskie\n",
    "biden_votes = df[df.candidate=='Joe Biden']\n",
    "trump_votes = df[df.candidate=='Donald Trump']\n",
    "print(biden_votes.head(5))\n",
    "print(trump_votes.head(5))"
   ],
   "metadata": {
    "collapsed": false,
    "pycharm": {
     "name": "#%%\n"
    }
   }
  },
  {
   "cell_type": "code",
   "execution_count": 24,
   "outputs": [
    {
     "name": "stdout",
     "output_type": "stream",
     "text": [
      "Głosy na Bidena: 77054538\n",
      "Głosy na Trumpa: 71995714\n"
     ]
    }
   ],
   "source": [
    "#sumowanie\n",
    "print(\"Głosy na Bidena: \" + str(biden_votes.votes.sum()))\n",
    "print(\"Głosy na Trumpa: \" + str(trump_votes.votes.sum()))"
   ],
   "metadata": {
    "collapsed": false,
    "pycharm": {
     "name": "#%%\n"
    }
   }
  },
  {
   "cell_type": "code",
   "execution_count": 25,
   "outputs": [
    {
     "data": {
      "text/plain": "          state           county      candidate   votes\n0      Delaware      Kent County      Joe Biden   44518\n1      Delaware      Kent County   Donald Trump   40976\n2      Delaware      Kent County   Jo Jorgensen    1044\n3      Delaware      Kent County  Howie Hawkins     420\n4      Delaware      Kent County      Write-ins       0\n...         ...              ...            ...     ...\n31132   Arizona  Maricopa County   Donald Trump  983690\n31133   Arizona  Maricopa County   Jo Jorgensen   31214\n31134   Arizona    Mohave County   Donald Trump   78218\n31135   Arizona    Mohave County      Joe Biden   24769\n31136   Arizona    Mohave County   Jo Jorgensen    1296\n\n[31137 rows x 4 columns]",
      "text/html": "<div>\n<style scoped>\n    .dataframe tbody tr th:only-of-type {\n        vertical-align: middle;\n    }\n\n    .dataframe tbody tr th {\n        vertical-align: top;\n    }\n\n    .dataframe thead th {\n        text-align: right;\n    }\n</style>\n<table border=\"1\" class=\"dataframe\">\n  <thead>\n    <tr style=\"text-align: right;\">\n      <th></th>\n      <th>state</th>\n      <th>county</th>\n      <th>candidate</th>\n      <th>votes</th>\n    </tr>\n  </thead>\n  <tbody>\n    <tr>\n      <th>0</th>\n      <td>Delaware</td>\n      <td>Kent County</td>\n      <td>Joe Biden</td>\n      <td>44518</td>\n    </tr>\n    <tr>\n      <th>1</th>\n      <td>Delaware</td>\n      <td>Kent County</td>\n      <td>Donald Trump</td>\n      <td>40976</td>\n    </tr>\n    <tr>\n      <th>2</th>\n      <td>Delaware</td>\n      <td>Kent County</td>\n      <td>Jo Jorgensen</td>\n      <td>1044</td>\n    </tr>\n    <tr>\n      <th>3</th>\n      <td>Delaware</td>\n      <td>Kent County</td>\n      <td>Howie Hawkins</td>\n      <td>420</td>\n    </tr>\n    <tr>\n      <th>4</th>\n      <td>Delaware</td>\n      <td>Kent County</td>\n      <td>Write-ins</td>\n      <td>0</td>\n    </tr>\n    <tr>\n      <th>...</th>\n      <td>...</td>\n      <td>...</td>\n      <td>...</td>\n      <td>...</td>\n    </tr>\n    <tr>\n      <th>31132</th>\n      <td>Arizona</td>\n      <td>Maricopa County</td>\n      <td>Donald Trump</td>\n      <td>983690</td>\n    </tr>\n    <tr>\n      <th>31133</th>\n      <td>Arizona</td>\n      <td>Maricopa County</td>\n      <td>Jo Jorgensen</td>\n      <td>31214</td>\n    </tr>\n    <tr>\n      <th>31134</th>\n      <td>Arizona</td>\n      <td>Mohave County</td>\n      <td>Donald Trump</td>\n      <td>78218</td>\n    </tr>\n    <tr>\n      <th>31135</th>\n      <td>Arizona</td>\n      <td>Mohave County</td>\n      <td>Joe Biden</td>\n      <td>24769</td>\n    </tr>\n    <tr>\n      <th>31136</th>\n      <td>Arizona</td>\n      <td>Mohave County</td>\n      <td>Jo Jorgensen</td>\n      <td>1296</td>\n    </tr>\n  </tbody>\n</table>\n<p>31137 rows × 4 columns</p>\n</div>"
     },
     "execution_count": 25,
     "metadata": {},
     "output_type": "execute_result"
    }
   ],
   "source": [
    "#Usuwanie kolumny\n",
    "df.drop('party', axis=1)"
   ],
   "metadata": {
    "collapsed": false,
    "pycharm": {
     "name": "#%%\n"
    }
   }
  },
  {
   "cell_type": "markdown",
   "source": [
    "### Scikit-Learn"
   ],
   "metadata": {
    "collapsed": false
   }
  },
  {
   "cell_type": "code",
   "execution_count": 26,
   "outputs": [],
   "source": [
    "from sklearn.cluster import KMeans\n",
    "from sklearn.linear_model import LinearRegression\n",
    "from sklearn.metrics import mean_absolute_error,adjusted_rand_score\n",
    "from sklearn.model_selection import train_test_split\n",
    "from sklearn.preprocessing import LabelEncoder,Normalizer"
   ],
   "metadata": {
    "collapsed": false,
    "pycharm": {
     "name": "#%%\n"
    }
   }
  },
  {
   "cell_type": "code",
   "execution_count": 27,
   "outputs": [
    {
     "data": {
      "text/plain": "array([[-0.09329552, -0.41101549, -0.24390685],\n       [-0.8998636 ,  1.13256199, -0.62636206],\n       [-0.85811088, -1.44714294, -0.49765388]])"
     },
     "execution_count": 27,
     "metadata": {},
     "output_type": "execute_result"
    }
   ],
   "source": [
    "#Wyznaczanie srodków klastrów\n",
    "X = np.random.randn(6,3)\n",
    "k_means = KMeans(n_clusters=3, random_state=0).fit(X)\n",
    "k_means.cluster_centers_"
   ],
   "metadata": {
    "collapsed": false,
    "pycharm": {
     "name": "#%%\n"
    }
   }
  },
  {
   "cell_type": "code",
   "execution_count": 28,
   "outputs": [
    {
     "data": {
      "text/plain": "array([  0.5,   1. , -12. ])"
     },
     "execution_count": 28,
     "metadata": {},
     "output_type": "execute_result"
    }
   ],
   "source": [
    "#Regresja liniowa\n",
    "y = np.dot(X, np.array([0.5, 1,-12])) +2.5\n",
    "reg = LinearRegression().fit(X, y)\n",
    "reg.coef_"
   ],
   "metadata": {
    "collapsed": false,
    "pycharm": {
     "name": "#%%\n"
    }
   }
  },
  {
   "cell_type": "code",
   "execution_count": 29,
   "outputs": [
    {
     "name": "stdout",
     "output_type": "stream",
     "text": [
      "[1 1 1 0 1 0 1 0 0 0 0 1 0 1 0 0 0 0 1 0 1 1 1 0 0]\n"
     ]
    }
   ],
   "source": [
    "#Enkodowanie danych kategorycznych\n",
    "\n",
    "y = np.array([\"M\" if np.random.random()>0.5 else \"F\" for _ in range(25) ])\n",
    "enc = LabelEncoder()\n",
    "print(enc.fit_transform(y))"
   ],
   "metadata": {
    "collapsed": false,
    "pycharm": {
     "name": "#%%\n"
    }
   }
  },
  {
   "cell_type": "code",
   "execution_count": 30,
   "outputs": [
    {
     "data": {
      "text/plain": "4.183333333333334"
     },
     "execution_count": 30,
     "metadata": {},
     "output_type": "execute_result"
    }
   ],
   "source": [
    "#Obliczanie błędu średniego z wartości bezwzględnej\n",
    "y_pred = [2.5,-0.45,-10]\n",
    "y_true = [3, -0.5, 2]\n",
    "mean_absolute_error(y_true, y_pred)\n"
   ],
   "metadata": {
    "collapsed": false,
    "pycharm": {
     "name": "#%%\n"
    }
   }
  },
  {
   "cell_type": "code",
   "execution_count": 31,
   "outputs": [
    {
     "name": "stdout",
     "output_type": "stream",
     "text": [
      "array([[0.        , 0.        , 0.        , 0.        , 0.        ],\n",
      "       [0.        , 0.        , 0.        , 0.        , 0.        ],\n",
      "       [0.        , 0.70890666, 0.70530231, 0.        , 0.        ],\n",
      "       [0.        , 0.        , 0.69023711, 0.72358326, 0.        ],\n",
      "       [0.        , 0.71520874, 0.        , 0.69891091, 0.        ],\n",
      "       [0.49199517, 0.51764913, 0.        , 0.52591162, 0.46194924],\n",
      "       [0.        , 0.71529333, 0.        , 0.69882433, 0.        ],\n",
      "       [1.        , 0.        , 0.        , 0.        , 0.        ],\n",
      "       [0.        , 0.        , 0.        , 0.        , 0.        ],\n",
      "       [0.        , 0.        , 0.65550624, 0.75518976, 0.        ],\n",
      "       [0.        , 0.        , 0.        , 1.        , 0.        ],\n",
      "       [0.        , 0.        , 0.        , 0.        , 0.        ],\n",
      "       [0.        , 0.        , 0.        , 1.        , 0.        ],\n",
      "       [1.        , 0.        , 0.        , 0.        , 0.        ],\n",
      "       [0.64507384, 0.        , 0.        , 0.        , 0.76412024],\n",
      "       [0.        , 0.        , 0.        , 0.        , 1.        ],\n",
      "       [0.        , 0.        , 0.        , 0.        , 1.        ],\n",
      "       [0.        , 0.        , 0.        , 0.        , 0.        ]])\n"
     ]
    }
   ],
   "source": [
    "#Normalizacja\n",
    "X = np.random.random((25,5))\n",
    "y = np.array([\"M\" if np.random.random()>0.5 else \"F\" for _ in range(25) ])\n",
    "X[X<0.7] = 0\n",
    "\n",
    "X_train, X_test, y_train, y_test = train_test_split(X,y, random_state=0)\n",
    "\n",
    "scaler = Normalizer().fit(X_train)\n",
    "normalized_X = scaler.transform(X_train)\n",
    "pprint(normalized_X)"
   ],
   "metadata": {
    "collapsed": false,
    "pycharm": {
     "name": "#%%\n"
    }
   }
  },
  {
   "cell_type": "markdown",
   "source": [
    "### Matplotlib"
   ],
   "metadata": {
    "collapsed": false
   }
  },
  {
   "cell_type": "code",
   "execution_count": 32,
   "outputs": [],
   "source": [
    "import pandas as pd\n",
    "import matplotlib.pyplot as plt\n",
    "from pandas_datareader import data as web"
   ],
   "metadata": {
    "collapsed": false,
    "pycharm": {
     "name": "#%%\n"
    }
   }
  },
  {
   "cell_type": "code",
   "execution_count": 33,
   "outputs": [],
   "source": [
    "start = pd.to_datetime('2020-10-1')\n",
    "end = pd.to_datetime('2020-11-15')\n",
    "btc_data = web.DataReader(\"BTC-USD\", \"yahoo\", start , end).Close\n",
    "eth_data = web.DataReader(\"ETH-USD\", \"yahoo\", start , end).Close"
   ],
   "metadata": {
    "collapsed": false,
    "pycharm": {
     "name": "#%%\n"
    }
   }
  },
  {
   "cell_type": "code",
   "execution_count": 34,
   "outputs": [
    {
     "data": {
      "text/plain": "<Figure size 432x288 with 2 Axes>",
      "image/png": "[encoded data removed]"
     },
     "metadata": {
      "needs_background": "light"
     },
     "output_type": "display_data"
    }
   ],
   "source": [
    "#Tworzenie wykresu\n",
    "dates = pd.date_range(start,end)\n",
    "\n",
    "fig, axs = plt.subplots(2)\n",
    "axs[0].plot(dates,btc_data)\n",
    "axs[1].plot(dates,eth_data)\n",
    "plt.show()"
   ],
   "metadata": {
    "collapsed": false,
    "pycharm": {
     "name": "#%%\n"
    }
   }
  },
  {
   "cell_type": "code",
   "execution_count": 35,
   "outputs": [
    {
     "data": {
      "text/plain": "<Figure size 432x288 with 2 Axes>",
      "image/png": "[encoded data removed]"
     },
     "metadata": {
      "needs_background": "light"
     },
     "output_type": "display_data"
    }
   ],
   "source": [
    "#Zmiana kolorów\n",
    "dates = pd.date_range(start,end)\n",
    "\n",
    "fig, axs = plt.subplots(2)\n",
    "axs[0].plot(dates,btc_data,c='r')\n",
    "axs[1].plot(dates,eth_data,c='g')\n",
    "plt.show()\n"
   ],
   "metadata": {
    "collapsed": false,
    "pycharm": {
     "name": "#%%\n"
    }
   }
  },
  {
   "cell_type": "code",
   "execution_count": 36,
   "outputs": [
    {
     "data": {
      "text/plain": "<Figure size 432x288 with 1 Axes>",
      "image/png": "[encoded data removed]"
     },
     "metadata": {
      "needs_background": "light"
     },
     "output_type": "display_data"
    }
   ],
   "source": [
    "#dodanie legendy i zapisywanie\n",
    "plt.plot(dates,btc_data,c='r',label = \"Bitcoin\")\n",
    "plt.plot(dates,eth_data,c='g',label = \"Ethereum\")\n",
    "plt.legend(loc='best')\n",
    "plt.savefig('test.png')\n",
    "plt.show()"
   ],
   "metadata": {
    "collapsed": false,
    "pycharm": {
     "name": "#%%\n"
    }
   }
  },
  {
   "cell_type": "code",
   "execution_count": 37,
   "outputs": [
    {
     "data": {
      "text/plain": "<Figure size 432x288 with 1 Axes>",
      "image/png": "[encoded data removed]"
     },
     "metadata": {
      "needs_background": "light"
     },
     "output_type": "display_data"
    }
   ],
   "source": [
    "#Zmiana stylu linii\n",
    "fig, ax = plt.subplots()\n",
    "ax.plot(dates,btc_data,c='r',ls='solid')\n",
    "ax.plot(dates,eth_data,c='g',ls ='--')\n",
    "plt.show()\n"
   ],
   "metadata": {
    "collapsed": false,
    "pycharm": {
     "name": "#%%\n"
    }
   }
  },
  {
   "cell_type": "markdown",
   "source": [
    "### Seaborn"
   ],
   "metadata": {
    "collapsed": false
   }
  },
  {
   "cell_type": "code",
   "execution_count": 38,
   "outputs": [],
   "source": [
    "import seaborn as sns\n",
    "from perlin_noise import PerlinNoise"
   ],
   "metadata": {
    "collapsed": false,
    "pycharm": {
     "name": "#%%\n"
    }
   }
  },
  {
   "cell_type": "code",
   "execution_count": 39,
   "outputs": [
    {
     "data": {
      "text/plain": "  species     island  bill_length_mm  bill_depth_mm  flipper_length_mm  \\\n0  Adelie  Torgersen            39.1           18.7              181.0   \n1  Adelie  Torgersen            39.5           17.4              186.0   \n2  Adelie  Torgersen            40.3           18.0              195.0   \n3  Adelie  Torgersen             NaN            NaN                NaN   \n4  Adelie  Torgersen            36.7           19.3              193.0   \n\n   body_mass_g     sex  \n0       3750.0    Male  \n1       3800.0  Female  \n2       3250.0  Female  \n3          NaN     NaN  \n4       3450.0  Female  ",
      "text/html": "<div>\n<style scoped>\n    .dataframe tbody tr th:only-of-type {\n        vertical-align: middle;\n    }\n\n    .dataframe tbody tr th {\n        vertical-align: top;\n    }\n\n    .dataframe thead th {\n        text-align: right;\n    }\n</style>\n<table border=\"1\" class=\"dataframe\">\n  <thead>\n    <tr style=\"text-align: right;\">\n      <th></th>\n      <th>species</th>\n      <th>island</th>\n      <th>bill_length_mm</th>\n      <th>bill_depth_mm</th>\n      <th>flipper_length_mm</th>\n      <th>body_mass_g</th>\n      <th>sex</th>\n    </tr>\n  </thead>\n  <tbody>\n    <tr>\n      <th>0</th>\n      <td>Adelie</td>\n      <td>Torgersen</td>\n      <td>39.1</td>\n      <td>18.7</td>\n      <td>181.0</td>\n      <td>3750.0</td>\n      <td>Male</td>\n    </tr>\n    <tr>\n      <th>1</th>\n      <td>Adelie</td>\n      <td>Torgersen</td>\n      <td>39.5</td>\n      <td>17.4</td>\n      <td>186.0</td>\n      <td>3800.0</td>\n      <td>Female</td>\n    </tr>\n    <tr>\n      <th>2</th>\n      <td>Adelie</td>\n      <td>Torgersen</td>\n      <td>40.3</td>\n      <td>18.0</td>\n      <td>195.0</td>\n      <td>3250.0</td>\n      <td>Female</td>\n    </tr>\n    <tr>\n      <th>3</th>\n      <td>Adelie</td>\n      <td>Torgersen</td>\n      <td>NaN</td>\n      <td>NaN</td>\n      <td>NaN</td>\n      <td>NaN</td>\n      <td>NaN</td>\n    </tr>\n    <tr>\n      <th>4</th>\n      <td>Adelie</td>\n      <td>Torgersen</td>\n      <td>36.7</td>\n      <td>19.3</td>\n      <td>193.0</td>\n      <td>3450.0</td>\n      <td>Female</td>\n    </tr>\n  </tbody>\n</table>\n</div>"
     },
     "execution_count": 39,
     "metadata": {},
     "output_type": "execute_result"
    }
   ],
   "source": [
    "#Wczytywanie przykładowych danych\n",
    "penguins = sns.load_dataset(\"penguins\")\n",
    "penguins.head(5)"
   ],
   "metadata": {
    "collapsed": false,
    "pycharm": {
     "name": "#%%\n"
    }
   }
  },
  {
   "cell_type": "code",
   "execution_count": 40,
   "outputs": [
    {
     "data": {
      "text/plain": "<AxesSubplot:xlabel='island', ylabel='count'>"
     },
     "execution_count": 40,
     "metadata": {},
     "output_type": "execute_result"
    },
    {
     "data": {
      "text/plain": "<Figure size 432x288 with 1 Axes>",
      "image/png": "[encoded data removed]"
     },
     "metadata": {
      "needs_background": "light"
     },
     "output_type": "display_data"
    }
   ],
   "source": [
    "#Wykres zliczający\n",
    "sns.countplot(x=\"island\",data=penguins,palette=\"Greens_d\")"
   ],
   "metadata": {
    "collapsed": false,
    "pycharm": {
     "name": "#%%\n"
    }
   }
  },
  {
   "cell_type": "code",
   "execution_count": 41,
   "outputs": [
    {
     "data": {
      "text/plain": "<AxesSubplot:xlabel='flipper_length_mm', ylabel='sex'>"
     },
     "execution_count": 41,
     "metadata": {},
     "output_type": "execute_result"
    },
    {
     "data": {
      "text/plain": "<Figure size 432x288 with 1 Axes>",
      "image/png": "[encoded data removed]"
     },
     "metadata": {
      "needs_background": "light"
     },
     "output_type": "display_data"
    }
   ],
   "source": [
    "#Wykres wiolinowy\n",
    "sns.violinplot(x=\"flipper_length_mm\",y=\"sex\",data=penguins)\n"
   ],
   "metadata": {
    "collapsed": false,
    "pycharm": {
     "name": "#%%\n"
    }
   }
  },
  {
   "cell_type": "code",
   "execution_count": 42,
   "outputs": [
    {
     "data": {
      "text/plain": "<AxesSubplot:xlabel='body_mass_g', ylabel='flipper_length_mm'>"
     },
     "execution_count": 42,
     "metadata": {},
     "output_type": "execute_result"
    },
    {
     "data": {
      "text/plain": "<Figure size 432x288 with 1 Axes>",
      "image/png": "[encoded data removed]"
     },
     "metadata": {
      "needs_background": "light"
     },
     "output_type": "display_data"
    }
   ],
   "source": [
    "#Wykres regresji\n",
    "sns.regplot(x=\"body_mass_g\", y=\"flipper_length_mm\",data=penguins)\n"
   ],
   "metadata": {
    "collapsed": false,
    "pycharm": {
     "name": "#%%\n"
    }
   }
  },
  {
   "cell_type": "code",
   "execution_count": 43,
   "outputs": [
    {
     "data": {
      "text/plain": "<AxesSubplot:>"
     },
     "execution_count": 43,
     "metadata": {},
     "output_type": "execute_result"
    },
    {
     "data": {
      "text/plain": "<Figure size 432x288 with 2 Axes>",
      "image/png": "[encoded data removed]"
     },
     "metadata": {
      "needs_background": "light"
     },
     "output_type": "display_data"
    }
   ],
   "source": [
    "#heatmapa\n",
    "noise = PerlinNoise(octaves=25,seed=1)\n",
    "xpix, ypix = 100, 100\n",
    "data = [[noise([i/xpix, j/ypix]) for j in range(xpix)] for i in range(ypix)]\n",
    "sns.heatmap(data,vmin=-1,vmax=1)"
   ],
   "metadata": {
    "collapsed": false,
    "pycharm": {
     "name": "#%%\n"
    }
   }
  },
  {
   "cell_type": "markdown",
   "source": [
    "### Bokeh"
   ],
   "metadata": {
    "collapsed": false
   }
  },
  {
   "cell_type": "code",
   "execution_count": 44,
   "outputs": [],
   "source": [
    "from bokeh.plotting import figure\n",
    "from bokeh.io import output_file, show\n",
    "from bokeh.models.widgets import Panel, Tabs\n",
    "from bokeh.layouts import gridplot"
   ],
   "metadata": {
    "collapsed": false,
    "pycharm": {
     "name": "#%%\n"
    }
   }
  },
  {
   "cell_type": "code",
   "execution_count": 45,
   "outputs": [
    {
     "data": {
      "text/plain": "                       name                         album  \\\n0                    Sparky            Mandy & The Jungle   \n1                shuga rush  EVERYTHING YOU HEARD IS TRUE   \n2                     LITT!                         LITT!   \n3  Confident / Feeling Cool               Enjoy Your Life   \n4                wanted you                         rare.   \n5                    Kasala                      Pioneers   \n6                   Pull Up             Everything Pretty   \n7              take a break                         rare.   \n8                      Cash               Enjoy Your Life   \n9                 SATISFIED                        GEMINI   \n\n                artist artist_top_genre  release_date  length  popularity  \\\n0        Cruel Santino  alternative r&b          2019  144000          48   \n1  Odunsi (The Engine)          afropop          2020   89488          30   \n2                 AYLØ        indie r&b          2018  207758          40   \n3           Lady Donli     nigerian pop          2019  175135          14   \n4  Odunsi (The Engine)          afropop          2018  152049          25   \n5          DRB Lasgidi     nigerian pop          2020  184800          26   \n6          prettyboydo     nigerian pop          2018  202648          29   \n7  Odunsi (The Engine)          afropop          2018  141933          27   \n8           Lady Donli     nigerian pop          2019  187714          36   \n9             Tay Iwar  alternative r&b          2019  123082          30   \n\n   danceability  acousticness  energy  instrumentalness  liveness  loudness  \\\n0         0.666        0.8510   0.420          0.534000    0.1100    -6.699   \n1         0.710        0.0822   0.683          0.000169    0.1010    -5.640   \n2         0.836        0.2720   0.564          0.000537    0.1100    -7.127   \n3         0.894        0.7980   0.611          0.000187    0.0964    -4.961   \n4         0.702        0.1160   0.833          0.910000    0.3480    -6.044   \n5         0.803        0.1270   0.525          0.000007    0.1290   -10.034   \n6         0.818        0.4520   0.587          0.004490    0.5900    -9.840   \n7         0.808        0.6080   0.300          0.000048    0.0863   -11.213   \n8         0.846        0.2140   0.669          0.467000    0.0857    -7.822   \n9         0.555        0.9120   0.295          0.275000    0.0967   -11.038   \n\n   speechiness    tempo  time_signature  \n0       0.0829  133.015               5  \n1       0.3600  129.993               3  \n2       0.0424  130.005               4  \n3       0.1130  111.087               4  \n4       0.0447  105.115               4  \n5       0.1970  100.103               4  \n6       0.1990   95.842               4  \n7       0.0453  119.964               4  \n8       0.0441  115.008               4  \n9       0.0360   77.033               4  ",
      "text/html": "<div>\n<style scoped>\n    .dataframe tbody tr th:only-of-type {\n        vertical-align: middle;\n    }\n\n    .dataframe tbody tr th {\n        vertical-align: top;\n    }\n\n    .dataframe thead th {\n        text-align: right;\n    }\n</style>\n<table border=\"1\" class=\"dataframe\">\n  <thead>\n    <tr style=\"text-align: right;\">\n      <th></th>\n      <th>name</th>\n      <th>album</th>\n      <th>artist</th>\n      <th>artist_top_genre</th>\n      <th>release_date</th>\n      <th>length</th>\n      <th>popularity</th>\n      <th>danceability</th>\n      <th>acousticness</th>\n      <th>energy</th>\n      <th>instrumentalness</th>\n      <th>liveness</th>\n      <th>loudness</th>\n      <th>speechiness</th>\n      <th>tempo</th>\n      <th>time_signature</th>\n    </tr>\n  </thead>\n  <tbody>\n    <tr>\n      <th>0</th>\n      <td>Sparky</td>\n      <td>Mandy &amp; The Jungle</td>\n      <td>Cruel Santino</td>\n      <td>alternative r&amp;b</td>\n      <td>2019</td>\n      <td>144000</td>\n      <td>48</td>\n      <td>0.666</td>\n      <td>0.8510</td>\n      <td>0.420</td>\n      <td>0.534000</td>\n      <td>0.1100</td>\n      <td>-6.699</td>\n      <td>0.0829</td>\n      <td>133.015</td>\n      <td>5</td>\n    </tr>\n    <tr>\n      <th>1</th>\n      <td>shuga rush</td>\n      <td>EVERYTHING YOU HEARD IS TRUE</td>\n      <td>Odunsi (The Engine)</td>\n      <td>afropop</td>\n      <td>2020</td>\n      <td>89488</td>\n      <td>30</td>\n      <td>0.710</td>\n      <td>0.0822</td>\n      <td>0.683</td>\n      <td>0.000169</td>\n      <td>0.1010</td>\n      <td>-5.640</td>\n      <td>0.3600</td>\n      <td>129.993</td>\n      <td>3</td>\n    </tr>\n    <tr>\n      <th>2</th>\n      <td>LITT!</td>\n      <td>LITT!</td>\n      <td>AYLØ</td>\n      <td>indie r&amp;b</td>\n      <td>2018</td>\n      <td>207758</td>\n      <td>40</td>\n      <td>0.836</td>\n      <td>0.2720</td>\n      <td>0.564</td>\n      <td>0.000537</td>\n      <td>0.1100</td>\n      <td>-7.127</td>\n      <td>0.0424</td>\n      <td>130.005</td>\n      <td>4</td>\n    </tr>\n    <tr>\n      <th>3</th>\n      <td>Confident / Feeling Cool</td>\n      <td>Enjoy Your Life</td>\n      <td>Lady Donli</td>\n      <td>nigerian pop</td>\n      <td>2019</td>\n      <td>175135</td>\n      <td>14</td>\n      <td>0.894</td>\n      <td>0.7980</td>\n      <td>0.611</td>\n      <td>0.000187</td>\n      <td>0.0964</td>\n      <td>-4.961</td>\n      <td>0.1130</td>\n      <td>111.087</td>\n      <td>4</td>\n    </tr>\n    <tr>\n      <th>4</th>\n      <td>wanted you</td>\n      <td>rare.</td>\n      <td>Odunsi (The Engine)</td>\n      <td>afropop</td>\n      <td>2018</td>\n      <td>152049</td>\n      <td>25</td>\n      <td>0.702</td>\n      <td>0.1160</td>\n      <td>0.833</td>\n      <td>0.910000</td>\n      <td>0.3480</td>\n      <td>-6.044</td>\n      <td>0.0447</td>\n      <td>105.115</td>\n      <td>4</td>\n    </tr>\n    <tr>\n      <th>5</th>\n      <td>Kasala</td>\n      <td>Pioneers</td>\n      <td>DRB Lasgidi</td>\n      <td>nigerian pop</td>\n      <td>2020</td>\n      <td>184800</td>\n      <td>26</td>\n      <td>0.803</td>\n      <td>0.1270</td>\n      <td>0.525</td>\n      <td>0.000007</td>\n      <td>0.1290</td>\n      <td>-10.034</td>\n      <td>0.1970</td>\n      <td>100.103</td>\n      <td>4</td>\n    </tr>\n    <tr>\n      <th>6</th>\n      <td>Pull Up</td>\n      <td>Everything Pretty</td>\n      <td>prettyboydo</td>\n      <td>nigerian pop</td>\n      <td>2018</td>\n      <td>202648</td>\n      <td>29</td>\n      <td>0.818</td>\n      <td>0.4520</td>\n      <td>0.587</td>\n      <td>0.004490</td>\n      <td>0.5900</td>\n      <td>-9.840</td>\n      <td>0.1990</td>\n      <td>95.842</td>\n      <td>4</td>\n    </tr>\n    <tr>\n      <th>7</th>\n      <td>take a break</td>\n      <td>rare.</td>\n      <td>Odunsi (The Engine)</td>\n      <td>afropop</td>\n      <td>2018</td>\n      <td>141933</td>\n      <td>27</td>\n      <td>0.808</td>\n      <td>0.6080</td>\n      <td>0.300</td>\n      <td>0.000048</td>\n      <td>0.0863</td>\n      <td>-11.213</td>\n      <td>0.0453</td>\n      <td>119.964</td>\n      <td>4</td>\n    </tr>\n    <tr>\n      <th>8</th>\n      <td>Cash</td>\n      <td>Enjoy Your Life</td>\n      <td>Lady Donli</td>\n      <td>nigerian pop</td>\n      <td>2019</td>\n      <td>187714</td>\n      <td>36</td>\n      <td>0.846</td>\n      <td>0.2140</td>\n      <td>0.669</td>\n      <td>0.467000</td>\n      <td>0.0857</td>\n      <td>-7.822</td>\n      <td>0.0441</td>\n      <td>115.008</td>\n      <td>4</td>\n    </tr>\n    <tr>\n      <th>9</th>\n      <td>SATISFIED</td>\n      <td>GEMINI</td>\n      <td>Tay Iwar</td>\n      <td>alternative r&amp;b</td>\n      <td>2019</td>\n      <td>123082</td>\n      <td>30</td>\n      <td>0.555</td>\n      <td>0.9120</td>\n      <td>0.295</td>\n      <td>0.275000</td>\n      <td>0.0967</td>\n      <td>-11.038</td>\n      <td>0.0360</td>\n      <td>77.033</td>\n      <td>4</td>\n    </tr>\n  </tbody>\n</table>\n</div>"
     },
     "execution_count": 45,
     "metadata": {},
     "output_type": "execute_result"
    }
   ],
   "source": [
    "songs = pd.read_csv(\"nigerian_spotify_songs1.csv\")\n",
    "songs.head(10)\n"
   ],
   "metadata": {
    "collapsed": false,
    "pycharm": {
     "name": "#%%\n"
    }
   }
  },
  {
   "cell_type": "code",
   "execution_count": 46,
   "outputs": [],
   "source": [
    "#Specyfikacja zapisu pliku html\n",
    "output_file(\"index.html\")"
   ],
   "metadata": {
    "collapsed": false,
    "pycharm": {
     "name": "#%%\n"
    }
   }
  },
  {
   "cell_type": "code",
   "execution_count": 47,
   "outputs": [
    {
     "data": {
      "text/plain": "GlyphRenderer(id='1035', ...)",
      "text/html": "<div style=\"display: table;\"><div style=\"display: table-row;\"><div style=\"display: table-cell;\"><b title=\"bokeh.models.renderers.GlyphRenderer\">GlyphRenderer</b>(</div><div style=\"display: table-cell;\">id&nbsp;=&nbsp;'1035', <span id=\"1038\" style=\"cursor: pointer;\">&hellip;)</span></div></div><div class=\"1037\" style=\"display: none;\"><div style=\"display: table-cell;\"></div><div style=\"display: table-cell;\">data_source&nbsp;=&nbsp;ColumnDataSource(id='1032', ...),</div></div><div class=\"1037\" style=\"display: none;\"><div style=\"display: table-cell;\"></div><div style=\"display: table-cell;\">glyph&nbsp;=&nbsp;Circle(id='1033', ...),</div></div><div class=\"1037\" style=\"display: none;\"><div style=\"display: table-cell;\"></div><div style=\"display: table-cell;\">hover_glyph&nbsp;=&nbsp;None,</div></div><div class=\"1037\" style=\"display: none;\"><div style=\"display: table-cell;\"></div><div style=\"display: table-cell;\">js_event_callbacks&nbsp;=&nbsp;{},</div></div><div class=\"1037\" style=\"display: none;\"><div style=\"display: table-cell;\"></div><div style=\"display: table-cell;\">js_property_callbacks&nbsp;=&nbsp;{},</div></div><div class=\"1037\" style=\"display: none;\"><div style=\"display: table-cell;\"></div><div style=\"display: table-cell;\">level&nbsp;=&nbsp;'glyph',</div></div><div class=\"1037\" style=\"display: none;\"><div style=\"display: table-cell;\"></div><div style=\"display: table-cell;\">muted&nbsp;=&nbsp;False,</div></div><div class=\"1037\" style=\"display: none;\"><div style=\"display: table-cell;\"></div><div style=\"display: table-cell;\">muted_glyph&nbsp;=&nbsp;None,</div></div><div class=\"1037\" style=\"display: none;\"><div style=\"display: table-cell;\"></div><div style=\"display: table-cell;\">name&nbsp;=&nbsp;None,</div></div><div class=\"1037\" style=\"display: none;\"><div style=\"display: table-cell;\"></div><div style=\"display: table-cell;\">nonselection_glyph&nbsp;=&nbsp;Circle(id='1034', ...),</div></div><div class=\"1037\" style=\"display: none;\"><div style=\"display: table-cell;\"></div><div style=\"display: table-cell;\">selection_glyph&nbsp;=&nbsp;None,</div></div><div class=\"1037\" style=\"display: none;\"><div style=\"display: table-cell;\"></div><div style=\"display: table-cell;\">subscribed_events&nbsp;=&nbsp;[],</div></div><div class=\"1037\" style=\"display: none;\"><div style=\"display: table-cell;\"></div><div style=\"display: table-cell;\">tags&nbsp;=&nbsp;[],</div></div><div class=\"1037\" style=\"display: none;\"><div style=\"display: table-cell;\"></div><div style=\"display: table-cell;\">view&nbsp;=&nbsp;CDSView(id='1036', ...),</div></div><div class=\"1037\" style=\"display: none;\"><div style=\"display: table-cell;\"></div><div style=\"display: table-cell;\">visible&nbsp;=&nbsp;True,</div></div><div class=\"1037\" style=\"display: none;\"><div style=\"display: table-cell;\"></div><div style=\"display: table-cell;\">x_range_name&nbsp;=&nbsp;'default',</div></div><div class=\"1037\" style=\"display: none;\"><div style=\"display: table-cell;\"></div><div style=\"display: table-cell;\">y_range_name&nbsp;=&nbsp;'default')</div></div></div>\n<script>\n(function() {\n  var expanded = false;\n  var ellipsis = document.getElementById(\"1038\");\n  ellipsis.addEventListener(\"click\", function() {\n    var rows = document.getElementsByClassName(\"1037\");\n    for (var i = 0; i < rows.length; i++) {\n      var el = rows[i];\n      el.style.display = expanded ? \"none\" : \"table-row\";\n    }\n    ellipsis.innerHTML = expanded ? \"&hellip;)\" : \"&lsaquo;&lsaquo;&lsaquo;\";\n    expanded = !expanded;\n  });\n})();\n</script>\n"
     },
     "execution_count": 47,
     "metadata": {},
     "output_type": "execute_result"
    }
   ],
   "source": [
    "#Wyświetlanie wykresu punktowego\n",
    "p1 = figure(plot_width=600,x_axis_label='rok',y_axis_label='tempo')\n",
    "x = songs.release_date.unique()\n",
    "x = np.sort(np.array(x))\n",
    "y = songs.groupby(by='release_date').mean()['tempo']\n",
    "p1.circle(x,y,fill_color=\"blue\")\n"
   ],
   "metadata": {
    "collapsed": false,
    "pycharm": {
     "name": "#%%\n"
    }
   }
  },
  {
   "cell_type": "code",
   "execution_count": 48,
   "outputs": [
    {
     "data": {
      "text/plain": "GlyphRenderer(id='1073', ...)",
      "text/html": "<div style=\"display: table;\"><div style=\"display: table-row;\"><div style=\"display: table-cell;\"><b title=\"bokeh.models.renderers.GlyphRenderer\">GlyphRenderer</b>(</div><div style=\"display: table-cell;\">id&nbsp;=&nbsp;'1073', <span id=\"1076\" style=\"cursor: pointer;\">&hellip;)</span></div></div><div class=\"1075\" style=\"display: none;\"><div style=\"display: table-cell;\"></div><div style=\"display: table-cell;\">data_source&nbsp;=&nbsp;ColumnDataSource(id='1070', ...),</div></div><div class=\"1075\" style=\"display: none;\"><div style=\"display: table-cell;\"></div><div style=\"display: table-cell;\">glyph&nbsp;=&nbsp;Line(id='1071', ...),</div></div><div class=\"1075\" style=\"display: none;\"><div style=\"display: table-cell;\"></div><div style=\"display: table-cell;\">hover_glyph&nbsp;=&nbsp;None,</div></div><div class=\"1075\" style=\"display: none;\"><div style=\"display: table-cell;\"></div><div style=\"display: table-cell;\">js_event_callbacks&nbsp;=&nbsp;{},</div></div><div class=\"1075\" style=\"display: none;\"><div style=\"display: table-cell;\"></div><div style=\"display: table-cell;\">js_property_callbacks&nbsp;=&nbsp;{},</div></div><div class=\"1075\" style=\"display: none;\"><div style=\"display: table-cell;\"></div><div style=\"display: table-cell;\">level&nbsp;=&nbsp;'glyph',</div></div><div class=\"1075\" style=\"display: none;\"><div style=\"display: table-cell;\"></div><div style=\"display: table-cell;\">muted&nbsp;=&nbsp;False,</div></div><div class=\"1075\" style=\"display: none;\"><div style=\"display: table-cell;\"></div><div style=\"display: table-cell;\">muted_glyph&nbsp;=&nbsp;None,</div></div><div class=\"1075\" style=\"display: none;\"><div style=\"display: table-cell;\"></div><div style=\"display: table-cell;\">name&nbsp;=&nbsp;None,</div></div><div class=\"1075\" style=\"display: none;\"><div style=\"display: table-cell;\"></div><div style=\"display: table-cell;\">nonselection_glyph&nbsp;=&nbsp;Line(id='1072', ...),</div></div><div class=\"1075\" style=\"display: none;\"><div style=\"display: table-cell;\"></div><div style=\"display: table-cell;\">selection_glyph&nbsp;=&nbsp;None,</div></div><div class=\"1075\" style=\"display: none;\"><div style=\"display: table-cell;\"></div><div style=\"display: table-cell;\">subscribed_events&nbsp;=&nbsp;[],</div></div><div class=\"1075\" style=\"display: none;\"><div style=\"display: table-cell;\"></div><div style=\"display: table-cell;\">tags&nbsp;=&nbsp;[],</div></div><div class=\"1075\" style=\"display: none;\"><div style=\"display: table-cell;\"></div><div style=\"display: table-cell;\">view&nbsp;=&nbsp;CDSView(id='1074', ...),</div></div><div class=\"1075\" style=\"display: none;\"><div style=\"display: table-cell;\"></div><div style=\"display: table-cell;\">visible&nbsp;=&nbsp;True,</div></div><div class=\"1075\" style=\"display: none;\"><div style=\"display: table-cell;\"></div><div style=\"display: table-cell;\">x_range_name&nbsp;=&nbsp;'default',</div></div><div class=\"1075\" style=\"display: none;\"><div style=\"display: table-cell;\"></div><div style=\"display: table-cell;\">y_range_name&nbsp;=&nbsp;'default')</div></div></div>\n<script>\n(function() {\n  var expanded = false;\n  var ellipsis = document.getElementById(\"1076\");\n  ellipsis.addEventListener(\"click\", function() {\n    var rows = document.getElementsByClassName(\"1075\");\n    for (var i = 0; i < rows.length; i++) {\n      var el = rows[i];\n      el.style.display = expanded ? \"none\" : \"table-row\";\n    }\n    ellipsis.innerHTML = expanded ? \"&hellip;)\" : \"&lsaquo;&lsaquo;&lsaquo;\";\n    expanded = !expanded;\n  });\n})();\n</script>\n"
     },
     "execution_count": 48,
     "metadata": {},
     "output_type": "execute_result"
    }
   ],
   "source": [
    "#Wykres liniowy\n",
    "p2 = figure(plot_width = 600,_axis_label='rok',y_axis_label='taneczność')\n",
    "y = np.array(songs.groupby(by='release_date').mean()['danceability'])\n",
    "p2.line(x,y.round(2),line_width=3)"
   ],
   "metadata": {
    "collapsed": false,
    "pycharm": {
     "name": "#%%\n"
    }
   }
  },
  {
   "cell_type": "code",
   "execution_count": 49,
   "outputs": [],
   "source": [
    "#Tworzenie layoutu\n",
    "layout = gridplot([[p1],[p2]])"
   ],
   "metadata": {
    "collapsed": false,
    "pycharm": {
     "name": "#%%\n"
    }
   }
  },
  {
   "cell_type": "code",
   "execution_count": 50,
   "outputs": [],
   "source": [
    "#Wyświetlanie wykresów\n",
    "show(layout)"
   ],
   "metadata": {
    "collapsed": false,
    "pycharm": {
     "name": "#%%\n"
    }
   }
  }
 ],
 "metadata": {
  "kernelspec": {
   "display_name": "Python 3",
   "language": "python",
   "name": "python3"
  },
  "language_info": {
   "codemirror_mode": {
    "name": "ipython",
    "version": 2
   },
   "file_extension": ".py",
   "mimetype": "text/x-python",
   "name": "python",
   "nbconvert_exporter": "python",
   "pygments_lexer": "ipython2",
   "version": "2.7.6"
  }
 },
 "nbformat": 4,
 "nbformat_minor": 0
}