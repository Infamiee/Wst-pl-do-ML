{
 "cells": [
  {
   "cell_type": "code",
   "execution_count": 1,
   "metadata": {
    "collapsed": true
   },
   "outputs": [],
   "source": [
    "import argparse\n",
    "import os"
   ]
  },
  {
   "cell_type": "code",
   "execution_count": 2,
   "outputs": [],
   "source": [
    "#Otworzenie pliku samym open\n",
    "file = open('files/first_file_kowalczyk.txt')"
   ],
   "metadata": {
    "collapsed": false,
    "pycharm": {
     "name": "#%%\n"
    }
   }
  },
  {
   "cell_type": "code",
   "execution_count": 3,
   "outputs": [],
   "source": [
    "#Otworzenie używając try finally\n",
    "file = open('files/first_file_kowalczyk.txt')\n",
    "try:\n",
    "\tdata = file.read()\n",
    "finally:\n",
    "\tfile.close()"
   ],
   "metadata": {
    "collapsed": false,
    "pycharm": {
     "name": "#%%\n"
    }
   }
  },
  {
   "cell_type": "code",
   "execution_count": 4,
   "outputs": [],
   "source": [
    "#Otworzenie używając with\n",
    "with open('files/first_file_kowalczyk.txt') as file:\n",
    "\tdata = file.read()"
   ],
   "metadata": {
    "collapsed": false,
    "pycharm": {
     "name": "#%%\n"
    }
   }
  },
  {
   "cell_type": "code",
   "execution_count": 5,
   "outputs": [],
   "source": [
    "#Używanie trybów\n",
    "with open('files/first_file_kowalczyk.txt','r') as file:\n",
    "\tfile.read()"
   ],
   "metadata": {
    "collapsed": false,
    "pycharm": {
     "name": "#%%\n"
    }
   }
  },
  {
   "cell_type": "code",
   "execution_count": 6,
   "outputs": [
    {
     "name": "stdout",
     "output_type": "stream",
     "text": [
      "<class '_io.TextIOWrapper'>\n"
     ]
    }
   ],
   "source": [
    "#Klasa obiektu pliku tekstowego\n",
    "with open('files/first_file_kowalczyk.txt') as file:\n",
    "\tprint(type(file))"
   ],
   "metadata": {
    "collapsed": false,
    "pycharm": {
     "name": "#%%\n"
    }
   }
  },
  {
   "cell_type": "code",
   "execution_count": 7,
   "outputs": [
    {
     "name": "stdout",
     "output_type": "stream",
     "text": [
      "<class '_io.BufferedReader'>\n"
     ]
    }
   ],
   "source": [
    "#Klasa obiektu do odczytywania pliku binarnie\n",
    "with open('files/first_file_kowalczyk.txt','rb') as file:\n",
    "\tprint(type(file))"
   ],
   "metadata": {
    "collapsed": false,
    "pycharm": {
     "name": "#%%\n"
    }
   }
  },
  {
   "cell_type": "code",
   "execution_count": 8,
   "outputs": [
    {
     "name": "stdout",
     "output_type": "stream",
     "text": [
      "<class '_io.BufferedWriter'>\n"
     ]
    }
   ],
   "source": [
    "#Klasa do zapisywania do pliku binarnego\n",
    "with open('files/first_file_kowalczyk.txt','wb') as file:\n",
    "\tprint(type(file))"
   ],
   "metadata": {
    "collapsed": false,
    "pycharm": {
     "name": "#%%\n"
    }
   }
  },
  {
   "cell_type": "code",
   "execution_count": 9,
   "outputs": [
    {
     "name": "stdout",
     "output_type": "stream",
     "text": [
      "<class '_io.FileIO'>\n"
     ]
    }
   ],
   "source": [
    "#Klasa obiektu pliku raw\n",
    "with open('files/first_file_kowalczyk.txt','rb',buffering=0) as file:\n",
    "\tprint(type(file))"
   ],
   "metadata": {
    "collapsed": false,
    "pycharm": {
     "name": "#%%\n"
    }
   }
  },
  {
   "cell_type": "code",
   "execution_count": 10,
   "outputs": [
    {
     "name": "stdout",
     "output_type": "stream",
     "text": [
      "porygon2\n",
      "porygon-z\n",
      "primeape\n",
      "prinplup\n",
      "probopass\n",
      "psyduck\n",
      "pumpkaboo\n",
      "pupitar\n",
      "purrloin\n"
     ]
    }
   ],
   "source": [
    "#Wczytywanie całego pliku\n",
    "with open('files/read_file_kowalczyk.txt','r') as file:\n",
    "\tprint(file.read())"
   ],
   "metadata": {
    "collapsed": false,
    "pycharm": {
     "name": "#%%\n"
    }
   }
  },
  {
   "cell_type": "code",
   "execution_count": 11,
   "outputs": [
    {
     "name": "stdout",
     "output_type": "stream",
     "text": [
      "por\n",
      "ygo\n",
      "n2\n",
      "\n"
     ]
    }
   ],
   "source": [
    "#Wczytanie po kilka znaków\n",
    "with open('files/read_file_kowalczyk.txt','r') as file:\n",
    "\tprint(file.readline(3))\n",
    "\tprint(file.readline(3))\n",
    "\tprint(file.readline(3))"
   ],
   "metadata": {
    "collapsed": false,
    "pycharm": {
     "name": "#%%\n"
    }
   }
  },
  {
   "cell_type": "code",
   "execution_count": 12,
   "outputs": [
    {
     "name": "stdout",
     "output_type": "stream",
     "text": [
      "['porygon2\\n', 'porygon-z\\n', 'primeape\\n', 'prinplup\\n', 'probopass\\n', 'psyduck\\n', 'pumpkaboo\\n', 'pupitar\\n', 'purrloin']\n"
     ]
    }
   ],
   "source": [
    "#Wczytanie pliku metodą readlines\n",
    "with open('files/read_file_kowalczyk.txt','r') as file:\n",
    "\tprint(file.readlines())"
   ],
   "metadata": {
    "collapsed": false,
    "pycharm": {
     "name": "#%%\n"
    }
   }
  },
  {
   "cell_type": "code",
   "execution_count": 13,
   "outputs": [
    {
     "name": "stdout",
     "output_type": "stream",
     "text": [
      "porygon2\n",
      "\n",
      "porygon-z\n",
      "\n",
      "primeape\n",
      "\n",
      "prinplup\n",
      "\n",
      "probopass\n",
      "\n",
      "psyduck\n",
      "\n",
      "pumpkaboo\n",
      "\n",
      "pupitar\n",
      "\n",
      "purrloin\n"
     ]
    }
   ],
   "source": [
    "#Iteracja po linii\n",
    "with open('files/read_file_kowalczyk.txt','r') as file:\n",
    "\tfor line in file:\n",
    "\t\tprint(line)"
   ],
   "metadata": {
    "collapsed": false,
    "pycharm": {
     "name": "#%%\n"
    }
   }
  },
  {
   "cell_type": "code",
   "execution_count": 14,
   "outputs": [],
   "source": [
    "#Zapisywanie do pliku\n",
    "with open('files/read_file_kowalczyk.txt', 'r') as file:\n",
    "\tlines = list(file)\n",
    "with open('files/read_file_kowalczyk.txt', 'w') as file:\n",
    "\tfile.writelines(reversed(lines))"
   ],
   "metadata": {
    "collapsed": false,
    "pycharm": {
     "name": "#%%\n"
    }
   }
  },
  {
   "cell_type": "code",
   "execution_count": 15,
   "outputs": [
    {
     "name": "stdout",
     "output_type": "stream",
     "text": [
      "b''\n",
      "b'\\x89'\n",
      "b'PN'\n",
      "b'G\\r\\n'\n",
      "b'\\x1a\\n\\x00\\x00'\n"
     ]
    }
   ],
   "source": [
    "#Otwieranie obrazu w trybie binarnym\n",
    "with open('files/cyberpunk_kowalczyk.png','rb') as file:\n",
    "\tfor i in range(5):\n",
    "\t\tprint(file.read(i))"
   ],
   "metadata": {
    "collapsed": false,
    "pycharm": {
     "name": "#%%\n"
    }
   }
  },
  {
   "cell_type": "code",
   "execution_count": 16,
   "outputs": [],
   "source": [
    "#Dos2Unix\n",
    "def str2unix(input_str: str) -> str:\n",
    "    r_str = input_str.replace('\\r\\n', '\\n')\n",
    "    return r_str\n",
    "\n",
    "\n",
    "def dos2unix(source_file: str, dest_file: str):\n",
    "    with open(source_file, 'r') as reader:\n",
    "        dos_content = reader.read()\n",
    "    unix_content = str2unix(dos_content)\n",
    "    with open(dest_file, 'w') as writer:\n",
    "        writer.write(unix_content)\n",
    "\n",
    "dos2unix('files/dos2unix_text_kowalczyk.txt','files/dos2unix_text_unix_kowalczyk.txt')"
   ],
   "metadata": {
    "collapsed": false,
    "pycharm": {
     "name": "#%%\n"
    }
   }
  },
  {
   "cell_type": "code",
   "execution_count": 17,
   "outputs": [
    {
     "name": "stdout",
     "output_type": "stream",
     "text": [
      "purrloinpupitar\n",
      "pumpkaboo\n",
      "psyduck\n",
      "probopass\n",
      "prinplup\n",
      "primeape\n",
      "porygon-z\n",
      "porygon2\n",
      "\n",
      "pikachu\n"
     ]
    }
   ],
   "source": [
    "#Dołączanie do pliku\n",
    "with open('files/read_file_kowalczyk.txt','a') as file:\n",
    "\tfile.write('\\npikachu')\n",
    "\n",
    "with open('files/read_file_kowalczyk.txt','r') as file:\n",
    "\tprint(file.read())"
   ],
   "metadata": {
    "collapsed": false,
    "pycharm": {
     "name": "#%%\n"
    }
   }
  },
  {
   "cell_type": "code",
   "execution_count": 18,
   "outputs": [],
   "source": [
    "#Praca z wieloma plikami\n",
    "d_path = 'files/read_file_kowalczyk.txt'\n",
    "d_r_path = 'files/read_file_reversed_kowalczyk.txt'\n",
    "with open(d_path, 'r') as reader, open(d_r_path, 'w') as writer:\n",
    "    pokemons = reader.readlines()\n",
    "    writer.writelines(reversed(pokemons))\n"
   ],
   "metadata": {
    "collapsed": false,
    "pycharm": {
     "name": "#%%\n"
    }
   }
  },
  {
   "cell_type": "code",
   "execution_count": 19,
   "outputs": [],
   "source": [
    "#Własny menadżer treści\n",
    "class my_file_reader():\n",
    "\tdef __init__(self, file_path):\n",
    "\t\tself.__path = file_path\n",
    "\t\tself.__file_object = None\n",
    "\tdef __enter__(self):\n",
    "\t\tself.__file_object = open(self.__path)\n",
    "\t\treturn self\n",
    "\n",
    "\tdef __exit__(self, type, val, tb):\n",
    "\t\tself.__file_object.close()\n",
    "with my_file_reader('files/read_file_kowalczyk.txt') as file:\n",
    "\tpass"
   ],
   "metadata": {
    "collapsed": false,
    "pycharm": {
     "name": "#%%\n"
    }
   }
  },
  {
   "cell_type": "code",
   "execution_count": 20,
   "outputs": [
    {
     "name": "stdout",
     "output_type": "stream",
     "text": [
      "00013, b'IHDR', b'W\\xcb[s'\n",
      "00009, b'pHYs', b'2\\x9e\\x05\\xc1'\n",
      "00017, b'tEXt', b'A^\\xbc('\n",
      "00019, b'tEXt', b'\\x1b\\xcfw0'\n",
      "00045, b'zTXt', b'\\x97\\xaf,\\xb8'\n",
      "2886860, b'IDAT', b'\\xd9\\x85\\x97o'\n",
      "00000, b'IEND', b'\\xaeB`\\x82'\n"
     ]
    }
   ],
   "source": [
    "#Używanie customowej klasy do odczytywania pliku png\n",
    "class PngReader():\n",
    "    # Every .png file contains this in the header.  Use it to verify\n",
    "    # the file is indeed a .png.\n",
    "    _expected_magic = b'\\x89PNG\\r\\n\\x1a\\n'\n",
    "\n",
    "    def __init__(self, file_path):\n",
    "        # Ensure the file has the right extension\n",
    "        if not file_path.endswith('.png'):\n",
    "            raise NameError(\"File must be a '.png' extension\")\n",
    "        self.__path = file_path\n",
    "        self.__file_object = None\n",
    "\n",
    "    def __enter__(self):\n",
    "        self.__file_object = open(self.__path, 'rb')\n",
    "\n",
    "        magic = self.__file_object.read(8)\n",
    "        if magic != self._expected_magic:\n",
    "            raise TypeError(\"The File is not a properly formatted .png file!\")\n",
    "\n",
    "        return self\n",
    "\n",
    "    def __exit__(self, type, val, tb):\n",
    "        self.__file_object.close()\n",
    "\n",
    "    def __iter__(self):\n",
    "        # This and __next__() are used to create a custom iterator\n",
    "        # See https://dbader.org/blog/python-iterators\n",
    "        return self\n",
    "\n",
    "    def __next__(self):\n",
    "        # Read the file in \"Chunks\"\n",
    "        # See https://en.wikipedia.org/wiki/Portable_Network_Graphics#%22Chunks%22_within_the_file\n",
    "\n",
    "        initial_data = self.__file_object.read(4)\n",
    "\n",
    "        # The file hasn't been opened or reached EOF.  This means we\n",
    "        # can't go any further so stop the iteration by raising the\n",
    "        # StopIteration.\n",
    "        if self.__file_object is None or initial_data == b'':\n",
    "            raise StopIteration\n",
    "        else:\n",
    "            # Each chunk has a len, type, data (based on len) and crc\n",
    "            # Grab these values and return them as a tuple\n",
    "            chunk_len = int.from_bytes(initial_data, byteorder='big')\n",
    "            chunk_type = self.__file_object.read(4)\n",
    "            chunk_data = self.__file_object.read(chunk_len)\n",
    "            chunk_crc = self.__file_object.read(4)\n",
    "            return chunk_len, chunk_type, chunk_data, chunk_crc\n",
    "\n",
    "with PngReader('files/cyberpunk_kowalczyk.png') as file:\n",
    "\tfor l, t, d, c in file:\n",
    "\t\tprint(f\"{l:05}, {t}, {c}\")"
   ],
   "metadata": {
    "collapsed": false,
    "pycharm": {
     "name": "#%%\n"
    }
   }
  }
 ],
 "metadata": {
  "kernelspec": {
   "display_name": "Python 3",
   "language": "python",
   "name": "python3"
  },
  "language_info": {
   "codemirror_mode": {
    "name": "ipython",
    "version": 2
   },
   "file_extension": ".py",
   "mimetype": "text/x-python",
   "name": "python",
   "nbconvert_exporter": "python",
   "pygments_lexer": "ipython2",
   "version": "2.7.6"
  }
 },
 "nbformat": 4,
 "nbformat_minor": 0
}