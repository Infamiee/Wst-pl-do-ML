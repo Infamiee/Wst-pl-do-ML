{
 "cells": [
  {
   "cell_type": "code",
   "execution_count": 1,
   "metadata": {
    "collapsed": true
   },
   "outputs": [],
   "source": [
    "import numpy as np\n",
    "import pandas as pd\n",
    "import itertools\n",
    "from tabulate import tabulate\n",
    "\n"
   ]
  },
  {
   "cell_type": "markdown",
   "source": [
    "##### Funkcja aktywacji\n",
    "\n",
    "$\n",
    "f(x) =\n",
    "     \\begin{cases}\n",
    "       \\text{0,} &\\quad\\text{for x}<\\text{0} \\\\\n",
    "       \\text{1,} &\\quad\\text{for x}\\ge0 \\\\\n",
    "     \\end{cases}\n",
    "$\n",
    "\n"
   ],
   "metadata": {
    "collapsed": false,
    "pycharm": {
     "name": "#%% md\n"
    }
   }
  },
  {
   "cell_type": "code",
   "execution_count": 2,
   "outputs": [],
   "source": [
    "def activation_function(data:float)->float:\n",
    "    return 0 if data<0 else 1"
   ],
   "metadata": {
    "collapsed": false,
    "pycharm": {
     "name": "#%%\n"
    }
   }
  },
  {
   "cell_type": "markdown",
   "source": [
    "##### Obliczanie warstwy\n",
    "\n",
    "$\\begin{bmatrix}\n",
    "1\\\\x_1\\\\x_2\\\\...\\\\x_m\n",
    "\\end{bmatrix}\n",
    "\\cdot$\n",
    "$\\begin{bmatrix}\n",
    "w_{1.1} & w_{1.2} &\\cdots & w_{1.n}\n",
    "\\\\w_{2.1} & w_{2.2} &\\cdots & w_{2.n}\n",
    "\\\\w_{3.1} & w_{3.2} &\\cdots & w_{3.n}\n",
    "\\\\\\vdots & \\vdots & \\ddots & \\vdots\n",
    "\\\\w_{m.1} & w_{m.2} &\\cdots & w_{m.n}\n",
    "\\end{bmatrix}$\n",
    "$=\n",
    "\\begin{bmatrix}\n",
    "o_1\\\\o_2\\\\o_3\\\\...\\\\xn\n",
    "\\end{bmatrix}$"
   ],
   "metadata": {
    "collapsed": false,
    "pycharm": {
     "name": "#%% md\n"
    }
   }
  },
  {
   "cell_type": "code",
   "execution_count": 3,
   "outputs": [],
   "source": [
    "def compute_layer(inputs:list,weights:list,activation_function = None):\n",
    "\tinputs = np.array([1]  +inputs).transpose()\n",
    "\tweights = np.array(weights).transpose()\n",
    "\toutput = inputs.dot(weights)\n",
    "\tif type(output) is not np.ndarray:\n",
    "\t\toutput = [output]\n",
    "\telse:\n",
    "\t\toutput.T\n",
    "\tif activation_function:\n",
    "\t\toutput = [(activation_function(x),x) for x in output]\n",
    "\treturn output"
   ],
   "metadata": {
    "collapsed": false,
    "pycharm": {
     "name": "#%%\n"
    }
   }
  },
  {
   "cell_type": "markdown",
   "source": [
    "##### Wypisywanie danych warstwy"
   ],
   "metadata": {
    "collapsed": false,
    "pycharm": {
     "name": "#%% md\n"
    }
   }
  },
  {
   "cell_type": "code",
   "execution_count": 4,
   "outputs": [],
   "source": [
    "def print_layer(inputs, weights, bias,outputs):\n",
    "\tto_print = []\n",
    "\tfor idx,input in enumerate(inputs):\n",
    "\t\tact_out,raw_out = outputs[idx]\n",
    "\t\tto_print.append([input,weights,bias,raw_out,act_out])\n",
    "\tprint(tabulate(to_print,headers=[\"Wejście\",\"Wagi\",\"Bias\",\"Bez aktywacji\",\"Z aktywacją\"]))\n",
    "\n"
   ],
   "metadata": {
    "collapsed": false,
    "pycharm": {
     "name": "#%%\n"
    }
   }
  },
  {
   "cell_type": "markdown",
   "source": [
    "#### Bramka AND"
   ],
   "metadata": {
    "collapsed": false,
    "pycharm": {
     "name": "#%% md\n"
    }
   }
  },
  {
   "cell_type": "code",
   "execution_count": 5,
   "outputs": [
    {
     "name": "stdout",
     "output_type": "stream",
     "text": [
      "Wejście    Wagi      Bias    Bez aktywacji    Z aktywacją\n",
      "---------  ------  ------  ---------------  -------------\n",
      "[0, 0]     [1, 1]    -1.5             -1.5              0\n",
      "[0, 1]     [1, 1]    -1.5             -0.5              0\n",
      "[1, 0]     [1, 1]    -1.5             -0.5              0\n",
      "[1, 1]     [1, 1]    -1.5              0.5              1\n"
     ]
    }
   ],
   "source": [
    "bias = -1.5\n",
    "weights = [1,1]\n",
    "inputs = [list(p) for p in itertools.product([0,1],repeat=2)]\n",
    "outputs = []\n",
    "for idx,input in enumerate(inputs):\n",
    "\tout,raw_out = compute_layer(input,[bias]+weights,activation_function=activation_function)[0]\n",
    "\toutputs.append((out,raw_out))\n",
    "\n",
    "print_layer(inputs,weights,bias,outputs)"
   ],
   "metadata": {
    "collapsed": false,
    "pycharm": {
     "name": "#%%\n"
    }
   }
  },
  {
   "cell_type": "markdown",
   "source": [
    "#### Bramka OR"
   ],
   "metadata": {
    "collapsed": false
   }
  },
  {
   "cell_type": "code",
   "execution_count": 6,
   "outputs": [
    {
     "name": "stdout",
     "output_type": "stream",
     "text": [
      "Wejście    Wagi      Bias    Bez aktywacji    Z aktywacją\n",
      "---------  ------  ------  ---------------  -------------\n",
      "[0, 0]     [1, 1]    -0.5             -0.5              0\n",
      "[0, 1]     [1, 1]    -0.5              0.5              1\n",
      "[1, 0]     [1, 1]    -0.5              0.5              1\n",
      "[1, 1]     [1, 1]    -0.5              1.5              1\n"
     ]
    }
   ],
   "source": [
    "bias = -0.5\n",
    "weights = [1,1]\n",
    "inputs = [list(p) for p in itertools.product([0,1],repeat=2)]\n",
    "outputs = []\n",
    "for input in inputs:\n",
    "\tout,raw_out = compute_layer(input,[bias]+weights,activation_function=activation_function)[0]\n",
    "\toutputs.append((out,raw_out))\n",
    "\n",
    "print_layer(inputs,weights,bias,outputs)"
   ],
   "metadata": {
    "collapsed": false,
    "pycharm": {
     "name": "#%%\n"
    }
   }
  },
  {
   "cell_type": "markdown",
   "source": [
    "#### Bramka NOT"
   ],
   "metadata": {
    "collapsed": false
   }
  },
  {
   "cell_type": "code",
   "execution_count": 7,
   "outputs": [
    {
     "name": "stdout",
     "output_type": "stream",
     "text": [
      "Wejście    Wagi      Bias    Bez aktywacji    Z aktywacją\n",
      "---------  ------  ------  ---------------  -------------\n",
      "[1]        [-2]         1               -1              0\n",
      "[0]        [-2]         1                1              1\n"
     ]
    }
   ],
   "source": [
    "bias = 1\n",
    "weights = [-2]\n",
    "inputs = [list(p) for p in itertools.product([1,0],repeat=1)]\n",
    "outputs = []\n",
    "for input in inputs:\n",
    "\tout,raw_out = compute_layer(input,[bias]+weights,activation_function=activation_function)[0]\n",
    "\toutputs.append((out,raw_out))\n",
    "\n",
    "print_layer(inputs,weights,bias,outputs)"
   ],
   "metadata": {
    "collapsed": false,
    "pycharm": {
     "name": "#%%\n"
    }
   }
  },
  {
   "cell_type": "markdown",
   "source": [
    "#### Bramka XNOR\n",
    "$\n",
    "A\t\\odot B =(\\overline{\\rm A}\\land \\overline{\\rm B}) \\lor( A \\land B)\n",
    "$\n",
    "\n",
    "$\n",
    "\\overline{\\rm A}\\land \\overline{\\rm B} \\quad i \\ \\quad A \\land B\n",
    "$"
   ],
   "metadata": {
    "collapsed": false
   }
  },
  {
   "cell_type": "code",
   "execution_count": 8,
   "outputs": [
    {
     "name": "stdout",
     "output_type": "stream",
     "text": [
      "Wejście    Wagi                Bias             Bez aktywacji    Z aktywacją\n",
      "---------  ------------------  ---------------  ---------------  -------------\n",
      "[1, 1]     [[-1, -1], [1, 1]]  [[0.5], [-1.5]]  [-1.5, 0.5]      [0, 1]\n",
      "[1, 0]     [[-1, -1], [1, 1]]  [[0.5], [-1.5]]  [-0.5, -0.5]     [0, 0]\n",
      "[0, 1]     [[-1, -1], [1, 1]]  [[0.5], [-1.5]]  [-0.5, -0.5]     [0, 0]\n",
      "[0, 0]     [[-1, -1], [1, 1]]  [[0.5], [-1.5]]  [0.5, -1.5]      [1, 0]\n"
     ]
    }
   ],
   "source": [
    "bias = [[0.5],[-1.5]]\n",
    "weights = [[-1,-1],[1,1]]\n",
    "inputs = [list(p) for p in itertools.product([1,0],repeat=2)]\n",
    "outputs = []\n",
    "for input in inputs:\n",
    "\tresults = compute_layer(input,np.concatenate((bias,weights),axis=1),activation_function=activation_function)\n",
    "\toutputs.append(([result[0]for result in results],[result[1]for result in results]))\n",
    "print_layer(inputs,weights,bias,outputs)"
   ],
   "metadata": {
    "collapsed": false,
    "pycharm": {
     "name": "#%%\n"
    }
   }
  },
  {
   "cell_type": "markdown",
   "source": [
    "$\n",
    "(\\overline{\\rm A}\\land \\overline{\\rm B}) \\lor( A \\land B)\n",
    "$"
   ],
   "metadata": {
    "collapsed": false
   }
  },
  {
   "cell_type": "code",
   "execution_count": 9,
   "outputs": [
    {
     "name": "stdout",
     "output_type": "stream",
     "text": [
      "Wejście    Wagi    Bias      Bez aktywacji    Z aktywacją\n",
      "---------  ------  ------  ---------------  -------------\n",
      "[0, 1]     [1, 1]  [-0.5]              0.5              1\n",
      "[0, 0]     [1, 1]  [-0.5]             -0.5              0\n",
      "[0, 0]     [1, 1]  [-0.5]             -0.5              0\n",
      "[1, 0]     [1, 1]  [-0.5]              0.5              1\n"
     ]
    }
   ],
   "source": [
    "bias = [-0.5]\n",
    "weights = [1,1]\n",
    "inputs = [x[0] for x in outputs]\n",
    "outputs = []\n",
    "for input in inputs:\n",
    "\tresults = compute_layer(input,bias+weights,activation_function=activation_function)[0]\n",
    "\toutputs.append(results)\n",
    "\n",
    "print_layer(inputs,weights,bias,outputs)\n",
    "\n"
   ],
   "metadata": {
    "collapsed": false,
    "pycharm": {
     "name": "#%%\n"
    }
   }
  },
  {
   "cell_type": "markdown",
   "source": [
    "#### Bramka XOR\n",
    "\n",
    "$\n",
    "A\\oplus B = (A\\lor B) \\land (\\overline{\\rm A}\\lor\\overline{\\rm B})\n",
    "$\n",
    "\n",
    "$\n",
    "A\\lor B \\quad i \\quad \\overline{\\rm A}\\lor\\overline{\\rm B}\n",
    "$"
   ],
   "metadata": {
    "collapsed": false
   }
  },
  {
   "cell_type": "code",
   "execution_count": 10,
   "outputs": [
    {
     "name": "stdout",
     "output_type": "stream",
     "text": [
      "Wejście    Wagi                Bias             Bez aktywacji    Z aktywacją\n",
      "---------  ------------------  ---------------  ---------------  -------------\n",
      "[1, 1]     [[1, 1], [-1, -1]]  [[-0.5], [1.5]]  [1.5, -0.5]      [1, 0]\n",
      "[1, 0]     [[1, 1], [-1, -1]]  [[-0.5], [1.5]]  [0.5, 0.5]       [1, 1]\n",
      "[0, 1]     [[1, 1], [-1, -1]]  [[-0.5], [1.5]]  [0.5, 0.5]       [1, 1]\n",
      "[0, 0]     [[1, 1], [-1, -1]]  [[-0.5], [1.5]]  [-0.5, 1.5]      [0, 1]\n"
     ]
    }
   ],
   "source": [
    "bias = [[-0.5],[1.5]]\n",
    "weights = [[1,1],[-1,-1]]\n",
    "inputs = [list(p) for p in itertools.product([1,0],repeat=2)]\n",
    "outputs = []\n",
    "for input in inputs:\n",
    "\tresults = compute_layer(input,np.concatenate((bias,weights),axis=1),activation_function=activation_function)\n",
    "\toutputs.append(([result[0]for result in results],[result[1]for result in results]))\n",
    "print_layer(inputs,weights,bias,outputs)\n"
   ],
   "metadata": {
    "collapsed": false,
    "pycharm": {
     "name": "#%%\n"
    }
   }
  },
  {
   "cell_type": "markdown",
   "source": [
    "$(A\\lor B) \\land (\\overline{\\rm A}\\lor\\overline{\\rm B})$\n"
   ],
   "metadata": {
    "collapsed": false
   }
  },
  {
   "cell_type": "code",
   "execution_count": 11,
   "outputs": [
    {
     "name": "stdout",
     "output_type": "stream",
     "text": [
      "Wejście    Wagi    Bias      Bez aktywacji    Z aktywacją\n",
      "---------  ------  ------  ---------------  -------------\n",
      "[1, 0]     [1, 1]  [-1.5]             -0.5              0\n",
      "[1, 1]     [1, 1]  [-1.5]              0.5              1\n",
      "[1, 1]     [1, 1]  [-1.5]              0.5              1\n",
      "[0, 1]     [1, 1]  [-1.5]             -0.5              0\n"
     ]
    }
   ],
   "source": [
    "bias = [-1.5]\n",
    "weights = [1,1]\n",
    "inputs = [x[0] for x in outputs]\n",
    "outputs = []\n",
    "for input in inputs:\n",
    "\tresults = compute_layer(input,bias+weights,activation_function=activation_function)[0]\n",
    "\toutputs.append(results)\n",
    "\n",
    "print_layer(inputs,weights,bias,outputs)"
   ],
   "metadata": {
    "collapsed": false,
    "pycharm": {
     "name": "#%%\n"
    }
   }
  }
 ],
 "metadata": {
  "kernelspec": {
   "display_name": "Python 3",
   "language": "python",
   "name": "python3"
  },
  "language_info": {
   "codemirror_mode": {
    "name": "ipython",
    "version": 2
   },
   "file_extension": ".py",
   "mimetype": "text/x-python",
   "name": "python",
   "nbconvert_exporter": "python",
   "pygments_lexer": "ipython2",
   "version": "2.7.6"
  }
 },
 "nbformat": 4,
 "nbformat_minor": 0
}