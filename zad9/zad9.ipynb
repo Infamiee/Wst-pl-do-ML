{
 "cells": [
  {
   "cell_type": "code",
   "execution_count": 1,
   "metadata": {
    "collapsed": true
   },
   "outputs": [],
   "source": [
    "import cv2 \n",
    "import imutils\n",
    "import argparse"
   ]
  },
  {
   "cell_type": "code",
   "execution_count": 2,
   "outputs": [
    {
     "name": "stdout",
     "output_type": "stream",
     "text": [
      "szerokość=1920, wysokość=1080, głębokość=3\n",
      "R=181, G=94, B=77\n"
     ]
    },
    {
     "data": {
      "text/plain": "-1"
     },
     "execution_count": 2,
     "metadata": {},
     "output_type": "execute_result"
    }
   ],
   "source": [
    "#Otwieranie obrazu i wyświetlanie info o obrazie\n",
    "filename = 'image-org.jpg'\n",
    "image = cv2.imread('images/'+filename)\n",
    "(h, w, d) = image.shape\n",
    "print(\"szerokość={}, wysokość={}, głębokość={}\".format(w, h, d))\n",
    "(B, G, R) = image[123, 14]\n",
    "print(\"R={}, G={}, B={}\".format(R, G, B))\n",
    "cv2.imshow(\"Image\",image)\n",
    "cv2.waitKey(0)"
   ],
   "metadata": {
    "collapsed": false,
    "pycharm": {
     "name": "#%%\n"
    }
   }
  },
  {
   "cell_type": "code",
   "execution_count": 3,
   "outputs": [
    {
     "data": {
      "text/plain": "-1"
     },
     "execution_count": 3,
     "metadata": {},
     "output_type": "execute_result"
    }
   ],
   "source": [
    "#Wycinanie kawałka obrazu\n",
    "piece = image[800:900,1400:1600 ]\n",
    "cv2.imshow(\"Leaf\", piece)\n",
    "cv2.imwrite(\"images/image-piece.jpg\",piece)\n",
    "cv2.waitKey(0)"
   ],
   "metadata": {
    "collapsed": false,
    "pycharm": {
     "name": "#%%\n"
    }
   }
  },
  {
   "cell_type": "code",
   "execution_count": 4,
   "outputs": [
    {
     "data": {
      "text/plain": "-1"
     },
     "execution_count": 4,
     "metadata": {},
     "output_type": "execute_result"
    }
   ],
   "source": [
    "#Zmiana rozdzielczości obrazu na stałą wartość\n",
    "resized = cv2.resize(image, (600, 600))\n",
    "cv2.imshow(\"Stała rozdzielczość \", resized)\n",
    "cv2.imwrite(\"images/image-fixed-resize.jpg\",resized)\n",
    "cv2.waitKey(0)"
   ],
   "metadata": {
    "collapsed": false,
    "pycharm": {
     "name": "#%%\n"
    }
   }
  },
  {
   "cell_type": "code",
   "execution_count": 5,
   "outputs": [
    {
     "data": {
      "text/plain": "-1"
     },
     "execution_count": 5,
     "metadata": {},
     "output_type": "execute_result"
    }
   ],
   "source": [
    "#Zmiana rozdzielczośći z zachowaniem proporcji\n",
    "resized = imutils.resize(image, width=600)\n",
    "cv2.imshow(\"z zachowaniem proporcji\", resized)\n",
    "cv2.imwrite(\"images/image-ratio-resize.jpg\",resized)\n",
    "cv2.waitKey(0)\n"
   ],
   "metadata": {
    "collapsed": false,
    "pycharm": {
     "name": "#%%\n"
    }
   }
  },
  {
   "cell_type": "code",
   "execution_count": 6,
   "outputs": [
    {
     "data": {
      "text/plain": "-1"
     },
     "execution_count": 6,
     "metadata": {},
     "output_type": "execute_result"
    }
   ],
   "source": [
    "#Rotacja obrazu\n",
    "rotated = imutils.rotate(image, 60)\n",
    "cv2.imshow(\"Imutils Rotation\", rotated)\n",
    "cv2.imwrite(\"images/image-rotated.jpg\",rotated)\n",
    "cv2.waitKey(0)"
   ],
   "metadata": {
    "collapsed": false,
    "pycharm": {
     "name": "#%%\n"
    }
   }
  },
  {
   "cell_type": "code",
   "execution_count": 7,
   "outputs": [
    {
     "data": {
      "text/plain": "-1"
     },
     "execution_count": 7,
     "metadata": {},
     "output_type": "execute_result"
    }
   ],
   "source": [
    "#Rotacja obrazu w granicach\n",
    "rotated = imutils.rotate_bound(image, 45)\n",
    "cv2.imshow(\"Imutils Bound Rotation\", rotated)\n",
    "cv2.imwrite(\"images/image-rotated-inbound.jpg\",rotated)\n",
    "cv2.waitKey(0)\n"
   ],
   "metadata": {
    "collapsed": false,
    "pycharm": {
     "name": "#%%\n"
    }
   }
  },
  {
   "cell_type": "code",
   "execution_count": 8,
   "outputs": [
    {
     "data": {
      "text/plain": "-1"
     },
     "execution_count": 8,
     "metadata": {},
     "output_type": "execute_result"
    }
   ],
   "source": [
    "#Rozmycie obrazu\n",
    "blurred = cv2.GaussianBlur(image, (15, 15), 0)\n",
    "cv2.imshow(\"Blurred\", blurred)\n",
    "cv2.imwrite(\"images/image-blurred.jpg\",blurred)\n",
    "cv2.waitKey(0)\n"
   ],
   "metadata": {
    "collapsed": false,
    "pycharm": {
     "name": "#%%\n"
    }
   }
  },
  {
   "cell_type": "code",
   "execution_count": 9,
   "outputs": [
    {
     "data": {
      "text/plain": "-1"
     },
     "execution_count": 9,
     "metadata": {},
     "output_type": "execute_result"
    }
   ],
   "source": [
    "#Rysowanie na obrazie\n",
    "output = image.copy()\n",
    "h,w,d=image.shape\n",
    "cv2.circle(output,(int(w/2)-200,int(h/2)-200),50, (0, 0, 0), 5)\n",
    "cv2.line(output,(int(w/2)-150,int(h/2)-220),(int(w/2)-100,int(h/2)),(0,0,0),5)\n",
    "cv2.rectangle(output,(int(w/2)-100,int(h/2)),(int(w/2)+100,int(h/2)+200),(0,0,255),25)\n",
    "cv2.putText(output, \"That's a nice game\", (int(w/2),500),cv2.FONT_ITALIC,2.5, (123, 214, 15), 7)\n",
    "cv2.imshow(\"Rectangle\", output)\n",
    "cv2.imwrite(\"images/image-painted.jpg\",output)\n",
    "cv2.waitKey(0)\n"
   ],
   "metadata": {
    "collapsed": false,
    "pycharm": {
     "name": "#%%\n"
    }
   }
  },
  {
   "cell_type": "code",
   "execution_count": 10,
   "outputs": [
    {
     "data": {
      "text/plain": "-1"
     },
     "execution_count": 10,
     "metadata": {},
     "output_type": "execute_result"
    }
   ],
   "source": [
    "#Zamiana kolorów na odcienie szarości\n",
    "image = cv2.imread(\"images/pokemons.jpg\")\n",
    "gray = cv2.cvtColor(image, cv2.COLOR_BGR2GRAY)\n",
    "cv2.imshow(\"Gray\", gray)\n",
    "cv2.imwrite(\"images/pokemons-gray.jpg\",gray)\n",
    "cv2.waitKey(0)"
   ],
   "metadata": {
    "collapsed": false,
    "pycharm": {
     "name": "#%%\n"
    }
   }
  },
  {
   "cell_type": "code",
   "execution_count": 11,
   "outputs": [
    {
     "data": {
      "text/plain": "-1"
     },
     "execution_count": 11,
     "metadata": {},
     "output_type": "execute_result"
    }
   ],
   "source": [
    "#Używanie algorytmu Canny do wykrycia krawędzi w obrazie\n",
    "edged = cv2.Canny(gray, 50, 150)\n",
    "cv2.imshow(\"Edged\", edged)\n",
    "cv2.imwrite(\"images/pokemons-edged.jpg\",edged)\n",
    "cv2.waitKey(0)"
   ],
   "metadata": {
    "collapsed": false,
    "pycharm": {
     "name": "#%%\n"
    }
   }
  },
  {
   "cell_type": "code",
   "execution_count": 12,
   "outputs": [
    {
     "data": {
      "text/plain": "-1"
     },
     "execution_count": 12,
     "metadata": {},
     "output_type": "execute_result"
    }
   ],
   "source": [
    "thresh = cv2.threshold(gray, 240, 255, cv2.THRESH_BINARY_INV)[1]\n",
    "cv2.imshow(\"Thresh\", thresh)\n",
    "cv2.imwrite(\"images/pokemons-thresh.jpg\",thresh)\n",
    "cv2.waitKey(0)\n"
   ],
   "metadata": {
    "collapsed": false,
    "pycharm": {
     "name": "#%%\n"
    }
   }
  },
  {
   "cell_type": "code",
   "execution_count": 13,
   "outputs": [
    {
     "data": {
      "text/plain": "-1"
     },
     "execution_count": 13,
     "metadata": {},
     "output_type": "execute_result"
    }
   ],
   "source": [
    "#Znajdowanie i rysowanie konturów\n",
    "cnts = cv2.findContours(thresh.copy(), cv2.RETR_EXTERNAL,\n",
    "\tcv2.CHAIN_APPROX_SIMPLE)\n",
    "cnts = imutils.grab_contours(cnts)\n",
    "output = image.copy()\n",
    "cv2.drawContours(output, cnts, -1, (255, 0, 0), 2)\n",
    "cv2.imshow(\"Contours\", output)\n",
    "cv2.imwrite(\"images/pokemons-contours.jpg\",output)\n",
    "cv2.waitKey(0)"
   ],
   "metadata": {
    "collapsed": false,
    "pycharm": {
     "name": "#%%\n"
    }
   }
  },
  {
   "cell_type": "code",
   "execution_count": 14,
   "outputs": [
    {
     "data": {
      "text/plain": "-1"
     },
     "execution_count": 14,
     "metadata": {},
     "output_type": "execute_result"
    }
   ],
   "source": [
    "#Erozja\n",
    "mask = thresh.copy()\n",
    "mask = cv2.erode(mask, None, iterations=3)\n",
    "cv2.imshow(\"Eroded\", mask)\n",
    "cv2.imwrite(\"images/pokemons-eroded.jpg\",mask)\n",
    "cv2.waitKey(0)"
   ],
   "metadata": {
    "collapsed": false,
    "pycharm": {
     "name": "#%%\n"
    }
   }
  },
  {
   "cell_type": "code",
   "execution_count": 15,
   "outputs": [
    {
     "data": {
      "text/plain": "-1"
     },
     "execution_count": 15,
     "metadata": {},
     "output_type": "execute_result"
    }
   ],
   "source": [
    "#Dylatacja\n",
    "mask = thresh.copy()\n",
    "mask = cv2.dilate(mask, None, iterations=5)\n",
    "cv2.imshow(\"Dilated\", mask)\n",
    "cv2.imwrite(\"images/pokemons-dilated.jpg\",mask)\n",
    "cv2.waitKey(0)\n"
   ],
   "metadata": {
    "collapsed": false,
    "pycharm": {
     "name": "#%%\n"
    }
   }
  },
  {
   "cell_type": "code",
   "execution_count": 16,
   "outputs": [
    {
     "name": "stdout",
     "output_type": "stream",
     "text": [
      "[[0 0 0 ... 0 0 0]\n",
      " [0 0 0 ... 0 0 0]\n",
      " [0 0 0 ... 0 0 0]\n",
      " ...\n",
      " [0 0 0 ... 0 0 0]\n",
      " [0 0 0 ... 0 0 0]\n",
      " [0 0 0 ... 0 0 0]]\n"
     ]
    },
    {
     "data": {
      "text/plain": "-1"
     },
     "execution_count": 16,
     "metadata": {},
     "output_type": "execute_result"
    }
   ],
   "source": [
    "mask = thresh.copy()\n",
    "print(mask)\n",
    "output = cv2.bitwise_and(image, image,mask=mask)\n",
    "cv2.imshow(\"Output\", output)\n",
    "cv2.imwrite(\"images/pokemons-bitwise.jpg\",output)\n",
    "cv2.waitKey(0)"
   ],
   "metadata": {
    "collapsed": false,
    "pycharm": {
     "name": "#%%\n"
    }
   }
  }
 ],
 "metadata": {
  "kernelspec": {
   "display_name": "Python 3",
   "language": "python",
   "name": "python3"
  },
  "language_info": {
   "codemirror_mode": {
    "name": "ipython",
    "version": 2
   },
   "file_extension": ".py",
   "mimetype": "text/x-python",
   "name": "python",
   "nbconvert_exporter": "python",
   "pygments_lexer": "ipython2",
   "version": "2.7.6"
  }
 },
 "nbformat": 4,
 "nbformat_minor": 0
}