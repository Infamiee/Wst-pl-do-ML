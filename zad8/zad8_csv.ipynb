{
 "cells": [
  {
   "cell_type": "code",
   "execution_count": 1,
   "metadata": {
    "collapsed": true
   },
   "outputs": [],
   "source": [
    "import csv\n",
    "import pandas\n"
   ]
  },
  {
   "cell_type": "code",
   "execution_count": 2,
   "outputs": [
    {
     "name": "stdout",
     "output_type": "stream",
     "text": [
      "Nazwy kolumn: ['Movie_name', 'Actors', 'Crtitic_ratings', 'Release date & duration', 'User_ratings', 'Language', 'Movie_type']\n",
      "Film Good Newwz premierę miał 27 Dec 2019  i trwa  2 hrs 14 mins, średnia ocen użytkowników wynosi 3.4\n",
      "Film Dabangg 3 premierę miał 20 Dec 2019  i trwa  2 hrs 23 mins, średnia ocen użytkowników wynosi 3.2\n",
      "Film Sound Of Water premierę miał 13 Dec 2019  i trwa  2 hrs 25 mins, średnia ocen użytkowników wynosi \n",
      "Film The Body premierę miał 13 Dec 2019  i trwa  2 hrs 15 mins, średnia ocen użytkowników wynosi 2.8\n",
      "Film Mudda 370 J&K premierę miał 13 Dec 2019  i trwa  2 hrs 12 mins, średnia ocen użytkowników wynosi 1.7\n",
      "Film Kanoon Ke Khiladi premierę miał 13 Dec 2019  i trwa  2 hrs 6 mins, średnia ocen użytkowników wynosi \n",
      "Film Unfriends premierę miał 13 Dec 2019  i trwa  2 hrs 10 mins, średnia ocen użytkowników wynosi 1.7\n",
      "Film Mardaani 2 premierę miał 13 Dec 2019  i trwa  2 hrs 2 mins, średnia ocen użytkowników wynosi 3.4\n",
      "Film Panipat premierę miał 06 Dec 2019  i trwa  2 hrs 53 mins, średnia ocen użytkowników wynosi 3.3\n",
      "Film A Gift Of Love: Sifar premierę miał 06 Dec 2019  i trwa  1 hr 39 mins, średnia ocen użytkowników wynosi \n",
      "Film Pati Patni Aur Woh premierę miał 06 Dec 2019  i trwa  2 hrs 2 mins, średnia ocen użytkowników wynosi 3.4\n",
      "Film X Ray: The Inner Image premierę miał 29 Nov 2019  i trwa  1 hr 33 mins, średnia ocen użytkowników wynosi 2.6\n",
      "Film LuvUTurn premierę miał 29 Nov 2019  i trwa  2 hrs 2 mins, średnia ocen użytkowników wynosi \n",
      "Film Tony premierę miał 29 Nov 2019  i trwa  1 hr 55 mins, średnia ocen użytkowników wynosi 2.8\n"
     ]
    }
   ],
   "source": [
    "#Wczytywanie pliku csv używając biblioteki csv\n",
    "with open('files/bollywood_movies_kowalczyk.csv','r') as f:\n",
    "\tcsv_reader = csv.reader(f, delimiter=',')\n",
    "\tcolumn_names = next(csv_reader)\n",
    "\tprint(\"Nazwy kolumn: \" + str(column_names))\n",
    "\tfor row in csv_reader:\n",
    "\t\tprint(f\"Film {row[0]} premierę miał {row[3].split('|')[0]} i trwa {row[3].split('|')[1]}, średnia ocen użytkowników wynosi {row[4]}\" )\n"
   ],
   "metadata": {
    "collapsed": false,
    "pycharm": {
     "name": "#%%\n"
    }
   }
  },
  {
   "cell_type": "code",
   "execution_count": 3,
   "outputs": [
    {
     "name": "stdout",
     "output_type": "stream",
     "text": [
      "Film Good Newwz premierę miał 27 Dec 2019  i trwa  2 hrs 14 mins, średnia ocen użytkowników wynosi 3.4\n",
      "Film Dabangg 3 premierę miał 20 Dec 2019  i trwa  2 hrs 23 mins, średnia ocen użytkowników wynosi 3.2\n",
      "Film Sound Of Water premierę miał 13 Dec 2019  i trwa  2 hrs 25 mins, średnia ocen użytkowników wynosi \n",
      "Film The Body premierę miał 13 Dec 2019  i trwa  2 hrs 15 mins, średnia ocen użytkowników wynosi 2.8\n",
      "Film Mudda 370 J&K premierę miał 13 Dec 2019  i trwa  2 hrs 12 mins, średnia ocen użytkowników wynosi 1.7\n",
      "Film Kanoon Ke Khiladi premierę miał 13 Dec 2019  i trwa  2 hrs 6 mins, średnia ocen użytkowników wynosi \n",
      "Film Unfriends premierę miał 13 Dec 2019  i trwa  2 hrs 10 mins, średnia ocen użytkowników wynosi 1.7\n",
      "Film Mardaani 2 premierę miał 13 Dec 2019  i trwa  2 hrs 2 mins, średnia ocen użytkowników wynosi 3.4\n",
      "Film Panipat premierę miał 06 Dec 2019  i trwa  2 hrs 53 mins, średnia ocen użytkowników wynosi 3.3\n",
      "Film A Gift Of Love: Sifar premierę miał 06 Dec 2019  i trwa  1 hr 39 mins, średnia ocen użytkowników wynosi \n",
      "Film Pati Patni Aur Woh premierę miał 06 Dec 2019  i trwa  2 hrs 2 mins, średnia ocen użytkowników wynosi 3.4\n",
      "Film X Ray: The Inner Image premierę miał 29 Nov 2019  i trwa  1 hr 33 mins, średnia ocen użytkowników wynosi 2.6\n",
      "Film LuvUTurn premierę miał 29 Nov 2019  i trwa  2 hrs 2 mins, średnia ocen użytkowników wynosi \n",
      "Film Tony premierę miał 29 Nov 2019  i trwa  1 hr 55 mins, średnia ocen użytkowników wynosi 2.8\n"
     ]
    }
   ],
   "source": [
    "#Wczytywanie pliku do słownika\n",
    "with open('files/bollywood_movies_kowalczyk.csv','r') as f:\n",
    "\tcsv_reader = csv.DictReader(f)\n",
    "\tfor row in csv_reader:\n",
    "\t\tprint(f\"Film {row['Movie_name']} premierę miał {row['Release date & duration'].split('|')[0]} i trwa {row['Release date & duration'].split('|')[1]}, średnia ocen użytkowników wynosi {row['User_ratings']}\" )"
   ],
   "metadata": {
    "collapsed": false,
    "pycharm": {
     "name": "#%%\n"
    }
   }
  },
  {
   "cell_type": "code",
   "execution_count": 4,
   "outputs": [],
   "source": [
    "#Zapisywanie do pliku\n",
    "with open('files/album_file_kowalczyk.csv', mode='w') as albums_file:\n",
    "\talbum_writer = csv.writer(albums_file, delimiter=',', quotechar='\"', quoting=csv.QUOTE_MINIMAL)\n",
    "\talbum_writer.writerow(['Author','Name','Release Date'])\n",
    "\talbum_writer.writerow(['The Doors', \"Strange Days\", '1967'])\n",
    "\talbum_writer.writerow(['David Bowie', 'The Man Who Sold the World', '1970'])\n",
    "\talbum_writer.writerow(['Pink Floyd', 'Meddle', '1971'])"
   ],
   "metadata": {
    "collapsed": false,
    "pycharm": {
     "name": "#%%\n"
    }
   }
  },
  {
   "cell_type": "code",
   "execution_count": 5,
   "outputs": [],
   "source": [
    "#Zapisywanie używając słownika\n",
    "with open('files/album_file2_kowalczyk.csv', mode='w') as albums_file:\n",
    "\tfieldnames = ['Author','Name','Release Date']\n",
    "\talbum_writer = csv.DictWriter(albums_file, fieldnames)\n",
    "\talbum_writer.writeheader()\n",
    "\talbum_writer.writerow({\"Author\":'The Doors',\"Name\":\"Strange Days\", \"Release Date\":\"09/27/1967\"})\n",
    "\talbum_writer.writerow({\"Author\":'David Bowie',\"Name\":\"The Man Who Sold the World\", \"Release Date\":\"11/4/1970\"})\n",
    "\talbum_writer.writerow({\"Author\":'Pink Floyd',\"Name\":\"Meddle\", \"Release Date\":\"10/31/1971\"})"
   ],
   "metadata": {
    "collapsed": false,
    "pycharm": {
     "name": "#%%\n"
    }
   }
  },
  {
   "cell_type": "code",
   "execution_count": 6,
   "outputs": [
    {
     "data": {
      "text/plain": "       Movie_name                                             Actors  \\\n0      Good Newwz  Akshay Kumar, Kareena Kapoor, Diljit Dosanjh, ...   \n1       Dabangg 3  Salman Khan, Sonakshi Sinha, Arbaaz Khan, Kich...   \n2  Sound Of Water  Ramesh Goyal, Chetan Sharma, Abraam Pandey, Ja...   \n3        The Body  Emraan Hashmi, Rishi Kapoor, Vedhika, Sobhita ...   \n4   Mudda 370 J&K  Hiten Tejwani, Manoj Joshi, Raj Zutshi, Zarina...   \n\n   Crtitic_ratings      Release date & duration  User_ratings  \\\n0              3.5  27 Dec 2019 | 2 hrs 14 mins           3.4   \n1              3.0  20 Dec 2019 | 2 hrs 23 mins           3.2   \n2              3.4  13 Dec 2019 | 2 hrs 25 mins           NaN   \n3              2.5  13 Dec 2019 | 2 hrs 15 mins           2.8   \n4              1.0  13 Dec 2019 | 2 hrs 12 mins           1.7   \n\n                        Language                      Movie_type  \n0                          Hindi              Comedy, Drama | UA  \n1  Hindi, Telugu, Kannada, Tamil  Action, Romance, Thriller | UA  \n2                          Hindi                           Drama  \n3                          Hindi                      Drama | UA  \n4                          Hindi                       Drama | A  ",
      "text/html": "<div>\n<style scoped>\n    .dataframe tbody tr th:only-of-type {\n        vertical-align: middle;\n    }\n\n    .dataframe tbody tr th {\n        vertical-align: top;\n    }\n\n    .dataframe thead th {\n        text-align: right;\n    }\n</style>\n<table border=\"1\" class=\"dataframe\">\n  <thead>\n    <tr style=\"text-align: right;\">\n      <th></th>\n      <th>Movie_name</th>\n      <th>Actors</th>\n      <th>Crtitic_ratings</th>\n      <th>Release date &amp; duration</th>\n      <th>User_ratings</th>\n      <th>Language</th>\n      <th>Movie_type</th>\n    </tr>\n  </thead>\n  <tbody>\n    <tr>\n      <th>0</th>\n      <td>Good Newwz</td>\n      <td>Akshay Kumar, Kareena Kapoor, Diljit Dosanjh, ...</td>\n      <td>3.5</td>\n      <td>27 Dec 2019 | 2 hrs 14 mins</td>\n      <td>3.4</td>\n      <td>Hindi</td>\n      <td>Comedy, Drama | UA</td>\n    </tr>\n    <tr>\n      <th>1</th>\n      <td>Dabangg 3</td>\n      <td>Salman Khan, Sonakshi Sinha, Arbaaz Khan, Kich...</td>\n      <td>3.0</td>\n      <td>20 Dec 2019 | 2 hrs 23 mins</td>\n      <td>3.2</td>\n      <td>Hindi, Telugu, Kannada, Tamil</td>\n      <td>Action, Romance, Thriller | UA</td>\n    </tr>\n    <tr>\n      <th>2</th>\n      <td>Sound Of Water</td>\n      <td>Ramesh Goyal, Chetan Sharma, Abraam Pandey, Ja...</td>\n      <td>3.4</td>\n      <td>13 Dec 2019 | 2 hrs 25 mins</td>\n      <td>NaN</td>\n      <td>Hindi</td>\n      <td>Drama</td>\n    </tr>\n    <tr>\n      <th>3</th>\n      <td>The Body</td>\n      <td>Emraan Hashmi, Rishi Kapoor, Vedhika, Sobhita ...</td>\n      <td>2.5</td>\n      <td>13 Dec 2019 | 2 hrs 15 mins</td>\n      <td>2.8</td>\n      <td>Hindi</td>\n      <td>Drama | UA</td>\n    </tr>\n    <tr>\n      <th>4</th>\n      <td>Mudda 370 J&amp;K</td>\n      <td>Hiten Tejwani, Manoj Joshi, Raj Zutshi, Zarina...</td>\n      <td>1.0</td>\n      <td>13 Dec 2019 | 2 hrs 12 mins</td>\n      <td>1.7</td>\n      <td>Hindi</td>\n      <td>Drama | A</td>\n    </tr>\n  </tbody>\n</table>\n</div>"
     },
     "execution_count": 6,
     "metadata": {},
     "output_type": "execute_result"
    }
   ],
   "source": [
    "#Wczytywanie pliku csv używając Pandas\n",
    "df = pandas.read_csv('files/bollywood_movies_kowalczyk.csv')\n",
    "df.head(5)"
   ],
   "metadata": {
    "collapsed": false,
    "pycharm": {
     "name": "#%%\n"
    }
   }
  },
  {
   "cell_type": "code",
   "execution_count": 7,
   "outputs": [
    {
     "name": "stdout",
     "output_type": "stream",
     "text": [
      "                                   Name Release Date\n",
      "Author                                              \n",
      "The Doors                  Strange Days   1967-09-27\n",
      "David Bowie  The Man Who Sold the World   1970-11-04\n",
      "Pink Floyd                       Meddle   1971-10-31\n"
     ]
    }
   ],
   "source": [
    "#Dodanie indexu i parsowanie daty\n",
    "import pandas\n",
    "df = pandas.read_csv('files/album_file2_kowalczyk.csv', index_col='Author', parse_dates=['Release Date'])\n",
    "print(df)\n"
   ],
   "metadata": {
    "collapsed": false,
    "pycharm": {
     "name": "#%%\n"
    }
   }
  },
  {
   "cell_type": "code",
   "execution_count": 8,
   "outputs": [],
   "source": [
    "df.to_csv('files/album_file2_mod_kowalczyk.csv')\n"
   ],
   "metadata": {
    "collapsed": false,
    "pycharm": {
     "name": "#%%\n"
    }
   }
  }
 ],
 "metadata": {
  "kernelspec": {
   "display_name": "Python 3",
   "language": "python",
   "name": "python3"
  },
  "language_info": {
   "codemirror_mode": {
    "name": "ipython",
    "version": 2
   },
   "file_extension": ".py",
   "mimetype": "text/x-python",
   "name": "python",
   "nbconvert_exporter": "python",
   "pygments_lexer": "ipython2",
   "version": "2.7.6"
  }
 },
 "nbformat": 4,
 "nbformat_minor": 0
}