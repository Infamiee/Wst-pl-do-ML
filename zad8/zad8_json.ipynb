{
 "cells": [
  {
   "cell_type": "code",
   "execution_count": 1,
   "metadata": {
    "collapsed": true
   },
   "outputs": [],
   "source": [
    "import json\n",
    "import requests"
   ]
  },
  {
   "cell_type": "code",
   "execution_count": 2,
   "outputs": [
    {
     "name": "stdout",
     "output_type": "stream",
     "text": [
      "{\"postId\": 5, \"id\": 23, \"name\": \"quis tempora quidem nihil iste\", \"email\": \"Sophia@arianna.co.uk\", \"body\": \"voluptates provident repellendus iusto perspiciatis ex fugiat ut\\nut dolor nam aliquid et expedita voluptate\\nsunt vitae illo rerum in quos\\nvel eligendi enim quae fugiat est\"}\n"
     ]
    }
   ],
   "source": [
    "#Prosta serializacja\n",
    "data = {\n",
    "    \"postId\": 5,\n",
    "    \"id\": 23,\n",
    "    \"name\": \"quis tempora quidem nihil iste\",\n",
    "    \"email\": \"Sophia@arianna.co.uk\",\n",
    "    \"body\": \"voluptates provident repellendus iusto perspiciatis ex fugiat ut\\nut dolor nam aliquid et expedita voluptate\\nsunt vitae illo rerum in quos\\nvel eligendi enim quae fugiat est\"\n",
    "}\n",
    "\n",
    "with open('files/data_file.json','w') as f:\n",
    "\tjson.dump(data,f)\n",
    "\n",
    "json_string = json.dumps(data)\n",
    "print(json_string)"
   ],
   "metadata": {
    "collapsed": false,
    "pycharm": {
     "name": "#%%\n"
    }
   }
  },
  {
   "cell_type": "code",
   "execution_count": 3,
   "outputs": [
    {
     "name": "stdout",
     "output_type": "stream",
     "text": [
      "<class 'tuple'>\n",
      "<class 'list'>\n"
     ]
    }
   ],
   "source": [
    "#Deserializacja\n",
    "blackjack_hand = (8, \"Q\")\n",
    "encoded_hand = json.dumps(blackjack_hand)\n",
    "decoded_hand = json.loads(encoded_hand)\n",
    "print(type(blackjack_hand))\n",
    "print(type(decoded_hand))"
   ],
   "metadata": {
    "collapsed": false,
    "pycharm": {
     "name": "#%%\n"
    }
   }
  },
  {
   "cell_type": "code",
   "execution_count": 4,
   "outputs": [
    {
     "name": "stdout",
     "output_type": "stream",
     "text": [
      "<class 'dict'>\n",
      "{'postId': 5, 'id': 23, 'name': 'quis tempora quidem nihil iste', 'email': 'Sophia@arianna.co.uk', 'body': 'voluptates provident repellendus iusto perspiciatis ex fugiat ut\\nut dolor nam aliquid et expedita voluptate\\nsunt vitae illo rerum in quos\\nvel eligendi enim quae fugiat est'}\n"
     ]
    }
   ],
   "source": [
    "#Deserializacja z pliku\n",
    "with open('files/data_file_kowalczyk.json','r') as f:\n",
    "\tdata = json.load(f)\n",
    "\n",
    "print(type(data))\n",
    "print(data)"
   ],
   "metadata": {
    "collapsed": false,
    "pycharm": {
     "name": "#%%\n"
    }
   }
  },
  {
   "cell_type": "code",
   "execution_count": 5,
   "outputs": [
    {
     "name": "stdout",
     "output_type": "stream",
     "text": [
      "<class 'dict'>\n",
      "{'widget': {'debug': 'on', 'window': {'title': 'Sample Konfabulator Widget', 'name': 'main_window', 'width': 500, 'height': 500}, 'image': {'src': 'Images/Sun.png', 'name': 'sun1', 'hOffset': 250, 'vOffset': 250, 'alignment': 'center'}, 'text': {'data': 'Click Here', 'size': 36, 'style': 'bold', 'name': 'text1', 'hOffset': 250, 'vOffset': 100, 'alignment': 'center', 'onMouseUp': 'sun1.opacity = (sun1.opacity / 100) * 90;'}}}\n"
     ]
    }
   ],
   "source": [
    "data = '''{\"widget\": {\n",
    "    \"debug\": \"on\",\n",
    "    \"window\": {\n",
    "        \"title\": \"Sample Konfabulator Widget\",\n",
    "        \"name\": \"main_window\",\n",
    "        \"width\": 500,\n",
    "        \"height\": 500\n",
    "    },\n",
    "    \"image\": {\n",
    "        \"src\": \"Images/Sun.png\",\n",
    "        \"name\": \"sun1\",\n",
    "        \"hOffset\": 250,\n",
    "        \"vOffset\": 250,\n",
    "        \"alignment\": \"center\"\n",
    "    },\n",
    "    \"text\": {\n",
    "        \"data\": \"Click Here\",\n",
    "        \"size\": 36,\n",
    "        \"style\": \"bold\",\n",
    "        \"name\": \"text1\",\n",
    "        \"hOffset\": 250,\n",
    "        \"vOffset\": 100,\n",
    "        \"alignment\": \"center\",\n",
    "        \"onMouseUp\": \"sun1.opacity = (sun1.opacity / 100) * 90;\"\n",
    "    }\n",
    "}} '''\n",
    "\n",
    "deserialized = json.loads(data)\n",
    "print(type(deserialized))\n",
    "print(deserialized)\n"
   ],
   "metadata": {
    "collapsed": false,
    "pycharm": {
     "name": "#%%\n"
    }
   }
  },
  {
   "cell_type": "code",
   "execution_count": 6,
   "outputs": [],
   "source": [
    "#Pobranie danych\n",
    "url = 'https://jsonplaceholder.typicode.com/comments'\n",
    "data = requests.get(url).json()"
   ],
   "metadata": {
    "collapsed": false,
    "pycharm": {
     "name": "#%%\n"
    }
   }
  },
  {
   "cell_type": "code",
   "execution_count": 7,
   "outputs": [],
   "source": [
    "#Znajdowanie najdłuższych komentarzy\n",
    "def max_len_comments(data,count=1):\n",
    "\tsorted_data = sorted(data,key=lambda x: len(x['body']),reverse=True)\n",
    "\treturn sorted_data[:count]"
   ],
   "metadata": {
    "collapsed": false,
    "pycharm": {
     "name": "#%%\n"
    }
   }
  },
  {
   "cell_type": "code",
   "execution_count": 8,
   "outputs": [],
   "source": [
    "#Zapisywanie wyniku do pliku\n",
    "with open('files/longest_comments_kowalczyk.json','w') as f:\n",
    "\tjson.dump(max_len_comments(data,10),f)\n"
   ],
   "metadata": {
    "collapsed": false,
    "pycharm": {
     "name": "#%%\n"
    }
   }
  },
  {
   "cell_type": "code",
   "execution_count": 9,
   "outputs": [
    {
     "data": {
      "text/plain": "'[2.0, 1.0]'"
     },
     "execution_count": 9,
     "metadata": {},
     "output_type": "execute_result"
    }
   ],
   "source": [
    "def encode_complex(z):\n",
    "\tif isinstance(z, complex):\n",
    "\t\treturn (z.real, z.imag)\n",
    "\telse:\n",
    "\t\ttype_name = z.__class__.__name__\n",
    "\t\traise TypeError(f\"Object of type '{type_name}' is not JSON serializable\")\n",
    "\n",
    "json.dumps(2+1j,default=encode_complex)"
   ],
   "metadata": {
    "collapsed": false,
    "pycharm": {
     "name": "#%%\n"
    }
   }
  },
  {
   "cell_type": "code",
   "execution_count": 10,
   "outputs": [
    {
     "name": "stdout",
     "output_type": "stream",
     "text": [
      "[4.0, 5.0]\n"
     ]
    },
    {
     "data": {
      "text/plain": "'[5.0, 2.0]'"
     },
     "execution_count": 10,
     "metadata": {},
     "output_type": "execute_result"
    }
   ],
   "source": [
    "#Tworzenie własnego encodera\n",
    "class ComplexEncoder(json.JSONEncoder):\n",
    "\tdef default(self, z):\n",
    "\t\tif isinstance(z, complex):\n",
    "\t\t\treturn (z.real, z.imag)\n",
    "\t\telse:\n",
    "\t\t\treturn super().default(z)\n",
    "\n",
    "print(json.dumps(4+5j,cls=ComplexEncoder))\n",
    "ComplexEncoder().encode(5+2j)\n"
   ],
   "metadata": {
    "collapsed": false,
    "pycharm": {
     "name": "#%%\n"
    }
   }
  },
  {
   "cell_type": "code",
   "execution_count": 11,
   "outputs": [
    {
     "name": "stdout",
     "output_type": "stream",
     "text": [
      "<class 'complex'>\n"
     ]
    }
   ],
   "source": [
    "#Dekodowanie customowych klas\n",
    "def decode_complex(dct):\n",
    "\tif \"__complex__\" in dct:\n",
    "\t\treturn complex(dct[\"real\"], dct[\"imag\"])\n",
    "\treturn dct\n",
    "data = '''{\n",
    "    \"__complex__\": true,\n",
    "    \"real\": 42,\n",
    "    \"imag\": 36\n",
    "}'''\n",
    "decoded_data = json.loads(data,object_hook=decode_complex)\n",
    "print(type(decoded_data))\n"
   ],
   "metadata": {
    "collapsed": false,
    "pycharm": {
     "name": "#%%\n"
    }
   }
  }
 ],
 "metadata": {
  "kernelspec": {
   "display_name": "Python 3",
   "language": "python",
   "name": "python3"
  },
  "language_info": {
   "codemirror_mode": {
    "name": "ipython",
    "version": 2
   },
   "file_extension": ".py",
   "mimetype": "text/x-python",
   "name": "python",
   "nbconvert_exporter": "python",
   "pygments_lexer": "ipython2",
   "version": "2.7.6"
  }
 },
 "nbformat": 4,
 "nbformat_minor": 0
}