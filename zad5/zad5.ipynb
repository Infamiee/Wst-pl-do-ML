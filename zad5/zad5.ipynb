{
 "cells": [
  {
   "cell_type": "code",
   "execution_count": 1,
   "metadata": {
    "collapsed": true,
    "pycharm": {
     "name": "#%%\n"
    }
   },
   "outputs": [],
   "source": [
    "import spacy\n",
    "import re\n",
    "from spacy.tokenizer import Tokenizer\n",
    "from collections import Counter\n",
    "from spacy import displacy\n",
    "from spacy.matcher import Matcher\n",
    "import textacy\n",
    "import warnings\n",
    "warnings.filterwarnings(\"ignore\")"
   ]
  },
  {
   "cell_type": "code",
   "execution_count": 2,
   "outputs": [],
   "source": [
    "nlp = spacy.load(\"pl_core_news_sm\")"
   ],
   "metadata": {
    "collapsed": false,
    "pycharm": {
     "name": "#%%\n"
    }
   }
  },
  {
   "cell_type": "code",
   "execution_count": 3,
   "outputs": [
    {
     "name": "stdout",
     "output_type": "stream",
     "text": [
      "['To', 'jest', 'tutorial', 'o', 'przetwarzaniu', 'języka', 'naturalnego', '.']\n"
     ]
    }
   ],
   "source": [
    "#Czytanie stringa\n",
    "text = 'To jest tutorial o przetwarzaniu języka naturalnego.'\n",
    "doc = nlp(text)\n",
    "print ([token.text for token in doc])\n"
   ],
   "metadata": {
    "collapsed": false,
    "pycharm": {
     "name": "#%%\n"
    }
   }
  },
  {
   "cell_type": "code",
   "execution_count": 4,
   "outputs": [
    {
     "name": "stdout",
     "output_type": "stream",
     "text": [
      "['Laccophilus', 'pictipennis', 'â€', '“', 'gatunek', 'wodnego', 'chrzÄ', '…', 'szcza', 'z', 'rodziny', 'pÅ', '‚', 'ywakowatych', 'i', 'podrodziny', 'Laccophilinae', '.']\n"
     ]
    }
   ],
   "source": [
    "#Czytanie pliku\n",
    "with open('file.txt','r') as f:\n",
    "\tdata = f.read()\n",
    "doc = nlp(data)\n",
    "print ([token.text for token in doc])"
   ],
   "metadata": {
    "collapsed": false,
    "pycharm": {
     "name": "#%%\n"
    }
   }
  },
  {
   "cell_type": "code",
   "source": [
    "#Wykrywanie zdań\n",
    "text = 'Pojedynczy wirnik zapewnia tylko proste szyfrowanie szyfrem podstawieniowym. Przykładowo pin odpowiadający literze E może być połączony ze stykiem od litery T po drugiej stronie. Złożoność systemu szyfrowania polega na zastosowaniu ... wielu równoległych współosiowych wirników.'\n",
    "doc = nlp(text)\n",
    "for sent in doc.sents:\n",
    "\tprint(sent, end='\\n\\n')"
   ],
   "metadata": {
    "collapsed": false,
    "pycharm": {
     "name": "#%%\n"
    }
   },
   "execution_count": 5,
   "outputs": [
    {
     "name": "stdout",
     "output_type": "stream",
     "text": [
      "Pojedynczy wirnik zapewnia tylko proste szyfrowanie szyfrem podstawieniowym.\n",
      "\n",
      "Przykładowo pin odpowiadający literze E może być połączony ze stykiem od litery T po drugiej stronie.\n",
      "\n",
      "Złożoność systemu szyfrowania polega na zastosowaniu ... wielu równoległych współosiowych wirników.\n",
      "\n"
     ]
    }
   ]
  },
  {
   "cell_type": "code",
   "execution_count": 6,
   "outputs": [
    {
     "name": "stdout",
     "output_type": "stream",
     "text": [
      "Pojedynczy wirnik zapewnia tylko proste szyfrowanie szyfrem podstawieniowym.\n",
      "\n",
      "Przykładowo pin odpowiadający literze E może być połączony ze stykiem od litery T po drugiej stronie.\n",
      "\n",
      "Złożoność systemu szyfrowania polega na zastosowaniu ...\n",
      "\n",
      "wielu równoległych współosiowych wirników.\n",
      "\n"
     ]
    }
   ],
   "source": [
    "#Tworzenie własnych separatorów\n",
    "def set_custom_boundaries(doc):\n",
    "\tfor token in doc[:-1]:\n",
    "\t\tif token.text in ['...']:\n",
    "\t\t\tdoc[token.i+1].is_sent_start = True\n",
    "\treturn doc\n",
    "\n",
    "custom_nlp = spacy.load(\"pl_core_news_sm\")\n",
    "custom_nlp.add_pipe(set_custom_boundaries, before='parser')\n",
    "custom_ellipsis_doc = custom_nlp(text)\n",
    "for sent in custom_ellipsis_doc.sents:\n",
    "\tprint(sent,end='\\n\\n')"
   ],
   "metadata": {
    "collapsed": false,
    "pycharm": {
     "name": "#%%\n"
    }
   }
  },
  {
   "cell_type": "code",
   "execution_count": 7,
   "outputs": [
    {
     "name": "stdout",
     "output_type": "stream",
     "text": [
      "Pojedynczy 0\n",
      "wirnik 11\n",
      "zapewnia 18\n",
      "tylko 27\n",
      "proste 33\n",
      "szyfrowanie 40\n",
      "szyfrem 52\n",
      "podstawieniowym 60\n",
      ". 75\n",
      "Przykładowo 77\n",
      "pin 89\n",
      "odpowiadający 93\n",
      "literze 107\n",
      "E 115\n",
      "może 117\n",
      "być 122\n",
      "połączony 126\n",
      "ze 136\n",
      "stykiem 139\n",
      "od 147\n",
      "litery 150\n",
      "T 157\n",
      "po 159\n",
      "drugiej 162\n",
      "stronie 170\n",
      ". 177\n",
      "Złożoność 179\n",
      "systemu 189\n",
      "szyfrowania 197\n",
      "polega 209\n",
      "na 216\n",
      "zastosowaniu 219\n",
      "... 232\n",
      "wielu 236\n",
      "równoległych 242\n",
      "współosiowych 255\n",
      "wirników 269\n",
      ". 277\n",
      "(Pojedynczy, 0, 'Pojedynczy ', True, False, False, 'Xxxxx', False)\n",
      "(wirnik, 11, 'wirnik ', True, False, False, 'xxxx', False)\n",
      "(zapewnia, 18, 'zapewnia ', True, False, False, 'xxxx', False)\n",
      "(tylko, 27, 'tylko ', True, False, False, 'xxxx', True)\n",
      "(proste, 33, 'proste ', True, False, False, 'xxxx', False)\n",
      "(szyfrowanie, 40, 'szyfrowanie ', True, False, False, 'xxxx', False)\n",
      "(szyfrem, 52, 'szyfrem ', True, False, False, 'xxxx', False)\n",
      "(podstawieniowym, 60, 'podstawieniowym', True, False, False, 'xxxx', False)\n",
      "(., 75, '. ', False, True, False, '.', False)\n",
      "(Przykładowo, 77, 'Przykładowo ', True, False, False, 'Xxxxx', False)\n",
      "(pin, 89, 'pin ', True, False, False, 'xxx', False)\n",
      "(odpowiadający, 93, 'odpowiadający ', True, False, False, 'xxxx', False)\n",
      "(literze, 107, 'literze ', True, False, False, 'xxxx', False)\n",
      "(E, 115, 'E ', True, False, False, 'X', False)\n",
      "(może, 117, 'może ', True, False, False, 'xxxx', True)\n",
      "(być, 122, 'być ', True, False, False, 'xxx', True)\n",
      "(połączony, 126, 'połączony ', True, False, False, 'xxxx', False)\n",
      "(ze, 136, 'ze ', True, False, False, 'xx', True)\n",
      "(stykiem, 139, 'stykiem ', True, False, False, 'xxxx', False)\n",
      "(od, 147, 'od ', True, False, False, 'xx', True)\n",
      "(litery, 150, 'litery ', True, False, False, 'xxxx', False)\n",
      "(T, 157, 'T ', True, False, False, 'X', False)\n",
      "(po, 159, 'po ', True, False, False, 'xx', True)\n",
      "(drugiej, 162, 'drugiej ', True, False, False, 'xxxx', False)\n",
      "(stronie, 170, 'stronie', True, False, False, 'xxxx', False)\n",
      "(., 177, '. ', False, True, False, '.', False)\n",
      "(Złożoność, 179, 'Złożoność ', True, False, False, 'Xxxxx', False)\n",
      "(systemu, 189, 'systemu ', True, False, False, 'xxxx', False)\n",
      "(szyfrowania, 197, 'szyfrowania ', True, False, False, 'xxxx', False)\n",
      "(polega, 209, 'polega ', True, False, False, 'xxxx', False)\n",
      "(na, 216, 'na ', True, False, False, 'xx', True)\n",
      "(zastosowaniu, 219, 'zastosowaniu ', True, False, False, 'xxxx', False)\n",
      "(..., 232, '... ', False, True, False, '...', False)\n",
      "(wielu, 236, 'wielu ', True, False, False, 'xxxx', True)\n",
      "(równoległych, 242, 'równoległych ', True, False, False, 'xxxx', False)\n",
      "(współosiowych, 255, 'współosiowych ', True, False, False, 'xxxx', False)\n",
      "(wirników, 269, 'wirników', True, False, False, 'xxxx', False)\n",
      "(., 277, '.', False, True, False, '.', False)\n"
     ]
    }
   ],
   "source": [
    "#Tokenizacja\n",
    "for token in doc:\n",
    "    print (token, token.idx)\n",
    "\n",
    "for token in doc:\n",
    "    print((token, token.idx, token.text_with_ws,token.is_alpha, token.is_punct, token.is_space, token.shape_, token.is_stop),sep=', ')\n"
   ],
   "metadata": {
    "collapsed": false,
    "pycharm": {
     "name": "#%%\n"
    }
   }
  },
  {
   "cell_type": "code",
   "execution_count": 8,
   "outputs": [
    {
     "name": "stdout",
     "output_type": "stream",
     "text": [
      "biało\n",
      "-\n",
      "czerwony\n"
     ]
    }
   ],
   "source": [
    "#Tworzenie własnego tokenu\n",
    "custom_nlp= spacy.load(\"pl_core_news_sm\")\n",
    "prefix_re = spacy.util.compile_prefix_regex(custom_nlp.Defaults.prefixes)\n",
    "suffix_re = spacy.util.compile_suffix_regex(custom_nlp.Defaults.suffixes)\n",
    "infix_re = re.compile(r'''[-~]''')\n",
    "def customize_tokenizer(nlp):\n",
    "    return Tokenizer(nlp.vocab, prefix_search=prefix_re.search,suffix_search=suffix_re.search,infix_finditer=infix_re.finditer,token_match=None)\n",
    "custom_token_text = 'biało-czerwony'\n",
    "custom_nlp.tokenizer = customize_tokenizer(custom_nlp)\n",
    "custom_tokenizer_doc = custom_nlp(custom_token_text)\n",
    "for token in custom_tokenizer_doc:\n",
    "\tprint(token.text)"
   ],
   "metadata": {
    "collapsed": false,
    "pycharm": {
     "name": "#%%\n"
    }
   }
  },
  {
   "cell_type": "code",
   "execution_count": 9,
   "outputs": [
    {
     "name": "stdout",
     "output_type": "stream",
     "text": [
      "jako\n",
      "iz\n",
      "każdy\n",
      "twym\n",
      "twoj\n",
      "czasami\n",
      "mimo\n",
      "jezeli\n",
      "przy\n",
      "wy\n",
      "je\n",
      "moi\n",
      "musi\n",
      "wasza\n",
      "wiele\n",
      "Długość stoplisty: 381\n"
     ]
    }
   ],
   "source": [
    "#Stop lista\n",
    "pl_stopwords = spacy.lang.pl.stop_words.STOP_WORDS\n",
    "for stop_word in list(pl_stopwords)[:15]:\n",
    "    print(stop_word)\n",
    "print(\"Długość stoplisty: \"+ str(len(pl_stopwords)))"
   ],
   "metadata": {
    "collapsed": false,
    "pycharm": {
     "name": "#%%\n"
    }
   }
  },
  {
   "cell_type": "code",
   "execution_count": 10,
   "outputs": [
    {
     "name": "stdout",
     "output_type": "stream",
     "text": [
      "Pojedynczy --> pojedynczy\n",
      "wirnik --> wirnik\n",
      "zapewnia --> zapewniać\n",
      "tylko --> tylko\n",
      "proste --> prosty\n",
      "szyfrowanie --> szyfrowanie\n",
      "szyfrem --> szyfr\n",
      "podstawieniowym --> podstawieniowym\n",
      ". --> .\n",
      "Przykładowo --> przykładowo\n",
      "pin --> pin\n",
      "odpowiadający --> odpowiadać\n",
      "literze --> litera\n",
      "E --> e\n",
      "może --> móc\n",
      "być --> być\n",
      "połączony --> połączyć\n",
      "ze --> z\n",
      "stykiem --> styk\n",
      "od --> od\n",
      "litery --> litera\n",
      "T --> t\n",
      "po --> po\n",
      "drugiej --> drugi\n",
      "stronie --> strona\n",
      ". --> .\n",
      "Złożoność --> złożoność\n",
      "systemu --> system\n",
      "szyfrowania --> szyfrowania\n",
      "polega --> polegać\n",
      "na --> na\n",
      "zastosowaniu --> zastosowanie\n",
      "... --> ...\n",
      "wielu --> wiele\n",
      "równoległych --> równoległy\n",
      "współosiowych --> współosiowy\n",
      "wirników --> wirnik\n",
      ". --> .\n"
     ]
    }
   ],
   "source": [
    "#Lematyzacja\n",
    "doc = nlp(text)\n",
    "for token in doc:\n",
    "\tprint(token, token.lemma_, sep=' --> ')"
   ],
   "metadata": {
    "collapsed": false,
    "pycharm": {
     "name": "#%%\n"
    }
   }
  },
  {
   "cell_type": "code",
   "execution_count": 11,
   "outputs": [
    {
     "name": "stdout",
     "output_type": "stream",
     "text": [
      "Najczęściej użyte słowa : \n",
      " [('ligi', 6), ('Polski', 5), ('sezonie', 4), ('miejsce', 4)]\n",
      "Najrzadziej użyte słowa :\n",
      " [('zespołem', 1), ('klub', 1), ('Budowlani', 1), ('Jelenia', 1), ('Góra', 1), ('występował', 1), ('1949', 1), ('trenerem', 1), ('Marian', 1), ('Koczwara', 1), ('ukończeniu', 1), ('szkoły', 1), ('średniej', 1), ('1953', 1), ('drugoligowego', 1), ('Ogniwa', 1), ('Wrocław', 1), ('wrocławską', 1), ('1953/1954', 1), ('pierwsze', 1), ('południowej', 1), ('następnie', 1), ('trzecie', 1), ('turnieju', 1), ('finałowym', 1), ('awans', 1), ('ekstraklasy', 1), ('1954/1955', 1), ('drugie', 1), ('B', 1), ('1955/1956', 1), ('pierwszoligowej', 1), ('Polonii', 1), ('ekstraklasie', 1), ('piąte', 1), ('417', 1), ('1957', 1), ('Polonią', 1), ('1959', 1), ('kolejny', 1), ('599', 1), ('1960', 1), ('kolejne', 1), ('trzeci', 1), ('563', 1), ('1960/1961', 1), ('Legii', 1), ('Legią', 1), ('1961', 1), ('1963', 1), ('1966', 1), ('1968', 1), ('brązowy', 1), ('medal', 1), ('mistrzostw', 1), ('1962', 1), ('1963/1964', 1), ('czwarty', 1), ('karierze', 1), ('najlepszym', 1), ('strzelcem', 1), ('593', 1)]\n"
     ]
    }
   ],
   "source": [
    "text = 'Jego pierwszym zespołem był klub Budowlani Jelenia Góra, w którym występował od 1949, a trenerem Marian Koczwara. Po ukończeniu szkoły średniej w 1953, został zawodnikiem drugoligowego Ogniwa Wrocław. Z wrocławską drużyną zajął w sezonie 1953/1954 pierwsze miejsce w grupie południowej II ligi, a następnie trzecie miejsce w turnieju finałowym o awans do ekstraklasy. W sezonie 1954/1955 zajął z drużyną drugie miejsce w grupie B II ligi. Od sezonu 1955/1956 był zawodnikiem pierwszoligowej Polonii Warszawa. W pierwszym sezonie w ekstraklasie zajął z drużyną piąte miejsce i zdobył tytuł króla strzelców ligi (417 pkt.). W 1957 zdobył z Polonią wicemistrzostwo, w 1959 mistrzostwo Polski i kolejny tytuł króla strzelców ligi (599 pkt.), w 1960 kolejne wicemistrzostwo Polski i trzeci tytuł króla strzelców ligi (563 pkt.). Od sezonu 1960/1961 był zawodnikiem Legii Warszawa. Z Legią zdobył mistrzostwo Polski w 1961, 1963 i 1966, wicemistrzostwo Polski w 1968, brązowy medal mistrzostw Polski w 1962, w sezonie 1963/1964 został czwarty raz w karierze najlepszym strzelcem ligi (593 pkt.).'\n",
    "complete_doc = nlp(text)\n",
    "words = [token.text for token in complete_doc if not token.is_stop and not token.is_punct]\n",
    "word_freq = Counter(words)\n",
    "common_words = word_freq.most_common(4)\n",
    "print(\"Najczęściej użyte słowa : \\n\",common_words)\n",
    "print(\"Najrzadziej użyte słowa :\\n\",[(word,f) for word,f in word_freq.items() if f ==1])"
   ],
   "metadata": {
    "collapsed": false,
    "pycharm": {
     "name": "#%%\n"
    }
   }
  },
  {
   "cell_type": "code",
   "execution_count": 12,
   "outputs": [
    {
     "name": "stdout",
     "output_type": "stream",
     "text": [
      "Jego, PPRON3, PRON, None\n",
      "pierwszym, ADJ, ADJ, adjective\n",
      "zespołem, SUBST, NOUN, None\n",
      "był, PRAET, VERB, None\n",
      "klub, SUBST, NOUN, None\n",
      "Budowlani, SUBST, NOUN, None\n",
      "Jelenia, ADJ, ADJ, adjective\n",
      "Góra, SUBST, NOUN, None\n",
      ",, INTERP, PUNCT, None\n",
      "w, PREP, ADP, None\n",
      "którym, ADJ, ADJ, adjective\n",
      "występował, PRAET, VERB, None\n",
      "od, PREP, ADP, None\n",
      "1949, ADJ, ADJ, adjective\n",
      ",, INTERP, PUNCT, None\n",
      "a, CONJ, CCONJ, conjunction\n",
      "trenerem, SUBST, NOUN, None\n",
      "Marian, SUBST, NOUN, None\n",
      "Koczwara, SUBST, NOUN, None\n",
      "., INTERP, PUNCT, None\n",
      "Po, PREP, ADP, None\n",
      "ukończeniu, GER, NOUN, None\n",
      "szkoły, SUBST, NOUN, None\n",
      "średniej, ADJ, ADJ, adjective\n",
      "w, PREP, ADP, None\n",
      "1953, ADJ, ADJ, adjective\n",
      ",, INTERP, PUNCT, None\n",
      "został, PRAET, VERB, None\n",
      "zawodnikiem, SUBST, NOUN, None\n",
      "drugoligowego, ADJ, ADJ, adjective\n",
      "Ogniwa, SUBST, NOUN, None\n",
      "Wrocław, SUBST, NOUN, None\n",
      "., INTERP, PUNCT, None\n",
      "Z, PREP, ADP, None\n",
      "wrocławską, ADJ, ADJ, adjective\n",
      "drużyną, SUBST, NOUN, None\n",
      "zajął, PRAET, VERB, None\n",
      "w, PREP, ADP, None\n",
      "sezonie, SUBST, NOUN, None\n",
      "1953/1954, SUBST, NOUN, None\n",
      "pierwsze, ADJ, ADJ, adjective\n",
      "miejsce, SUBST, NOUN, None\n",
      "w, PREP, ADP, None\n",
      "grupie, SUBST, NOUN, None\n",
      "południowej, ADJ, ADJ, adjective\n",
      "II, ADJ, ADJ, adjective\n",
      "ligi, SUBST, NOUN, None\n",
      ",, INTERP, PUNCT, None\n",
      "a, CONJ, CCONJ, conjunction\n",
      "następnie, ADV, ADV, adverb\n",
      "trzecie, ADJ, ADJ, adjective\n",
      "miejsce, SUBST, NOUN, None\n",
      "w, PREP, ADP, None\n",
      "turnieju, SUBST, NOUN, None\n",
      "finałowym, ADJ, ADJ, adjective\n",
      "o, PREP, ADP, None\n",
      "awans, SUBST, NOUN, None\n",
      "do, PREP, ADP, None\n",
      "ekstraklasy, SUBST, NOUN, None\n",
      "., INTERP, PUNCT, None\n",
      "W, PREP, ADP, None\n",
      "sezonie, SUBST, NOUN, None\n",
      "1954/1955, SUBST, NOUN, None\n",
      "zajął, PRAET, VERB, None\n",
      "z, PREP, ADP, None\n",
      "drużyną, SUBST, NOUN, None\n",
      "drugie, ADJ, ADJ, adjective\n",
      "miejsce, SUBST, NOUN, None\n",
      "w, PREP, ADP, None\n",
      "grupie, SUBST, NOUN, None\n",
      "B, SUBST, NOUN, None\n",
      "II, ADJ, ADJ, adjective\n",
      "ligi, SUBST, NOUN, None\n",
      "., INTERP, PUNCT, None\n",
      "Od, PREP, ADP, None\n",
      "sezonu, SUBST, NOUN, None\n",
      "1955/1956, SUBST, NOUN, None\n",
      "był, PRAET, VERB, None\n",
      "zawodnikiem, SUBST, NOUN, None\n",
      "pierwszoligowej, ADJ, ADJ, adjective\n",
      "Polonii, SUBST, NOUN, None\n",
      "Warszawa, SUBST, NOUN, None\n",
      "., INTERP, PUNCT, None\n",
      "W, PREP, ADP, None\n",
      "pierwszym, ADJ, ADJ, adjective\n",
      "sezonie, SUBST, NOUN, None\n",
      "w, PREP, ADP, None\n",
      "ekstraklasie, SUBST, NOUN, None\n",
      "zajął, PRAET, VERB, None\n",
      "z, PREP, ADP, None\n",
      "drużyną, SUBST, NOUN, None\n",
      "piąte, ADJ, ADJ, adjective\n",
      "miejsce, SUBST, NOUN, None\n",
      "i, CONJ, CCONJ, conjunction\n",
      "zdobył, PRAET, VERB, None\n",
      "tytuł, SUBST, NOUN, None\n",
      "króla, SUBST, NOUN, None\n",
      "strzelców, SUBST, NOUN, None\n",
      "ligi, SUBST, NOUN, None\n",
      "(, INTERP, PUNCT, None\n",
      "417, NUM, NUM, numeral\n",
      "pkt, BREV, X, None\n",
      "., INTERP, PUNCT, None\n",
      "), INTERP, PUNCT, None\n",
      "., INTERP, PUNCT, None\n",
      "W, PREP, ADP, None\n",
      "1957, ADJ, ADJ, adjective\n",
      "zdobył, PRAET, VERB, None\n",
      "z, PREP, ADP, None\n",
      "Polonią, SUBST, NOUN, None\n",
      "wicemistrzostwo, SUBST, NOUN, None\n",
      ",, INTERP, PUNCT, None\n",
      "w, PREP, ADP, None\n",
      "1959, ADJ, ADJ, adjective\n",
      "mistrzostwo, SUBST, NOUN, None\n",
      "Polski, SUBST, NOUN, None\n",
      "i, CONJ, CCONJ, conjunction\n",
      "kolejny, ADJ, ADJ, adjective\n",
      "tytuł, SUBST, NOUN, None\n",
      "króla, SUBST, NOUN, None\n",
      "strzelców, SUBST, NOUN, None\n",
      "ligi, SUBST, NOUN, None\n",
      "(, INTERP, PUNCT, None\n",
      "599, NUM, NUM, numeral\n",
      "pkt, BREV, X, None\n",
      "., INTERP, PUNCT, None\n",
      "), INTERP, PUNCT, None\n",
      ",, INTERP, PUNCT, None\n",
      "w, PREP, ADP, None\n",
      "1960, ADJ, ADJ, adjective\n",
      "kolejne, ADJ, ADJ, adjective\n",
      "wicemistrzostwo, SUBST, NOUN, None\n",
      "Polski, SUBST, NOUN, None\n",
      "i, CONJ, CCONJ, conjunction\n",
      "trzeci, ADJ, ADJ, adjective\n",
      "tytuł, SUBST, NOUN, None\n",
      "króla, SUBST, NOUN, None\n",
      "strzelców, SUBST, NOUN, None\n",
      "ligi, SUBST, NOUN, None\n",
      "(, INTERP, PUNCT, None\n",
      "563, NUM, NUM, numeral\n",
      "pkt, BREV, X, None\n",
      "., INTERP, PUNCT, None\n",
      "), INTERP, PUNCT, None\n",
      "., INTERP, PUNCT, None\n",
      "Od, PREP, ADP, None\n",
      "sezonu, SUBST, NOUN, None\n",
      "1960/1961, SUBST, NOUN, None\n",
      "był, PRAET, VERB, None\n",
      "zawodnikiem, SUBST, NOUN, None\n",
      "Legii, SUBST, NOUN, None\n",
      "Warszawa, SUBST, NOUN, None\n",
      "., INTERP, PUNCT, None\n",
      "Z, PREP, ADP, None\n",
      "Legią, SUBST, NOUN, None\n",
      "zdobył, PRAET, VERB, None\n",
      "mistrzostwo, SUBST, NOUN, None\n",
      "Polski, SUBST, NOUN, None\n",
      "w, PREP, ADP, None\n",
      "1961, ADJ, ADJ, adjective\n",
      ",, INTERP, PUNCT, None\n",
      "1963, NUM, NUM, numeral\n",
      "i, CONJ, CCONJ, conjunction\n",
      "1966, NUM, NUM, numeral\n",
      ",, INTERP, PUNCT, None\n",
      "wicemistrzostwo, SUBST, NOUN, None\n",
      "Polski, SUBST, NOUN, None\n",
      "w, PREP, ADP, None\n",
      "1968, ADJ, ADJ, adjective\n",
      ",, INTERP, PUNCT, None\n",
      "brązowy, ADJ, ADJ, adjective\n",
      "medal, SUBST, NOUN, None\n",
      "mistrzostw, SUBST, NOUN, None\n",
      "Polski, SUBST, NOUN, None\n",
      "w, PREP, ADP, None\n",
      "1962, ADJ, ADJ, adjective\n",
      ",, INTERP, PUNCT, None\n",
      "w, PREP, ADP, None\n",
      "sezonie, SUBST, NOUN, None\n",
      "1963/1964, SUBST, NOUN, None\n",
      "został, PRAET, VERB, None\n",
      "czwarty, ADJ, ADJ, adjective\n",
      "raz, SUBST, NOUN, None\n",
      "w, PREP, ADP, None\n",
      "karierze, SUBST, NOUN, None\n",
      "najlepszym, ADJ, ADJ, adjective\n",
      "strzelcem, SUBST, NOUN, None\n",
      "ligi, SUBST, NOUN, None\n",
      "(, INTERP, PUNCT, None\n",
      "593, NUM, NUM, numeral\n",
      "pkt, BREV, X, None\n",
      "., INTERP, PUNCT, None\n",
      "), INTERP, PUNCT, None\n",
      "., INTERP, PUNCT, None\n"
     ]
    }
   ],
   "source": [
    "#Rozpoznawanie części mowy\n",
    "for token in complete_doc:\n",
    "\tprint(token, token.tag_, token.pos_, spacy.explain(token.tag_),sep=', ')\n",
    "\n"
   ],
   "metadata": {
    "collapsed": false,
    "pycharm": {
     "name": "#%%\n"
    }
   }
  },
  {
   "cell_type": "code",
   "execution_count": 13,
   "outputs": [
    {
     "name": "stdout",
     "output_type": "stream",
     "text": [
      "[zespołem, klub, Budowlani, Góra, trenerem, Marian, Koczwara, ukończeniu, szkoły, zawodnikiem, Ogniwa, Wrocław, drużyną, sezonie, 1953/1954, miejsce, grupie, ligi, miejsce, turnieju, awans, ekstraklasy, sezonie, 1954/1955, drużyną, miejsce, grupie, B, ligi, sezonu, 1955/1956, zawodnikiem, Polonii, Warszawa, sezonie, ekstraklasie, drużyną, miejsce, tytuł, króla, strzelców, ligi, Polonią, wicemistrzostwo, mistrzostwo, Polski, tytuł, króla, strzelców, ligi, wicemistrzostwo, Polski, tytuł, króla, strzelców, ligi, sezonu, 1960/1961, zawodnikiem, Legii, Warszawa, Legią, mistrzostwo, Polski, wicemistrzostwo, Polski, medal, mistrzostw, Polski, sezonie, 1963/1964, raz, karierze, strzelcem, ligi]\n",
      "[pierwszym, Jelenia, którym, 1949, średniej, 1953, drugoligowego, wrocławską, pierwsze, południowej, II, trzecie, finałowym, drugie, II, pierwszoligowej, pierwszym, piąte, 1957, 1959, kolejny, 1960, kolejne, trzeci, 1961, 1968, brązowy, 1962, czwarty, najlepszym]\n"
     ]
    }
   ],
   "source": [
    "#filtrowanie słów po kategorii\n",
    "nouns = []\n",
    "adjectives = []\n",
    "for token in complete_doc:\n",
    "    if token.pos_ == 'NOUN':\n",
    "        nouns.append(token)\n",
    "    if token.pos_ == 'ADJ':\n",
    "        adjectives.append(token)\n",
    "\n",
    "print(nouns)\n",
    "print(adjectives)\n"
   ],
   "metadata": {
    "collapsed": false,
    "pycharm": {
     "name": "#%%\n"
    }
   }
  },
  {
   "cell_type": "code",
   "execution_count": 14,
   "outputs": [
    {
     "data": {
      "text/plain": "<IPython.core.display.HTML object>",
      "text/html": "<span class=\"tex2jax_ignore\"><svg xmlns=\"http://www.w3.org/2000/svg\" xmlns:xlink=\"http://www.w3.org/1999/xlink\" xml:lang=\"pl\" id=\"065d657bb379451bb231f09ecd6bc8c8-0\" class=\"displacy\" width=\"2850\" height=\"574.5\" direction=\"ltr\" style=\"max-width: none; height: 574.5px; color: #000000; background: #ffffff; font-family: Arial; direction: ltr\">\n<text class=\"displacy-token\" fill=\"currentColor\" text-anchor=\"middle\" y=\"484.5\">\n    <tspan class=\"displacy-word\" fill=\"currentColor\" x=\"50\">Wariabilizm –</tspan>\n    <tspan class=\"displacy-tag\" dy=\"2em\" fill=\"currentColor\" x=\"50\">NOUN</tspan>\n</text>\n\n<text class=\"displacy-token\" fill=\"currentColor\" text-anchor=\"middle\" y=\"484.5\">\n    <tspan class=\"displacy-word\" fill=\"currentColor\" x=\"225\">pogląd</tspan>\n    <tspan class=\"displacy-tag\" dy=\"2em\" fill=\"currentColor\" x=\"225\">NOUN</tspan>\n</text>\n\n<text class=\"displacy-token\" fill=\"currentColor\" text-anchor=\"middle\" y=\"484.5\">\n    <tspan class=\"displacy-word\" fill=\"currentColor\" x=\"400\">filozoficzny,</tspan>\n    <tspan class=\"displacy-tag\" dy=\"2em\" fill=\"currentColor\" x=\"400\">ADJ</tspan>\n</text>\n\n<text class=\"displacy-token\" fill=\"currentColor\" text-anchor=\"middle\" y=\"484.5\">\n    <tspan class=\"displacy-word\" fill=\"currentColor\" x=\"575\">według</tspan>\n    <tspan class=\"displacy-tag\" dy=\"2em\" fill=\"currentColor\" x=\"575\">ADP</tspan>\n</text>\n\n<text class=\"displacy-token\" fill=\"currentColor\" text-anchor=\"middle\" y=\"484.5\">\n    <tspan class=\"displacy-word\" fill=\"currentColor\" x=\"750\">którego</tspan>\n    <tspan class=\"displacy-tag\" dy=\"2em\" fill=\"currentColor\" x=\"750\">ADJ</tspan>\n</text>\n\n<text class=\"displacy-token\" fill=\"currentColor\" text-anchor=\"middle\" y=\"484.5\">\n    <tspan class=\"displacy-word\" fill=\"currentColor\" x=\"925\">rzeczywistość</tspan>\n    <tspan class=\"displacy-tag\" dy=\"2em\" fill=\"currentColor\" x=\"925\">NOUN</tspan>\n</text>\n\n<text class=\"displacy-token\" fill=\"currentColor\" text-anchor=\"middle\" y=\"484.5\">\n    <tspan class=\"displacy-word\" fill=\"currentColor\" x=\"1100\">jest</tspan>\n    <tspan class=\"displacy-tag\" dy=\"2em\" fill=\"currentColor\" x=\"1100\">VERB</tspan>\n</text>\n\n<text class=\"displacy-token\" fill=\"currentColor\" text-anchor=\"middle\" y=\"484.5\">\n    <tspan class=\"displacy-word\" fill=\"currentColor\" x=\"1275\">zmienna,</tspan>\n    <tspan class=\"displacy-tag\" dy=\"2em\" fill=\"currentColor\" x=\"1275\">ADJ</tspan>\n</text>\n\n<text class=\"displacy-token\" fill=\"currentColor\" text-anchor=\"middle\" y=\"484.5\">\n    <tspan class=\"displacy-word\" fill=\"currentColor\" x=\"1450\">dobrze</tspan>\n    <tspan class=\"displacy-tag\" dy=\"2em\" fill=\"currentColor\" x=\"1450\">ADV</tspan>\n</text>\n\n<text class=\"displacy-token\" fill=\"currentColor\" text-anchor=\"middle\" y=\"484.5\">\n    <tspan class=\"displacy-word\" fill=\"currentColor\" x=\"1625\">oddaje</tspan>\n    <tspan class=\"displacy-tag\" dy=\"2em\" fill=\"currentColor\" x=\"1625\">VERB</tspan>\n</text>\n\n<text class=\"displacy-token\" fill=\"currentColor\" text-anchor=\"middle\" y=\"484.5\">\n    <tspan class=\"displacy-word\" fill=\"currentColor\" x=\"1800\">to</tspan>\n    <tspan class=\"displacy-tag\" dy=\"2em\" fill=\"currentColor\" x=\"1800\">NOUN</tspan>\n</text>\n\n<text class=\"displacy-token\" fill=\"currentColor\" text-anchor=\"middle\" y=\"484.5\">\n    <tspan class=\"displacy-word\" fill=\"currentColor\" x=\"1975\">formuła</tspan>\n    <tspan class=\"displacy-tag\" dy=\"2em\" fill=\"currentColor\" x=\"1975\">NOUN</tspan>\n</text>\n\n<text class=\"displacy-token\" fill=\"currentColor\" text-anchor=\"middle\" y=\"484.5\">\n    <tspan class=\"displacy-word\" fill=\"currentColor\" x=\"2150\">przypisywana</tspan>\n    <tspan class=\"displacy-tag\" dy=\"2em\" fill=\"currentColor\" x=\"2150\">NOUN</tspan>\n</text>\n\n<text class=\"displacy-token\" fill=\"currentColor\" text-anchor=\"middle\" y=\"484.5\">\n    <tspan class=\"displacy-word\" fill=\"currentColor\" x=\"2325\">Heraklitowi</tspan>\n    <tspan class=\"displacy-tag\" dy=\"2em\" fill=\"currentColor\" x=\"2325\">NOUN</tspan>\n</text>\n\n<text class=\"displacy-token\" fill=\"currentColor\" text-anchor=\"middle\" y=\"484.5\">\n    <tspan class=\"displacy-word\" fill=\"currentColor\" x=\"2500\">z</tspan>\n    <tspan class=\"displacy-tag\" dy=\"2em\" fill=\"currentColor\" x=\"2500\">ADP</tspan>\n</text>\n\n<text class=\"displacy-token\" fill=\"currentColor\" text-anchor=\"middle\" y=\"484.5\">\n    <tspan class=\"displacy-word\" fill=\"currentColor\" x=\"2675\">Efezu</tspan>\n    <tspan class=\"displacy-tag\" dy=\"2em\" fill=\"currentColor\" x=\"2675\">NOUN</tspan>\n</text>\n\n<g class=\"displacy-arrow\">\n    <path class=\"displacy-arc\" id=\"arrow-065d657bb379451bb231f09ecd6bc8c8-0-0\" stroke-width=\"2px\" d=\"M70,439.5 C70,352.0 205.0,352.0 205.0,439.5\" fill=\"none\" stroke=\"currentColor\"/>\n    <text dy=\"1.25em\" style=\"font-size: 0.8em; letter-spacing: 1px\">\n        <textPath xlink:href=\"#arrow-065d657bb379451bb231f09ecd6bc8c8-0-0\" class=\"displacy-label\" startOffset=\"50%\" side=\"left\" fill=\"currentColor\" text-anchor=\"middle\">case</textPath>\n    </text>\n    <path class=\"displacy-arrowhead\" d=\"M205.0,441.5 L213.0,429.5 197.0,429.5\" fill=\"currentColor\"/>\n</g>\n\n<g class=\"displacy-arrow\">\n    <path class=\"displacy-arc\" id=\"arrow-065d657bb379451bb231f09ecd6bc8c8-0-1\" stroke-width=\"2px\" d=\"M245,439.5 C245,352.0 380.0,352.0 380.0,439.5\" fill=\"none\" stroke=\"currentColor\"/>\n    <text dy=\"1.25em\" style=\"font-size: 0.8em; letter-spacing: 1px\">\n        <textPath xlink:href=\"#arrow-065d657bb379451bb231f09ecd6bc8c8-0-1\" class=\"displacy-label\" startOffset=\"50%\" side=\"left\" fill=\"currentColor\" text-anchor=\"middle\">amod</textPath>\n    </text>\n    <path class=\"displacy-arrowhead\" d=\"M380.0,441.5 L388.0,429.5 372.0,429.5\" fill=\"currentColor\"/>\n</g>\n\n<g class=\"displacy-arrow\">\n    <path class=\"displacy-arc\" id=\"arrow-065d657bb379451bb231f09ecd6bc8c8-0-2\" stroke-width=\"2px\" d=\"M595,439.5 C595,264.5 910.0,264.5 910.0,439.5\" fill=\"none\" stroke=\"currentColor\"/>\n    <text dy=\"1.25em\" style=\"font-size: 0.8em; letter-spacing: 1px\">\n        <textPath xlink:href=\"#arrow-065d657bb379451bb231f09ecd6bc8c8-0-2\" class=\"displacy-label\" startOffset=\"50%\" side=\"left\" fill=\"currentColor\" text-anchor=\"middle\">case</textPath>\n    </text>\n    <path class=\"displacy-arrowhead\" d=\"M595,441.5 L587,429.5 603,429.5\" fill=\"currentColor\"/>\n</g>\n\n<g class=\"displacy-arrow\">\n    <path class=\"displacy-arc\" id=\"arrow-065d657bb379451bb231f09ecd6bc8c8-0-3\" stroke-width=\"2px\" d=\"M770,439.5 C770,352.0 905.0,352.0 905.0,439.5\" fill=\"none\" stroke=\"currentColor\"/>\n    <text dy=\"1.25em\" style=\"font-size: 0.8em; letter-spacing: 1px\">\n        <textPath xlink:href=\"#arrow-065d657bb379451bb231f09ecd6bc8c8-0-3\" class=\"displacy-label\" startOffset=\"50%\" side=\"left\" fill=\"currentColor\" text-anchor=\"middle\">amod</textPath>\n    </text>\n    <path class=\"displacy-arrowhead\" d=\"M770,441.5 L762,429.5 778,429.5\" fill=\"currentColor\"/>\n</g>\n\n<g class=\"displacy-arrow\">\n    <path class=\"displacy-arc\" id=\"arrow-065d657bb379451bb231f09ecd6bc8c8-0-4\" stroke-width=\"2px\" d=\"M945,439.5 C945,264.5 1260.0,264.5 1260.0,439.5\" fill=\"none\" stroke=\"currentColor\"/>\n    <text dy=\"1.25em\" style=\"font-size: 0.8em; letter-spacing: 1px\">\n        <textPath xlink:href=\"#arrow-065d657bb379451bb231f09ecd6bc8c8-0-4\" class=\"displacy-label\" startOffset=\"50%\" side=\"left\" fill=\"currentColor\" text-anchor=\"middle\">obl</textPath>\n    </text>\n    <path class=\"displacy-arrowhead\" d=\"M945,441.5 L937,429.5 953,429.5\" fill=\"currentColor\"/>\n</g>\n\n<g class=\"displacy-arrow\">\n    <path class=\"displacy-arc\" id=\"arrow-065d657bb379451bb231f09ecd6bc8c8-0-5\" stroke-width=\"2px\" d=\"M1120,439.5 C1120,352.0 1255.0,352.0 1255.0,439.5\" fill=\"none\" stroke=\"currentColor\"/>\n    <text dy=\"1.25em\" style=\"font-size: 0.8em; letter-spacing: 1px\">\n        <textPath xlink:href=\"#arrow-065d657bb379451bb231f09ecd6bc8c8-0-5\" class=\"displacy-label\" startOffset=\"50%\" side=\"left\" fill=\"currentColor\" text-anchor=\"middle\">cop</textPath>\n    </text>\n    <path class=\"displacy-arrowhead\" d=\"M1120,441.5 L1112,429.5 1128,429.5\" fill=\"currentColor\"/>\n</g>\n\n<g class=\"displacy-arrow\">\n    <path class=\"displacy-arc\" id=\"arrow-065d657bb379451bb231f09ecd6bc8c8-0-6\" stroke-width=\"2px\" d=\"M70,439.5 C70,2.0 1275.0,2.0 1275.0,439.5\" fill=\"none\" stroke=\"currentColor\"/>\n    <text dy=\"1.25em\" style=\"font-size: 0.8em; letter-spacing: 1px\">\n        <textPath xlink:href=\"#arrow-065d657bb379451bb231f09ecd6bc8c8-0-6\" class=\"displacy-label\" startOffset=\"50%\" side=\"left\" fill=\"currentColor\" text-anchor=\"middle\">appos</textPath>\n    </text>\n    <path class=\"displacy-arrowhead\" d=\"M1275.0,441.5 L1283.0,429.5 1267.0,429.5\" fill=\"currentColor\"/>\n</g>\n\n<g class=\"displacy-arrow\">\n    <path class=\"displacy-arc\" id=\"arrow-065d657bb379451bb231f09ecd6bc8c8-0-7\" stroke-width=\"2px\" d=\"M1470,439.5 C1470,352.0 1605.0,352.0 1605.0,439.5\" fill=\"none\" stroke=\"currentColor\"/>\n    <text dy=\"1.25em\" style=\"font-size: 0.8em; letter-spacing: 1px\">\n        <textPath xlink:href=\"#arrow-065d657bb379451bb231f09ecd6bc8c8-0-7\" class=\"displacy-label\" startOffset=\"50%\" side=\"left\" fill=\"currentColor\" text-anchor=\"middle\">advmod</textPath>\n    </text>\n    <path class=\"displacy-arrowhead\" d=\"M1470,441.5 L1462,429.5 1478,429.5\" fill=\"currentColor\"/>\n</g>\n\n<g class=\"displacy-arrow\">\n    <path class=\"displacy-arc\" id=\"arrow-065d657bb379451bb231f09ecd6bc8c8-0-8\" stroke-width=\"2px\" d=\"M1645,439.5 C1645,264.5 1960.0,264.5 1960.0,439.5\" fill=\"none\" stroke=\"currentColor\"/>\n    <text dy=\"1.25em\" style=\"font-size: 0.8em; letter-spacing: 1px\">\n        <textPath xlink:href=\"#arrow-065d657bb379451bb231f09ecd6bc8c8-0-8\" class=\"displacy-label\" startOffset=\"50%\" side=\"left\" fill=\"currentColor\" text-anchor=\"middle\">cop</textPath>\n    </text>\n    <path class=\"displacy-arrowhead\" d=\"M1645,441.5 L1637,429.5 1653,429.5\" fill=\"currentColor\"/>\n</g>\n\n<g class=\"displacy-arrow\">\n    <path class=\"displacy-arc\" id=\"arrow-065d657bb379451bb231f09ecd6bc8c8-0-9\" stroke-width=\"2px\" d=\"M1820,439.5 C1820,352.0 1955.0,352.0 1955.0,439.5\" fill=\"none\" stroke=\"currentColor\"/>\n    <text dy=\"1.25em\" style=\"font-size: 0.8em; letter-spacing: 1px\">\n        <textPath xlink:href=\"#arrow-065d657bb379451bb231f09ecd6bc8c8-0-9\" class=\"displacy-label\" startOffset=\"50%\" side=\"left\" fill=\"currentColor\" text-anchor=\"middle\">cop</textPath>\n    </text>\n    <path class=\"displacy-arrowhead\" d=\"M1820,441.5 L1812,429.5 1828,429.5\" fill=\"currentColor\"/>\n</g>\n\n<g class=\"displacy-arrow\">\n    <path class=\"displacy-arc\" id=\"arrow-065d657bb379451bb231f09ecd6bc8c8-0-10\" stroke-width=\"2px\" d=\"M1295,439.5 C1295,89.5 1970.0,89.5 1970.0,439.5\" fill=\"none\" stroke=\"currentColor\"/>\n    <text dy=\"1.25em\" style=\"font-size: 0.8em; letter-spacing: 1px\">\n        <textPath xlink:href=\"#arrow-065d657bb379451bb231f09ecd6bc8c8-0-10\" class=\"displacy-label\" startOffset=\"50%\" side=\"left\" fill=\"currentColor\" text-anchor=\"middle\">conj</textPath>\n    </text>\n    <path class=\"displacy-arrowhead\" d=\"M1970.0,441.5 L1978.0,429.5 1962.0,429.5\" fill=\"currentColor\"/>\n</g>\n\n<g class=\"displacy-arrow\">\n    <path class=\"displacy-arc\" id=\"arrow-065d657bb379451bb231f09ecd6bc8c8-0-11\" stroke-width=\"2px\" d=\"M1995,439.5 C1995,352.0 2130.0,352.0 2130.0,439.5\" fill=\"none\" stroke=\"currentColor\"/>\n    <text dy=\"1.25em\" style=\"font-size: 0.8em; letter-spacing: 1px\">\n        <textPath xlink:href=\"#arrow-065d657bb379451bb231f09ecd6bc8c8-0-11\" class=\"displacy-label\" startOffset=\"50%\" side=\"left\" fill=\"currentColor\" text-anchor=\"middle\">amod</textPath>\n    </text>\n    <path class=\"displacy-arrowhead\" d=\"M2130.0,441.5 L2138.0,429.5 2122.0,429.5\" fill=\"currentColor\"/>\n</g>\n\n<g class=\"displacy-arrow\">\n    <path class=\"displacy-arc\" id=\"arrow-065d657bb379451bb231f09ecd6bc8c8-0-12\" stroke-width=\"2px\" d=\"M2170,439.5 C2170,352.0 2305.0,352.0 2305.0,439.5\" fill=\"none\" stroke=\"currentColor\"/>\n    <text dy=\"1.25em\" style=\"font-size: 0.8em; letter-spacing: 1px\">\n        <textPath xlink:href=\"#arrow-065d657bb379451bb231f09ecd6bc8c8-0-12\" class=\"displacy-label\" startOffset=\"50%\" side=\"left\" fill=\"currentColor\" text-anchor=\"middle\">obj</textPath>\n    </text>\n    <path class=\"displacy-arrowhead\" d=\"M2305.0,441.5 L2313.0,429.5 2297.0,429.5\" fill=\"currentColor\"/>\n</g>\n\n<g class=\"displacy-arrow\">\n    <path class=\"displacy-arc\" id=\"arrow-065d657bb379451bb231f09ecd6bc8c8-0-13\" stroke-width=\"2px\" d=\"M2520,439.5 C2520,352.0 2655.0,352.0 2655.0,439.5\" fill=\"none\" stroke=\"currentColor\"/>\n    <text dy=\"1.25em\" style=\"font-size: 0.8em; letter-spacing: 1px\">\n        <textPath xlink:href=\"#arrow-065d657bb379451bb231f09ecd6bc8c8-0-13\" class=\"displacy-label\" startOffset=\"50%\" side=\"left\" fill=\"currentColor\" text-anchor=\"middle\">case</textPath>\n    </text>\n    <path class=\"displacy-arrowhead\" d=\"M2520,441.5 L2512,429.5 2528,429.5\" fill=\"currentColor\"/>\n</g>\n\n<g class=\"displacy-arrow\">\n    <path class=\"displacy-arc\" id=\"arrow-065d657bb379451bb231f09ecd6bc8c8-0-14\" stroke-width=\"2px\" d=\"M2170,439.5 C2170,177.0 2665.0,177.0 2665.0,439.5\" fill=\"none\" stroke=\"currentColor\"/>\n    <text dy=\"1.25em\" style=\"font-size: 0.8em; letter-spacing: 1px\">\n        <textPath xlink:href=\"#arrow-065d657bb379451bb231f09ecd6bc8c8-0-14\" class=\"displacy-label\" startOffset=\"50%\" side=\"left\" fill=\"currentColor\" text-anchor=\"middle\">obl:arg</textPath>\n    </text>\n    <path class=\"displacy-arrowhead\" d=\"M2665.0,441.5 L2673.0,429.5 2657.0,429.5\" fill=\"currentColor\"/>\n</g>\n</svg></span>"
     },
     "metadata": {},
     "output_type": "display_data"
    }
   ],
   "source": [
    "#Wizualizacja z displaCy\n",
    "about_interest_text = ('Wariabilizm – pogląd filozoficzny, według którego rzeczywistość jest zmienna, dobrze oddaje to formuła przypisywana Heraklitowi z Efezu')\n",
    "about_interest_doc = nlp(about_interest_text)\n",
    "displacy.render(about_interest_doc, jupyter=True,style='dep')\n"
   ],
   "metadata": {
    "collapsed": false,
    "pycharm": {
     "name": "#%%\n"
    }
   }
  },
  {
   "cell_type": "code",
   "execution_count": 15,
   "outputs": [
    {
     "name": "stdout",
     "output_type": "stream",
     "text": [
      "['pierwszy', 'zespół', 'kluba', 'budowlany', 'jeleni', 'góra', 'występować', '1949', 'trener', 'marianin', 'koczwara', 'ukończenie', 'szkoła', 'średni', '1953', 'zawodnik', 'drugoligowy', 'ogniwo', 'wrocław', 'wrocławski', 'drużyna', 'zająć', 'sezon', '1953/1954', 'pierwszy', 'miejsce', 'grupa', 'południowy', 'ii', 'liga', 'następnie', 'trzeci', 'miejsce', 'turniej', 'finałowy', 'awans', 'ekstraklasa', 'sezon', '1954/1955', 'zająć', 'drużyna', 'drugi', 'miejsce', 'grupa', 'b', 'ii', 'liga', 'sezon', '1955/1956', 'zawodnik', 'pierwszoligowy', 'polonia', 'warszawa', 'pierwszy', 'sezon', 'ekstraklasa', 'zająć', 'drużyna', 'piąty', 'miejsce', 'zdobyć', 'tytuł', 'król', 'strzelec', 'liga', '417', 'pkt', '1957', 'zdobyć', 'polonia', 'wicemistrzostwo', '1959', 'mistrzostwo', 'polska', 'kolejny', 'tytuł', 'król', 'strzelec', 'liga', '599', 'pkt', '1960', 'kolejny', 'wicemistrzostwo', 'polska', 'trzeci', 'tytuł', 'król', 'strzelec', 'liga', '563', 'pkt', 'sezon', '1960/1961', 'zawodnik', 'legia', 'warszawa', 'legia', 'zdobyć', 'mistrzostwo', 'polska', '1961', '1963', '1966', 'wicemistrzostwo', 'polska', '1968', 'brązowy', 'medal', 'mistrzostwo', 'polska', '1962', 'sezon', '1963/1964', 'czwarty', 'kariera', 'dobry', 'strzelec', 'liga', '593', 'pkt']\n"
     ]
    }
   ],
   "source": [
    "#zamiana słów na ich wersję podstawową\n",
    "def is_token_allowed(token):\n",
    "    if not token or not token.string.strip() or token.is_stop or token.is_punct:\n",
    "        return False\n",
    "    return True\n",
    "\n",
    "def preprocess_token(token):\n",
    "    return token.lemma_.strip().lower()\n",
    "\n",
    "complete_filtered_tokens = [preprocess_token(token)for token in complete_doc if is_token_allowed(token)]\n",
    "print(complete_filtered_tokens)"
   ],
   "metadata": {
    "collapsed": false,
    "pycharm": {
     "name": "#%%\n"
    }
   }
  },
  {
   "cell_type": "code",
   "execution_count": 16,
   "outputs": [
    {
     "name": "stdout",
     "output_type": "stream",
     "text": [
      "None\n"
     ]
    }
   ],
   "source": [
    "#Ekstrakcja imienia i nazwiska (Po polsku nie działa, Imiona i nazwiska traktuje jako zwykłe rzeczowniki)\n",
    "matcher = Matcher(nlp.vocab)\n",
    "def extract_full_name(nlp_doc):\n",
    "\tpattern = [{'POS': 'PROPN'}, {'POS': 'PROPN'}]\n",
    "\tmatcher.add('FULL_NAME', None, pattern)\n",
    "\tmatches = matcher(nlp_doc)\n",
    "\tfor match_id, start, end in matches:\n",
    "\t\tspan = nlp_doc[start:end]\n",
    "\t\treturn span.text\n",
    "\n",
    "name_text=\"Piotr Domaradzki polski pisarz, eseista, tłumacz i dziennikarz, z wykształcenia historyk, z zamiłowania grafik\"\n",
    "name_text_doc=nlp(name_text)\n",
    "print(extract_full_name(name_text_doc))"
   ],
   "metadata": {
    "collapsed": false,
    "pycharm": {
     "name": "#%%\n"
    }
   }
  },
  {
   "cell_type": "code",
   "execution_count": 17,
   "outputs": [
    {
     "data": {
      "text/plain": "'+48 154 562 563'"
     },
     "execution_count": 17,
     "metadata": {},
     "output_type": "execute_result"
    }
   ],
   "source": [
    "#Ekstrakcja numeru telefonu\n",
    "numberText=(\"Mój numer to +48 154 562 563, tylko późno nie dzwoń\")\n",
    "\n",
    "def extract_phone_number(nlp_doc):\n",
    "\tpattern = [{\"ORTH\": \"+48\"}, {\"SHAPE\": \"ddd\"}, {\"SHAPE\": \"ddd\"},{\"SHAPE\": \"ddd\"}]\n",
    "\tmatcher.add('PHONE_NUMBER', None, pattern)\n",
    "\tmatches = matcher(nlp_doc)\n",
    "\tfor match_id, start, end in matches:\n",
    "\t\tspan = nlp_doc[start:end]\n",
    "\t\treturn span.text\n",
    "\n",
    "conference_org_doc = nlp(numberText)\n",
    "extract_phone_number(conference_org_doc)\n"
   ],
   "metadata": {
    "collapsed": false,
    "pycharm": {
     "name": "#%%\n"
    }
   }
  },
  {
   "cell_type": "code",
   "execution_count": 18,
   "outputs": [
    {
     "name": "stdout",
     "output_type": "stream",
     "text": [
      "Kuba SUBST lubi nsubj\n",
      "nie QUB lubi advmod\n",
      "lubi FIN lubi ROOT\n",
      "używać INF lubi xcomp\n",
      "js SUBST używać obj\n"
     ]
    },
    {
     "data": {
      "text/plain": "<IPython.core.display.HTML object>",
      "text/html": "<span class=\"tex2jax_ignore\"><svg xmlns=\"http://www.w3.org/2000/svg\" xmlns:xlink=\"http://www.w3.org/1999/xlink\" xml:lang=\"pl\" id=\"7426bf8083a2446c897ff6ee389120ac-0\" class=\"displacy\" width=\"925\" height=\"312.0\" direction=\"ltr\" style=\"max-width: none; height: 312.0px; color: #000000; background: #ffffff; font-family: Arial; direction: ltr\">\n<text class=\"displacy-token\" fill=\"currentColor\" text-anchor=\"middle\" y=\"222.0\">\n    <tspan class=\"displacy-word\" fill=\"currentColor\" x=\"50\">Kuba</tspan>\n    <tspan class=\"displacy-tag\" dy=\"2em\" fill=\"currentColor\" x=\"50\">NOUN</tspan>\n</text>\n\n<text class=\"displacy-token\" fill=\"currentColor\" text-anchor=\"middle\" y=\"222.0\">\n    <tspan class=\"displacy-word\" fill=\"currentColor\" x=\"225\">nie</tspan>\n    <tspan class=\"displacy-tag\" dy=\"2em\" fill=\"currentColor\" x=\"225\">PART</tspan>\n</text>\n\n<text class=\"displacy-token\" fill=\"currentColor\" text-anchor=\"middle\" y=\"222.0\">\n    <tspan class=\"displacy-word\" fill=\"currentColor\" x=\"400\">lubi</tspan>\n    <tspan class=\"displacy-tag\" dy=\"2em\" fill=\"currentColor\" x=\"400\">VERB</tspan>\n</text>\n\n<text class=\"displacy-token\" fill=\"currentColor\" text-anchor=\"middle\" y=\"222.0\">\n    <tspan class=\"displacy-word\" fill=\"currentColor\" x=\"575\">używać</tspan>\n    <tspan class=\"displacy-tag\" dy=\"2em\" fill=\"currentColor\" x=\"575\">VERB</tspan>\n</text>\n\n<text class=\"displacy-token\" fill=\"currentColor\" text-anchor=\"middle\" y=\"222.0\">\n    <tspan class=\"displacy-word\" fill=\"currentColor\" x=\"750\">js</tspan>\n    <tspan class=\"displacy-tag\" dy=\"2em\" fill=\"currentColor\" x=\"750\">NOUN</tspan>\n</text>\n\n<g class=\"displacy-arrow\">\n    <path class=\"displacy-arc\" id=\"arrow-7426bf8083a2446c897ff6ee389120ac-0-0\" stroke-width=\"2px\" d=\"M70,177.0 C70,2.0 400.0,2.0 400.0,177.0\" fill=\"none\" stroke=\"currentColor\"/>\n    <text dy=\"1.25em\" style=\"font-size: 0.8em; letter-spacing: 1px\">\n        <textPath xlink:href=\"#arrow-7426bf8083a2446c897ff6ee389120ac-0-0\" class=\"displacy-label\" startOffset=\"50%\" side=\"left\" fill=\"currentColor\" text-anchor=\"middle\">nsubj</textPath>\n    </text>\n    <path class=\"displacy-arrowhead\" d=\"M70,179.0 L62,167.0 78,167.0\" fill=\"currentColor\"/>\n</g>\n\n<g class=\"displacy-arrow\">\n    <path class=\"displacy-arc\" id=\"arrow-7426bf8083a2446c897ff6ee389120ac-0-1\" stroke-width=\"2px\" d=\"M245,177.0 C245,89.5 395.0,89.5 395.0,177.0\" fill=\"none\" stroke=\"currentColor\"/>\n    <text dy=\"1.25em\" style=\"font-size: 0.8em; letter-spacing: 1px\">\n        <textPath xlink:href=\"#arrow-7426bf8083a2446c897ff6ee389120ac-0-1\" class=\"displacy-label\" startOffset=\"50%\" side=\"left\" fill=\"currentColor\" text-anchor=\"middle\">advmod</textPath>\n    </text>\n    <path class=\"displacy-arrowhead\" d=\"M245,179.0 L237,167.0 253,167.0\" fill=\"currentColor\"/>\n</g>\n\n<g class=\"displacy-arrow\">\n    <path class=\"displacy-arc\" id=\"arrow-7426bf8083a2446c897ff6ee389120ac-0-2\" stroke-width=\"2px\" d=\"M420,177.0 C420,89.5 570.0,89.5 570.0,177.0\" fill=\"none\" stroke=\"currentColor\"/>\n    <text dy=\"1.25em\" style=\"font-size: 0.8em; letter-spacing: 1px\">\n        <textPath xlink:href=\"#arrow-7426bf8083a2446c897ff6ee389120ac-0-2\" class=\"displacy-label\" startOffset=\"50%\" side=\"left\" fill=\"currentColor\" text-anchor=\"middle\">xcomp</textPath>\n    </text>\n    <path class=\"displacy-arrowhead\" d=\"M570.0,179.0 L578.0,167.0 562.0,167.0\" fill=\"currentColor\"/>\n</g>\n\n<g class=\"displacy-arrow\">\n    <path class=\"displacy-arc\" id=\"arrow-7426bf8083a2446c897ff6ee389120ac-0-3\" stroke-width=\"2px\" d=\"M595,177.0 C595,89.5 745.0,89.5 745.0,177.0\" fill=\"none\" stroke=\"currentColor\"/>\n    <text dy=\"1.25em\" style=\"font-size: 0.8em; letter-spacing: 1px\">\n        <textPath xlink:href=\"#arrow-7426bf8083a2446c897ff6ee389120ac-0-3\" class=\"displacy-label\" startOffset=\"50%\" side=\"left\" fill=\"currentColor\" text-anchor=\"middle\">obj</textPath>\n    </text>\n    <path class=\"displacy-arrowhead\" d=\"M745.0,179.0 L753.0,167.0 737.0,167.0\" fill=\"currentColor\"/>\n</g>\n</svg></span>"
     },
     "metadata": {},
     "output_type": "display_data"
    }
   ],
   "source": [
    "#Wyświetlanie struktury zdania\n",
    "text = 'Kuba nie lubi używać js'\n",
    "doc = nlp(text)\n",
    "for token in doc:\n",
    "    print(token.text, token.tag_,token.head.text, token.dep_)\n",
    "displacy.render(doc,jupyter=True ,style='dep')"
   ],
   "metadata": {
    "collapsed": false,
    "pycharm": {
     "name": "#%%\n"
    }
   }
  },
  {
   "cell_type": "code",
   "execution_count": 19,
   "outputs": [
    {
     "name": "stdout",
     "output_type": "stream",
     "text": [
      "['i', 'nie', 'firmy']\n",
      "dla\n",
      "[i, nie, pracuje, dla, francuskiej, firmy]\n"
     ]
    }
   ],
   "source": [
    "#Nawigacja po drzewie\n",
    "one_line_about_text = ('Kuba używa Pythona i nie pracuje dla francuskiej firmy')\n",
    "one_line_about_doc = nlp(one_line_about_text)\n",
    "#Dzieci słowa pracuje\n",
    "print([token.text for token in one_line_about_doc[5].children])\n",
    "#Najbliższy sąsiad węzła pracuje\n",
    "print (one_line_about_doc[5].nbor())\n",
    "#Poddrzewo pracuje\n",
    "print (list(one_line_about_doc[5].subtree))"
   ],
   "metadata": {
    "collapsed": false,
    "pycharm": {
     "name": "#%%\n"
    }
   }
  },
  {
   "cell_type": "code",
   "execution_count": 20,
   "outputs": [
    {
     "name": "stdout",
     "output_type": "stream",
     "text": [
      "Kuba używa Pythona i nie pracuje dla francuskiej firmy\n"
     ]
    }
   ],
   "source": [
    "#Tworzenie zdania z poddrzewa\n",
    "def flatten_tree(tree):\n",
    "    return ''.join([token.text_with_ws for token in list(tree)]).strip()\n",
    "print (flatten_tree(one_line_about_doc[1].subtree))\n"
   ],
   "metadata": {
    "collapsed": false,
    "pycharm": {
     "name": "#%%\n"
    }
   }
  },
  {
   "cell_type": "code",
   "execution_count": 21,
   "outputs": [],
   "source": [
    "#detekcja grupy nominalnej(Nie działa z żadnym tekstem)\n",
    "nom_text = ('Przedsięwzięcie miało służyć przekazywaniu polskich tradycji narodowych dzieciom emigrantów w okresu powstania listopadowego, najczęściej urodzonych we Francji w rodzinach mieszanych polsko-francuskich.')\n",
    "nom_doc = nlp(nom_text)\n",
    "for chunk in nom_doc.noun_chunks:\n",
    "\tprint(chunk)"
   ],
   "metadata": {
    "collapsed": false,
    "pycharm": {
     "name": "#%%\n"
    }
   }
  },
  {
   "cell_type": "code",
   "execution_count": 22,
   "outputs": [
    {
     "name": "stdout",
     "output_type": "stream",
     "text": [
      "zajmował\n",
      "zajmował się\n"
     ]
    }
   ],
   "source": [
    "#Detekcja grupy czasownikowej\n",
    "about_talk_text=('W początkach roku 1878, kiedy świat polityczny zajmował się pokoగem san-stefańskim,wyborem nowego papieża')\n",
    "pattern = [{\"POS\": \"VERB\", \"OP\": \"*\"},{\"POS\": \"ADV\", \"OP\": \"*\"},{\"POS\": \"VERB\", \"OP\": \"+\"},{\"POS\": \"PART\", \"OP\": \"*\"}]\n",
    "about_talk_doc = textacy.make_spacy_doc(about_talk_text,lang='pl_core_news_sm')\n",
    "verb_phrases = textacy.extract.matches(about_talk_doc, pattern)\n",
    "for chunk in verb_phrases:\n",
    "    print(chunk.text)\n",
    "\n",
    "for chunk in about_talk_doc.noun_chunks:\n",
    "    print (chunk)"
   ],
   "metadata": {
    "collapsed": false,
    "pycharm": {
     "name": "#%%\n"
    }
   }
  },
  {
   "cell_type": "code",
   "execution_count": 23,
   "outputs": [
    {
     "name": "stdout",
     "output_type": "stream",
     "text": [
      "Stomil, 15, 21, persName, None\n",
      "Olsztynie, 37, 46, placeName, None\n",
      "Lublina, 87, 94, placeName, None\n"
     ]
    },
    {
     "data": {
      "text/plain": "<IPython.core.display.HTML object>",
      "text/html": "<span class=\"tex2jax_ignore\"><svg xmlns=\"http://www.w3.org/2000/svg\" xmlns:xlink=\"http://www.w3.org/1999/xlink\" xml:lang=\"pl\" id=\"b1badfa0ced147d1a36b49f0ca8818ba-0\" class=\"displacy\" width=\"2850\" height=\"574.5\" direction=\"ltr\" style=\"max-width: none; height: 574.5px; color: #000000; background: #ffffff; font-family: Arial; direction: ltr\">\n<text class=\"displacy-token\" fill=\"currentColor\" text-anchor=\"middle\" y=\"484.5\">\n    <tspan class=\"displacy-word\" fill=\"currentColor\" x=\"50\">Klub</tspan>\n    <tspan class=\"displacy-tag\" dy=\"2em\" fill=\"currentColor\" x=\"50\">NOUN</tspan>\n</text>\n\n<text class=\"displacy-token\" fill=\"currentColor\" text-anchor=\"middle\" y=\"484.5\">\n    <tspan class=\"displacy-word\" fill=\"currentColor\" x=\"225\">piłkarski</tspan>\n    <tspan class=\"displacy-tag\" dy=\"2em\" fill=\"currentColor\" x=\"225\">ADJ</tspan>\n</text>\n\n<text class=\"displacy-token\" fill=\"currentColor\" text-anchor=\"middle\" y=\"484.5\">\n    <tspan class=\"displacy-word\" fill=\"currentColor\" x=\"400\">Stomil</tspan>\n    <tspan class=\"displacy-tag\" dy=\"2em\" fill=\"currentColor\" x=\"400\">NOUN</tspan>\n</text>\n\n<text class=\"displacy-token\" fill=\"currentColor\" text-anchor=\"middle\" y=\"484.5\">\n    <tspan class=\"displacy-word\" fill=\"currentColor\" x=\"575\">znajduje</tspan>\n    <tspan class=\"displacy-tag\" dy=\"2em\" fill=\"currentColor\" x=\"575\">VERB</tspan>\n</text>\n\n<text class=\"displacy-token\" fill=\"currentColor\" text-anchor=\"middle\" y=\"484.5\">\n    <tspan class=\"displacy-word\" fill=\"currentColor\" x=\"750\">się</tspan>\n    <tspan class=\"displacy-tag\" dy=\"2em\" fill=\"currentColor\" x=\"750\">PART</tspan>\n</text>\n\n<text class=\"displacy-token\" fill=\"currentColor\" text-anchor=\"middle\" y=\"484.5\">\n    <tspan class=\"displacy-word\" fill=\"currentColor\" x=\"925\">w</tspan>\n    <tspan class=\"displacy-tag\" dy=\"2em\" fill=\"currentColor\" x=\"925\">ADP</tspan>\n</text>\n\n<text class=\"displacy-token\" fill=\"currentColor\" text-anchor=\"middle\" y=\"484.5\">\n    <tspan class=\"displacy-word\" fill=\"currentColor\" x=\"1100\">Olsztynie</tspan>\n    <tspan class=\"displacy-tag\" dy=\"2em\" fill=\"currentColor\" x=\"1100\">NOUN</tspan>\n</text>\n\n<text class=\"displacy-token\" fill=\"currentColor\" text-anchor=\"middle\" y=\"484.5\">\n    <tspan class=\"displacy-word\" fill=\"currentColor\" x=\"1275\">i</tspan>\n    <tspan class=\"displacy-tag\" dy=\"2em\" fill=\"currentColor\" x=\"1275\">CCONJ</tspan>\n</text>\n\n<text class=\"displacy-token\" fill=\"currentColor\" text-anchor=\"middle\" y=\"484.5\">\n    <tspan class=\"displacy-word\" fill=\"currentColor\" x=\"1450\">w</tspan>\n    <tspan class=\"displacy-tag\" dy=\"2em\" fill=\"currentColor\" x=\"1450\">ADP</tspan>\n</text>\n\n<text class=\"displacy-token\" fill=\"currentColor\" text-anchor=\"middle\" y=\"484.5\">\n    <tspan class=\"displacy-word\" fill=\"currentColor\" x=\"1625\">następnej</tspan>\n    <tspan class=\"displacy-tag\" dy=\"2em\" fill=\"currentColor\" x=\"1625\">ADJ</tspan>\n</text>\n\n<text class=\"displacy-token\" fill=\"currentColor\" text-anchor=\"middle\" y=\"484.5\">\n    <tspan class=\"displacy-word\" fill=\"currentColor\" x=\"1800\">kolejce</tspan>\n    <tspan class=\"displacy-tag\" dy=\"2em\" fill=\"currentColor\" x=\"1800\">NOUN</tspan>\n</text>\n\n<text class=\"displacy-token\" fill=\"currentColor\" text-anchor=\"middle\" y=\"484.5\">\n    <tspan class=\"displacy-word\" fill=\"currentColor\" x=\"1975\">grają</tspan>\n    <tspan class=\"displacy-tag\" dy=\"2em\" fill=\"currentColor\" x=\"1975\">VERB</tspan>\n</text>\n\n<text class=\"displacy-token\" fill=\"currentColor\" text-anchor=\"middle\" y=\"484.5\">\n    <tspan class=\"displacy-word\" fill=\"currentColor\" x=\"2150\">z</tspan>\n    <tspan class=\"displacy-tag\" dy=\"2em\" fill=\"currentColor\" x=\"2150\">ADP</tspan>\n</text>\n\n<text class=\"displacy-token\" fill=\"currentColor\" text-anchor=\"middle\" y=\"484.5\">\n    <tspan class=\"displacy-word\" fill=\"currentColor\" x=\"2325\">drużyną</tspan>\n    <tspan class=\"displacy-tag\" dy=\"2em\" fill=\"currentColor\" x=\"2325\">NOUN</tspan>\n</text>\n\n<text class=\"displacy-token\" fill=\"currentColor\" text-anchor=\"middle\" y=\"484.5\">\n    <tspan class=\"displacy-word\" fill=\"currentColor\" x=\"2500\">z</tspan>\n    <tspan class=\"displacy-tag\" dy=\"2em\" fill=\"currentColor\" x=\"2500\">ADP</tspan>\n</text>\n\n<text class=\"displacy-token\" fill=\"currentColor\" text-anchor=\"middle\" y=\"484.5\">\n    <tspan class=\"displacy-word\" fill=\"currentColor\" x=\"2675\">Lublina</tspan>\n    <tspan class=\"displacy-tag\" dy=\"2em\" fill=\"currentColor\" x=\"2675\">NOUN</tspan>\n</text>\n\n<g class=\"displacy-arrow\">\n    <path class=\"displacy-arc\" id=\"arrow-b1badfa0ced147d1a36b49f0ca8818ba-0-0\" stroke-width=\"2px\" d=\"M70,439.5 C70,177.0 565.0,177.0 565.0,439.5\" fill=\"none\" stroke=\"currentColor\"/>\n    <text dy=\"1.25em\" style=\"font-size: 0.8em; letter-spacing: 1px\">\n        <textPath xlink:href=\"#arrow-b1badfa0ced147d1a36b49f0ca8818ba-0-0\" class=\"displacy-label\" startOffset=\"50%\" side=\"left\" fill=\"currentColor\" text-anchor=\"middle\">nsubj</textPath>\n    </text>\n    <path class=\"displacy-arrowhead\" d=\"M70,441.5 L62,429.5 78,429.5\" fill=\"currentColor\"/>\n</g>\n\n<g class=\"displacy-arrow\">\n    <path class=\"displacy-arc\" id=\"arrow-b1badfa0ced147d1a36b49f0ca8818ba-0-1\" stroke-width=\"2px\" d=\"M245,439.5 C245,352.0 380.0,352.0 380.0,439.5\" fill=\"none\" stroke=\"currentColor\"/>\n    <text dy=\"1.25em\" style=\"font-size: 0.8em; letter-spacing: 1px\">\n        <textPath xlink:href=\"#arrow-b1badfa0ced147d1a36b49f0ca8818ba-0-1\" class=\"displacy-label\" startOffset=\"50%\" side=\"left\" fill=\"currentColor\" text-anchor=\"middle\">amod</textPath>\n    </text>\n    <path class=\"displacy-arrowhead\" d=\"M245,441.5 L237,429.5 253,429.5\" fill=\"currentColor\"/>\n</g>\n\n<g class=\"displacy-arrow\">\n    <path class=\"displacy-arc\" id=\"arrow-b1badfa0ced147d1a36b49f0ca8818ba-0-2\" stroke-width=\"2px\" d=\"M70,439.5 C70,264.5 385.0,264.5 385.0,439.5\" fill=\"none\" stroke=\"currentColor\"/>\n    <text dy=\"1.25em\" style=\"font-size: 0.8em; letter-spacing: 1px\">\n        <textPath xlink:href=\"#arrow-b1badfa0ced147d1a36b49f0ca8818ba-0-2\" class=\"displacy-label\" startOffset=\"50%\" side=\"left\" fill=\"currentColor\" text-anchor=\"middle\">nmod</textPath>\n    </text>\n    <path class=\"displacy-arrowhead\" d=\"M385.0,441.5 L393.0,429.5 377.0,429.5\" fill=\"currentColor\"/>\n</g>\n\n<g class=\"displacy-arrow\">\n    <path class=\"displacy-arc\" id=\"arrow-b1badfa0ced147d1a36b49f0ca8818ba-0-3\" stroke-width=\"2px\" d=\"M595,439.5 C595,352.0 730.0,352.0 730.0,439.5\" fill=\"none\" stroke=\"currentColor\"/>\n    <text dy=\"1.25em\" style=\"font-size: 0.8em; letter-spacing: 1px\">\n        <textPath xlink:href=\"#arrow-b1badfa0ced147d1a36b49f0ca8818ba-0-3\" class=\"displacy-label\" startOffset=\"50%\" side=\"left\" fill=\"currentColor\" text-anchor=\"middle\">expl:pv</textPath>\n    </text>\n    <path class=\"displacy-arrowhead\" d=\"M730.0,441.5 L738.0,429.5 722.0,429.5\" fill=\"currentColor\"/>\n</g>\n\n<g class=\"displacy-arrow\">\n    <path class=\"displacy-arc\" id=\"arrow-b1badfa0ced147d1a36b49f0ca8818ba-0-4\" stroke-width=\"2px\" d=\"M945,439.5 C945,352.0 1080.0,352.0 1080.0,439.5\" fill=\"none\" stroke=\"currentColor\"/>\n    <text dy=\"1.25em\" style=\"font-size: 0.8em; letter-spacing: 1px\">\n        <textPath xlink:href=\"#arrow-b1badfa0ced147d1a36b49f0ca8818ba-0-4\" class=\"displacy-label\" startOffset=\"50%\" side=\"left\" fill=\"currentColor\" text-anchor=\"middle\">case</textPath>\n    </text>\n    <path class=\"displacy-arrowhead\" d=\"M945,441.5 L937,429.5 953,429.5\" fill=\"currentColor\"/>\n</g>\n\n<g class=\"displacy-arrow\">\n    <path class=\"displacy-arc\" id=\"arrow-b1badfa0ced147d1a36b49f0ca8818ba-0-5\" stroke-width=\"2px\" d=\"M595,439.5 C595,177.0 1090.0,177.0 1090.0,439.5\" fill=\"none\" stroke=\"currentColor\"/>\n    <text dy=\"1.25em\" style=\"font-size: 0.8em; letter-spacing: 1px\">\n        <textPath xlink:href=\"#arrow-b1badfa0ced147d1a36b49f0ca8818ba-0-5\" class=\"displacy-label\" startOffset=\"50%\" side=\"left\" fill=\"currentColor\" text-anchor=\"middle\">obl:arg</textPath>\n    </text>\n    <path class=\"displacy-arrowhead\" d=\"M1090.0,441.5 L1098.0,429.5 1082.0,429.5\" fill=\"currentColor\"/>\n</g>\n\n<g class=\"displacy-arrow\">\n    <path class=\"displacy-arc\" id=\"arrow-b1badfa0ced147d1a36b49f0ca8818ba-0-6\" stroke-width=\"2px\" d=\"M1295,439.5 C1295,89.5 1970.0,89.5 1970.0,439.5\" fill=\"none\" stroke=\"currentColor\"/>\n    <text dy=\"1.25em\" style=\"font-size: 0.8em; letter-spacing: 1px\">\n        <textPath xlink:href=\"#arrow-b1badfa0ced147d1a36b49f0ca8818ba-0-6\" class=\"displacy-label\" startOffset=\"50%\" side=\"left\" fill=\"currentColor\" text-anchor=\"middle\">cc</textPath>\n    </text>\n    <path class=\"displacy-arrowhead\" d=\"M1295,441.5 L1287,429.5 1303,429.5\" fill=\"currentColor\"/>\n</g>\n\n<g class=\"displacy-arrow\">\n    <path class=\"displacy-arc\" id=\"arrow-b1badfa0ced147d1a36b49f0ca8818ba-0-7\" stroke-width=\"2px\" d=\"M1470,439.5 C1470,264.5 1785.0,264.5 1785.0,439.5\" fill=\"none\" stroke=\"currentColor\"/>\n    <text dy=\"1.25em\" style=\"font-size: 0.8em; letter-spacing: 1px\">\n        <textPath xlink:href=\"#arrow-b1badfa0ced147d1a36b49f0ca8818ba-0-7\" class=\"displacy-label\" startOffset=\"50%\" side=\"left\" fill=\"currentColor\" text-anchor=\"middle\">case</textPath>\n    </text>\n    <path class=\"displacy-arrowhead\" d=\"M1470,441.5 L1462,429.5 1478,429.5\" fill=\"currentColor\"/>\n</g>\n\n<g class=\"displacy-arrow\">\n    <path class=\"displacy-arc\" id=\"arrow-b1badfa0ced147d1a36b49f0ca8818ba-0-8\" stroke-width=\"2px\" d=\"M1645,439.5 C1645,352.0 1780.0,352.0 1780.0,439.5\" fill=\"none\" stroke=\"currentColor\"/>\n    <text dy=\"1.25em\" style=\"font-size: 0.8em; letter-spacing: 1px\">\n        <textPath xlink:href=\"#arrow-b1badfa0ced147d1a36b49f0ca8818ba-0-8\" class=\"displacy-label\" startOffset=\"50%\" side=\"left\" fill=\"currentColor\" text-anchor=\"middle\">amod</textPath>\n    </text>\n    <path class=\"displacy-arrowhead\" d=\"M1645,441.5 L1637,429.5 1653,429.5\" fill=\"currentColor\"/>\n</g>\n\n<g class=\"displacy-arrow\">\n    <path class=\"displacy-arc\" id=\"arrow-b1badfa0ced147d1a36b49f0ca8818ba-0-9\" stroke-width=\"2px\" d=\"M1820,439.5 C1820,352.0 1955.0,352.0 1955.0,439.5\" fill=\"none\" stroke=\"currentColor\"/>\n    <text dy=\"1.25em\" style=\"font-size: 0.8em; letter-spacing: 1px\">\n        <textPath xlink:href=\"#arrow-b1badfa0ced147d1a36b49f0ca8818ba-0-9\" class=\"displacy-label\" startOffset=\"50%\" side=\"left\" fill=\"currentColor\" text-anchor=\"middle\">obl</textPath>\n    </text>\n    <path class=\"displacy-arrowhead\" d=\"M1820,441.5 L1812,429.5 1828,429.5\" fill=\"currentColor\"/>\n</g>\n\n<g class=\"displacy-arrow\">\n    <path class=\"displacy-arc\" id=\"arrow-b1badfa0ced147d1a36b49f0ca8818ba-0-10\" stroke-width=\"2px\" d=\"M595,439.5 C595,2.0 1975.0,2.0 1975.0,439.5\" fill=\"none\" stroke=\"currentColor\"/>\n    <text dy=\"1.25em\" style=\"font-size: 0.8em; letter-spacing: 1px\">\n        <textPath xlink:href=\"#arrow-b1badfa0ced147d1a36b49f0ca8818ba-0-10\" class=\"displacy-label\" startOffset=\"50%\" side=\"left\" fill=\"currentColor\" text-anchor=\"middle\">conj</textPath>\n    </text>\n    <path class=\"displacy-arrowhead\" d=\"M1975.0,441.5 L1983.0,429.5 1967.0,429.5\" fill=\"currentColor\"/>\n</g>\n\n<g class=\"displacy-arrow\">\n    <path class=\"displacy-arc\" id=\"arrow-b1badfa0ced147d1a36b49f0ca8818ba-0-11\" stroke-width=\"2px\" d=\"M2170,439.5 C2170,352.0 2305.0,352.0 2305.0,439.5\" fill=\"none\" stroke=\"currentColor\"/>\n    <text dy=\"1.25em\" style=\"font-size: 0.8em; letter-spacing: 1px\">\n        <textPath xlink:href=\"#arrow-b1badfa0ced147d1a36b49f0ca8818ba-0-11\" class=\"displacy-label\" startOffset=\"50%\" side=\"left\" fill=\"currentColor\" text-anchor=\"middle\">case</textPath>\n    </text>\n    <path class=\"displacy-arrowhead\" d=\"M2170,441.5 L2162,429.5 2178,429.5\" fill=\"currentColor\"/>\n</g>\n\n<g class=\"displacy-arrow\">\n    <path class=\"displacy-arc\" id=\"arrow-b1badfa0ced147d1a36b49f0ca8818ba-0-12\" stroke-width=\"2px\" d=\"M1995,439.5 C1995,264.5 2310.0,264.5 2310.0,439.5\" fill=\"none\" stroke=\"currentColor\"/>\n    <text dy=\"1.25em\" style=\"font-size: 0.8em; letter-spacing: 1px\">\n        <textPath xlink:href=\"#arrow-b1badfa0ced147d1a36b49f0ca8818ba-0-12\" class=\"displacy-label\" startOffset=\"50%\" side=\"left\" fill=\"currentColor\" text-anchor=\"middle\">obl:arg</textPath>\n    </text>\n    <path class=\"displacy-arrowhead\" d=\"M2310.0,441.5 L2318.0,429.5 2302.0,429.5\" fill=\"currentColor\"/>\n</g>\n\n<g class=\"displacy-arrow\">\n    <path class=\"displacy-arc\" id=\"arrow-b1badfa0ced147d1a36b49f0ca8818ba-0-13\" stroke-width=\"2px\" d=\"M2520,439.5 C2520,352.0 2655.0,352.0 2655.0,439.5\" fill=\"none\" stroke=\"currentColor\"/>\n    <text dy=\"1.25em\" style=\"font-size: 0.8em; letter-spacing: 1px\">\n        <textPath xlink:href=\"#arrow-b1badfa0ced147d1a36b49f0ca8818ba-0-13\" class=\"displacy-label\" startOffset=\"50%\" side=\"left\" fill=\"currentColor\" text-anchor=\"middle\">case</textPath>\n    </text>\n    <path class=\"displacy-arrowhead\" d=\"M2520,441.5 L2512,429.5 2528,429.5\" fill=\"currentColor\"/>\n</g>\n\n<g class=\"displacy-arrow\">\n    <path class=\"displacy-arc\" id=\"arrow-b1badfa0ced147d1a36b49f0ca8818ba-0-14\" stroke-width=\"2px\" d=\"M2345,439.5 C2345,264.5 2660.0,264.5 2660.0,439.5\" fill=\"none\" stroke=\"currentColor\"/>\n    <text dy=\"1.25em\" style=\"font-size: 0.8em; letter-spacing: 1px\">\n        <textPath xlink:href=\"#arrow-b1badfa0ced147d1a36b49f0ca8818ba-0-14\" class=\"displacy-label\" startOffset=\"50%\" side=\"left\" fill=\"currentColor\" text-anchor=\"middle\">nmod</textPath>\n    </text>\n    <path class=\"displacy-arrowhead\" d=\"M2660.0,441.5 L2668.0,429.5 2652.0,429.5\" fill=\"currentColor\"/>\n</g>\n</svg></span>"
     },
     "metadata": {},
     "output_type": "display_data"
    }
   ],
   "source": [
    "#Wykrywanie słów mających jakieś znaczenie\n",
    "football_class_text=('Klub piłkarski Stomil znajduje się w Olsztynie i w następnej kolejce grają z drużyną z Lublina')\n",
    "football_class_doc = nlp(football_class_text)\n",
    "for ent in football_class_doc.ents:\n",
    "    print(ent.text, ent.start_char, ent.end_char,ent.label_, spacy.explain(ent.label_), sep=\", \")\n",
    "\n",
    "displacy.render(football_class_doc,jupyter=True ,style='dep')"
   ],
   "metadata": {
    "collapsed": false,
    "pycharm": {
     "name": "#%%\n"
    }
   }
  },
  {
   "cell_type": "code",
   "execution_count": 24,
   "outputs": [
    {
     "data": {
      "text/plain": "'[CENZURA] i [CENZURA] lubią jabłka, a [CENZURA] woli pomarańcze'"
     },
     "execution_count": 24,
     "metadata": {},
     "output_type": "execute_result"
    }
   ],
   "source": [
    "#Używanie NER do wyszukiwania imion i nazwisk\n",
    "survey_text =('Adam Kowalski i Edyta Marcinkiewicz lubią jabłka, a Kamil Nowak woli pomarańcze')\n",
    "def replace_person_names(token):\n",
    "\tif token.ent_iob != 0 and token.ent_type_ == 'persName':\n",
    "\t\treturn '[CENZURA] '\n",
    "\treturn token.string\n",
    "\n",
    "def redact_names(nlp_doc):\n",
    "\tfor ent in nlp_doc.ents:\n",
    "\t\tent.merge()\n",
    "\ttokens = map(replace_person_names, nlp_doc)\n",
    "\treturn ''.join(tokens)\n",
    "\n",
    "survey_doc = nlp(survey_text)\n",
    "redact_names(survey_doc)\n"
   ],
   "metadata": {
    "collapsed": false,
    "pycharm": {
     "name": "#%%\n"
    }
   }
  }
 ],
 "metadata": {
  "kernelspec": {
   "display_name": "Python 3",
   "language": "python",
   "name": "python3"
  },
  "language_info": {
   "codemirror_mode": {
    "name": "ipython",
    "version": 2
   },
   "file_extension": ".py",
   "mimetype": "text/x-python",
   "name": "python",
   "nbconvert_exporter": "python",
   "pygments_lexer": "ipython2",
   "version": "2.7.6"
  }
 },
 "nbformat": 4,
 "nbformat_minor": 0
}