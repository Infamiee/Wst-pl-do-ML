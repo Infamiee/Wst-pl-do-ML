{
 "cells": [
  {
   "cell_type": "code",
   "execution_count": 1,
   "metadata": {
    "collapsed": true
   },
   "outputs": [],
   "source": [
    "import requests\n",
    "import time\n",
    "\n",
    "import concurrent.futures\n",
    "import threading\n",
    "\n",
    "import asyncio\n",
    "import aiohttp\n",
    "import nest_asyncio\n",
    "import multiprocessing_methods as mm\n",
    "import multiprocessing"
   ]
  },
  {
   "cell_type": "markdown",
   "source": [
    "#### Wersja Synchroniczna"
   ],
   "metadata": {
    "collapsed": false,
    "pycharm": {
     "name": "#%% md\n"
    }
   }
  },
  {
   "cell_type": "code",
   "execution_count": 2,
   "outputs": [
    {
     "name": "stdout",
     "output_type": "stream",
     "text": [
      "Downloaded 160 in 17.83223557472229 seconds\n"
     ]
    }
   ],
   "source": [
    "def download_site(url, session):\n",
    "\tsession.get(url)\n",
    "\n",
    "\n",
    "def download_all_sites(sites):\n",
    "\twith requests.Session() as session:\n",
    "\t\tfor url in sites:\n",
    "\t\t\tdownload_site(url, session)\n",
    "\n",
    "sites = [\n",
    "\t\t\"https://www.jython.org\",\n",
    "\t\t\"http://olympus.realpython.org/dice\",\n",
    "] * 80\n",
    "start_time = time.time()\n",
    "download_all_sites(sites)\n",
    "duration_sync = time.time() - start_time\n",
    "print(f\"Downloaded {len(sites)} in {duration_sync} seconds\")"
   ],
   "metadata": {
    "collapsed": false,
    "pycharm": {
     "name": "#%%\n"
    }
   }
  },
  {
   "cell_type": "markdown",
   "source": [
    "#### Wersja z wątkami"
   ],
   "metadata": {
    "collapsed": false,
    "pycharm": {
     "name": "#%% md\n"
    }
   }
  },
  {
   "cell_type": "code",
   "execution_count": 3,
   "outputs": [
    {
     "name": "stdout",
     "output_type": "stream",
     "text": [
      "Downloaded 160 in 0.003989219665527344 seconds\n"
     ]
    }
   ],
   "source": [
    "thread_local = threading.local()\n",
    "def get_session():\n",
    "    if not hasattr(thread_local, \"session\"):\n",
    "        thread_local.session = requests.Session()\n",
    "    return thread_local.session\n",
    "\n",
    "\n",
    "def download_all_sites(sites):\n",
    "    with concurrent.futures.ThreadPoolExecutor(max_workers=5) as executor:\n",
    "        executor.map(download_site, sites)\n",
    "\n",
    "\n",
    "\n",
    "start_time = time.time()\n",
    "download_all_sites(sites)\n",
    "duration_thread = time.time() - start_time\n",
    "print(f\"Downloaded {len(sites)} in {duration_thread} seconds\")"
   ],
   "metadata": {
    "collapsed": false,
    "pycharm": {
     "name": "#%%\n"
    }
   }
  },
  {
   "cell_type": "markdown",
   "source": [
    "#### Wersja asyncio\n"
   ],
   "metadata": {
    "collapsed": false
   }
  },
  {
   "cell_type": "code",
   "execution_count": 4,
   "outputs": [
    {
     "name": "stdout",
     "output_type": "stream",
     "text": [
      "Downloaded 160 sites in 1.3637261390686035 seconds\n"
     ]
    }
   ],
   "source": [
    "async def download_all_sites_async(sites):\n",
    "    async with aiohttp.ClientSession() as session:\n",
    "        tasks = []\n",
    "        for url in sites:\n",
    "            task = asyncio.ensure_future(session.get(url))\n",
    "            tasks.append(task)\n",
    "        await asyncio.gather(*tasks, return_exceptions=True)\n",
    "\n",
    "start_time = time.time()\n",
    "nest_asyncio.apply()\n",
    "asyncio.run(download_all_sites_async(sites))\n",
    "duration_asyncio = time.time() - start_time\n",
    "print(f\"Downloaded {len(sites)} sites in {duration_asyncio} seconds\")"
   ],
   "metadata": {
    "collapsed": false,
    "pycharm": {
     "name": "#%%\n"
    }
   }
  },
  {
   "cell_type": "markdown",
   "source": [
    "#### Wersja multiprocessing\n",
    "\n",
    "W Jupyter nie działa multiprocessing i jedynym rozwiązaniem jakie znalazłem to przeniesienie metod do zewnętrznego pliku py"
   ],
   "metadata": {
    "collapsed": false,
    "pycharm": {
     "name": "#%% md\n"
    }
   }
  },
  {
   "cell_type": "code",
   "execution_count": 5,
   "outputs": [
    {
     "name": "stdout",
     "output_type": "stream",
     "text": [
      "Downloaded 160 in 2.4024012088775635 seconds\n"
     ]
    }
   ],
   "source": [
    "def download_all_sites(sites):\n",
    "\twith multiprocessing.Pool(initializer=mm.set_global_session) as pool:\n",
    "\t\t\tpool.map(mm.download_site_multiprocessing, sites)\n",
    "\n",
    "start_time = time.time()\n",
    "download_all_sites(sites)\n",
    "duration_mul = time.time() - start_time\n",
    "print(f\"Downloaded {len(sites)} in {duration_mul} seconds\")"
   ],
   "metadata": {
    "collapsed": false,
    "pycharm": {
     "name": "#%%\n"
    }
   }
  },
  {
   "cell_type": "markdown",
   "source": [
    "#### Porównanie wyników"
   ],
   "metadata": {
    "collapsed": false,
    "pycharm": {
     "name": "#%% md\n"
    }
   }
  },
  {
   "cell_type": "code",
   "execution_count": 6,
   "outputs": [
    {
     "name": "stdout",
     "output_type": "stream",
     "text": [
      "Synchroniczna: 17.83223557472229\n",
      "threading: 0.003989219665527344\n",
      "asyncio: 1.3637261390686035\n",
      "multiprocessing: 2.4024012088775635\n"
     ]
    }
   ],
   "source": [
    "print(f\"Synchroniczna: {duration_sync}\")\n",
    "print(f\"threading: {duration_thread}\")\n",
    "print(f\"asyncio: {duration_asyncio}\")\n",
    "print(f\"multiprocessing: {duration_mul}\")"
   ],
   "metadata": {
    "collapsed": false,
    "pycharm": {
     "name": "#%%\n"
    }
   }
  },
  {
   "cell_type": "markdown",
   "source": [
    "#### Przyspieszanie programów ograniczonych przez CPU\n",
    "\n",
    "##### Wersja Synchroniczna"
   ],
   "metadata": {
    "collapsed": false,
    "pycharm": {
     "name": "#%% md\n"
    }
   }
  },
  {
   "cell_type": "code",
   "execution_count": 7,
   "outputs": [
    {
     "name": "stdout",
     "output_type": "stream",
     "text": [
      "Duration 9.576128005981445 seconds\n"
     ]
    }
   ],
   "source": [
    "def cpu_bound(number):\n",
    "    return sum(i * i for i in range(number))\n",
    "\n",
    "\n",
    "def find_sums(numbers):\n",
    "    for number in numbers:\n",
    "        cpu_bound(number)\n",
    "\n",
    "\n",
    "\n",
    "numbers = [5_000_000 + x for x in range(20)]\n",
    "\n",
    "start_time = time.time()\n",
    "find_sums(numbers)\n",
    "duration_sync_cpu = time.time() - start_time\n",
    "print(f\"Duration {duration_sync_cpu} seconds\")\n"
   ],
   "metadata": {
    "collapsed": false,
    "pycharm": {
     "name": "#%%\n"
    }
   }
  },
  {
   "cell_type": "markdown",
   "source": [
    "##### Wersja wątkowa\n"
   ],
   "metadata": {
    "collapsed": false
   }
  },
  {
   "cell_type": "code",
   "execution_count": 8,
   "outputs": [
    {
     "name": "stdout",
     "output_type": "stream",
     "text": [
      "Duration 9.923840999603271 seconds\n"
     ]
    }
   ],
   "source": [
    "def find_sums(numbers):\n",
    "    with concurrent.futures.ThreadPoolExecutor(max_workers=10) as executor:\n",
    "        executor.map(cpu_bound, numbers)\n",
    "\n",
    "\n",
    "start_time = time.time()\n",
    "find_sums(numbers)\n",
    "duration_thread_cpu = time.time() - start_time\n",
    "print(f\"Duration {duration_thread_cpu} seconds\")"
   ],
   "metadata": {
    "collapsed": false,
    "pycharm": {
     "name": "#%%\n"
    }
   }
  },
  {
   "cell_type": "markdown",
   "source": [
    "##### Wersja asyncio\n"
   ],
   "metadata": {
    "collapsed": false
   }
  },
  {
   "cell_type": "code",
   "execution_count": 9,
   "outputs": [
    {
     "name": "stdout",
     "output_type": "stream",
     "text": [
      "Duration 9.697748184204102 seconds\n"
     ]
    }
   ],
   "source": [
    "async def find_sum_async(numbers):\n",
    "    tasks=[]\n",
    "    for number in numbers:\n",
    "        task = asyncio.ensure_future(cpu_bound_async(number))\n",
    "        tasks.append(task)\n",
    "    await asyncio.gather(*tasks, return_exceptions=True)\n",
    "\n",
    "\n",
    "async def cpu_bound_async(number):\n",
    "    return sum(i * i for i in range(number))\n",
    "\n",
    "\n",
    "start_time = time.time()\n",
    "nest_asyncio.apply()\n",
    "asyncio.run(find_sum_async(numbers))\n",
    "duration_asyncio_cpu = time.time() - start_time\n",
    "print(f\"Duration {duration_asyncio_cpu} seconds\")"
   ],
   "metadata": {
    "collapsed": false,
    "pycharm": {
     "name": "#%%\n"
    }
   }
  },
  {
   "cell_type": "markdown",
   "source": [
    "##### Wersja z multiprocessingiem\n"
   ],
   "metadata": {
    "collapsed": false,
    "pycharm": {
     "name": "#%% md\n"
    }
   }
  },
  {
   "cell_type": "code",
   "source": [
    "def find_sums_multiprocessing(numbers):\n",
    "    with multiprocessing.Pool() as pool:\n",
    "        pool.map(mm.cpu_bound_multiprocessing, numbers)\n",
    "\n",
    "start_time = time.time()\n",
    "find_sums_multiprocessing(numbers)\n",
    "duration_mul_cpu = time.time() - start_time\n",
    "print(f\"Duration {duration_mul_cpu} seconds\")"
   ],
   "metadata": {
    "collapsed": false,
    "pycharm": {
     "name": "#%%\n"
    }
   },
   "execution_count": 10,
   "outputs": [
    {
     "name": "stdout",
     "output_type": "stream",
     "text": [
      "Duration 1.8489975929260254 seconds\n"
     ]
    }
   ]
  },
  {
   "cell_type": "markdown",
   "source": [
    "##### Porównanie\n",
    "Multiprocessing w przypadku obliczeń czysto procesorowych dzięki użyciu większej ilości rdzeni jest w stanie dramatycznie przyspieszyć obliczenia"
   ],
   "metadata": {
    "collapsed": false,
    "pycharm": {
     "name": "#%% md\n"
    }
   }
  },
  {
   "cell_type": "code",
   "execution_count": 11,
   "outputs": [
    {
     "name": "stdout",
     "output_type": "stream",
     "text": [
      "Synchroniczna: 9.576128005981445\n",
      "threading: 9.923840999603271\n",
      "asyncio: 9.697748184204102\n",
      "multiprocessing: 1.8489975929260254\n"
     ]
    }
   ],
   "source": [
    "print(f\"Synchroniczna: {duration_sync_cpu}\" )\n",
    "print(f\"threading: {duration_thread_cpu}\" )\n",
    "print(f\"asyncio: {duration_asyncio_cpu}\" )\n",
    "print(f\"multiprocessing: {duration_mul_cpu}\" )\n"
   ],
   "metadata": {
    "collapsed": false,
    "pycharm": {
     "name": "#%%\n"
    }
   }
  }
 ],
 "metadata": {
  "kernelspec": {
   "display_name": "Python 3",
   "language": "python",
   "name": "python3"
  },
  "language_info": {
   "codemirror_mode": {
    "name": "ipython",
    "version": 2
   },
   "file_extension": ".py",
   "mimetype": "text/x-python",
   "name": "python",
   "nbconvert_exporter": "python",
   "pygments_lexer": "ipython2",
   "version": "2.7.6"
  }
 },
 "nbformat": 4,
 "nbformat_minor": 0
}