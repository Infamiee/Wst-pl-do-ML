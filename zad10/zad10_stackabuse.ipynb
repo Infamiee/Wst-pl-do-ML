{
 "cells": [
  {
   "cell_type": "code",
   "execution_count": 8,
   "metadata": {
    "collapsed": true
   },
   "outputs": [],
   "source": [
    "import time\n",
    "import nest_asyncio\n",
    "import requests\n",
    "import json\n",
    "from urllib import request\n",
    "import multiprocessing\n",
    "import asyncio\n",
    "import aiohttp\n",
    "from concurrent.futures import ThreadPoolExecutor\n",
    "import multiprocessing_methods as mm"
   ]
  },
  {
   "cell_type": "markdown",
   "source": [
    "#### Pobieranie obrazów i zapisywanie\n",
    "[Obrazy](pictures)\n",
    "<br>\n",
    "Zapisywanie po 10 obrazów\n",
    "##### Wersja Synchroniczna"
   ],
   "metadata": {
    "collapsed": false
   }
  },
  {
   "cell_type": "code",
   "execution_count": 9,
   "outputs": [
    {
     "name": "stdout",
     "output_type": "stream",
     "text": [
      "Synchronicznie: 15.325420141220093\n"
     ]
    }
   ],
   "source": [
    "def download_images():\n",
    "\tresponse = requests.get(\"https://picsum.photos/v2/list\")\n",
    "\tif response.status_code != 200:\n",
    "\t\t\traise AttributeError('GET /tasks/ {}'.format(response.status_code))\n",
    "\tdata = json.loads(response.text)[:10]\n",
    "\n",
    "\tpictures=[]\n",
    "\tfor s in data:\n",
    "\t\t\tpictures.append(s['download_url']+\".jpg\")\n",
    "\treturn pictures\n",
    "\n",
    "def saveImages(link):\n",
    "    filename = link.split('/')[6].split('.')[0]\n",
    "    fileformat = link.split('/')[6].split('.')[1]\n",
    "    request.urlretrieve(link, f\"pictures/{filename}.{fileformat}\")\n",
    "\n",
    "def main():\n",
    "    images = download_images()\n",
    "    for image in images:\n",
    "        saveImages(image)\n",
    "\n",
    "start_time = time.time()\n",
    "main()\n",
    "duration_sync = time.time() - start_time\n",
    "print(f\"Synchronicznie: {duration_sync}\")"
   ],
   "metadata": {
    "collapsed": false,
    "pycharm": {
     "name": "#%%\n"
    }
   }
  },
  {
   "cell_type": "markdown",
   "source": [
    "##### Wersja multithreading"
   ],
   "metadata": {
    "collapsed": false,
    "pycharm": {
     "name": "#%% md\n"
    }
   }
  },
  {
   "cell_type": "code",
   "execution_count": 10,
   "outputs": [
    {
     "name": "stdout",
     "output_type": "stream",
     "text": [
      "Threading: 15.111588954925537\n"
     ]
    }
   ],
   "source": [
    "def process_images_threading():\n",
    "    images = download_images()\n",
    "    with ThreadPoolExecutor(max_workers=5) as executor:\n",
    "        executor.map(saveImages,images)\n",
    "\n",
    "start_time = time.time()\n",
    "process_images_threading()\n",
    "duration_thread = time.time() - start_time\n",
    "print(f\"Threading: {duration_thread}\")"
   ],
   "metadata": {
    "collapsed": false,
    "pycharm": {
     "name": "#%%\n"
    }
   }
  },
  {
   "cell_type": "markdown",
   "source": [
    "##### Asyncio"
   ],
   "metadata": {
    "collapsed": false,
    "pycharm": {
     "name": "#%% md\n"
    }
   }
  },
  {
   "cell_type": "code",
   "execution_count": 12,
   "outputs": [
    {
     "name": "stdout",
     "output_type": "stream",
     "text": [
      "asyncio: 11.49928617477417\n"
     ]
    }
   ],
   "source": [
    "async def download_images_asyncio(link, session):\n",
    "\tfilename = link.split('/')[6].split('.')[0]\n",
    "\tfileformat = link.split('/')[6].split('.')[1]\n",
    "\tasync with session.get(link) as response:\n",
    "\t\t\twith open(\"pictures/{}.{}\".format(filename, fileformat), 'wb') as fd:\n",
    "\t\t\t\t\tasync for data in response.content.iter_chunked(1024):\n",
    "\t\t\t\t\t\t\tfd.write(data)\n",
    "\n",
    "async def main_asyncio():\n",
    "\timages = download_images()\n",
    "\n",
    "\tasync with aiohttp.ClientSession() as session:\n",
    "\t\t\ttasks=[download_images_asyncio(image,session)for image in images]\n",
    "\t\t\treturn await asyncio.gather(*tasks)\n",
    "\n",
    "start_time = time.time()\n",
    "nest_asyncio.apply()\n",
    "asyncio.run(main_asyncio())\n",
    "duration_asyncio = time.time() - start_time\n",
    "print(f\"asyncio: {duration_asyncio}\")\n"
   ],
   "metadata": {
    "collapsed": false,
    "pycharm": {
     "name": "#%%\n"
    }
   }
  },
  {
   "cell_type": "markdown",
   "source": [
    "##### Multiprocessing"
   ],
   "metadata": {
    "collapsed": false,
    "pycharm": {
     "name": "#%% md\n"
    }
   }
  },
  {
   "cell_type": "code",
   "execution_count": 13,
   "outputs": [
    {
     "name": "stdout",
     "output_type": "stream",
     "text": [
      "Multiprocessing: 11.158062934875488\n"
     ]
    }
   ],
   "source": [
    "def process_images_multiprocessing():\n",
    "    images = download_images()\n",
    "    pool = multiprocessing.Pool(multiprocessing.cpu_count())\n",
    "    pool.map(mm.save_images_multiprocessing,images)\n",
    "\n",
    "start_time = time.time()\n",
    "process_images_multiprocessing()\n",
    "duration_multiprocessing = time.time() - start_time\n",
    "print(f\"Multiprocessing: {duration_multiprocessing}\")"
   ],
   "metadata": {
    "collapsed": false,
    "pycharm": {
     "name": "#%%\n"
    }
   }
  },
  {
   "cell_type": "markdown",
   "source": [
    "##### Porównanie"
   ],
   "metadata": {
    "collapsed": false
   }
  },
  {
   "cell_type": "code",
   "execution_count": 14,
   "outputs": [
    {
     "name": "stdout",
     "output_type": "stream",
     "text": [
      "Synchronicznie: 15.325420141220093\n",
      "Threading: 15.111588954925537\n",
      "asyncio: 11.49928617477417\n",
      "Multiprocessing: 11.158062934875488\n"
     ]
    }
   ],
   "source": [
    "print(f\"Synchronicznie: {duration_sync}\")\n",
    "print(f\"Threading: {duration_thread}\")\n",
    "print(f\"asyncio: {duration_asyncio}\")\n",
    "print(f\"Multiprocessing: {duration_multiprocessing}\")"
   ],
   "metadata": {
    "collapsed": false,
    "pycharm": {
     "name": "#%%\n"
    }
   }
  }
 ],
 "metadata": {
  "kernelspec": {
   "display_name": "Python 3",
   "language": "python",
   "name": "python3"
  },
  "language_info": {
   "codemirror_mode": {
    "name": "ipython",
    "version": 2
   },
   "file_extension": ".py",
   "mimetype": "text/x-python",
   "name": "python",
   "nbconvert_exporter": "python",
   "pygments_lexer": "ipython2",
   "version": "2.7.6"
  }
 },
 "nbformat": 4,
 "nbformat_minor": 0
}