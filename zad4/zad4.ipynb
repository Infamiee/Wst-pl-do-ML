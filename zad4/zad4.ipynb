{
 "cells": [
  {
   "cell_type": "code",
   "execution_count": 2,
   "metadata": {
    "collapsed": true
   },
   "outputs": [],
   "source": [
    "from bs4 import BeautifulSoup\n",
    "import requests\n",
    "import string\n",
    "import random\n",
    "import re\n",
    "import pandas as pd\n",
    "from openpyxl import load_workbook,Workbook\n",
    "from IPython.display import clear_output\n",
    "clear_output(wait=True)"
   ]
  },
  {
   "cell_type": "code",
   "execution_count": 3,
   "outputs": [],
   "source": [
    "# utwórz za pomocą openpyxl trzy arkusze o nazwach “Giełda”, “Linki” i “Filmweb”\n",
    "wb = Workbook()\n",
    "name = r'lab4.xlsx'\n",
    "wb.save(name)\n",
    "def save_to_excel(data,sheet):\n",
    "    writer = pd.ExcelWriter(name,engine=\"openpyxl\")\n",
    "    book = load_workbook(filename=name)\n",
    "    writer.book=book\n",
    "    data.to_excel(writer, sheet_name=sheet)\n",
    "    writer.save()\n",
    "\n"
   ],
   "metadata": {
    "collapsed": false,
    "pycharm": {
     "name": "#%%\n"
    }
   }
  },
  {
   "cell_type": "code",
   "execution_count": 4,
   "outputs": [],
   "source": [
    "'''pod adresem znajdziesz notowania giełdowe spółki CD Projekt Red,\n",
    "wygeneruj 5 losowych kodów 3-literowych,\n",
    "generowane są trzyliterowe kody do momentu aż trafi się 5, które istnieją.\n",
    "inna opcja - na stronie z błędem 404 (dla nieistniejącego kodu) jest link do najbardziej pasującego rekordu, można go wyciągnąć za pomocą BS4 i stworzyć kolejne zapytanie,\n",
    "'''\n",
    "\n",
    "codes = []\n",
    "url = \"https://stooq.pl/q/?s=\"\n",
    "while len(codes)!=5:\n",
    "    code = ''.join([random.choice(string.ascii_lowercase) for _ in range(3)])\n",
    "    request = requests.get(url+code)\n",
    "    soup=BeautifulSoup(request.text,\"html.parser\")\n",
    "    if \"nie istnieje\" not in soup.get_text():\n",
    "        codes.append(code)"
   ],
   "metadata": {
    "collapsed": false,
    "pycharm": {
     "name": "#%%\n"
    }
   }
  },
  {
   "cell_type": "code",
   "execution_count": 5,
   "outputs": [
    {
     "name": "stdout",
     "output_type": "stream",
     "text": [
      "Kurs\n",
      "Kurs\n",
      "Kurs\n",
      "Kurs\n",
      "Kurs\n"
     ]
    }
   ],
   "source": [
    "'''napisz kod, który dla wygenerowanych wyżej trzyliterowych kodów spółki wyświetli ich aktualną cenę (Kurs), procentową zmianę (Zmiana) oraz liczbę transakcji (Transakcje),\n",
    "'''\n",
    "data = {\"Kody\":codes,\n",
    "                     \"Kursy\":[],\n",
    "                     \"Zmiana\":[],\n",
    "                     \"Transakcje\":[]}\n",
    "url = \"https://stooq.pl/q/?s=\"\n",
    "for code in codes:\n",
    "    request = requests.get(url+code)\n",
    "    soup = BeautifulSoup(request.text,\"html.parser\")\n",
    "    print(soup.find(text=\"Kurs\"))\n",
    "    course = float(soup.find(text=\"Kurs\").parent.find(\"span\").get_text())\n",
    "    data[\"Kursy\"].append(course)\n",
    "    changeText = soup.find(text=\"Zmiana\").parent.find(id=\"aq_\"+code+\"_m3\").get_text()\n",
    "    change = float(re.sub(\"[()%]\",\"\",changeText))\n",
    "    data[\"Zmiana\"].append(change)\n",
    "    transactionText = soup.find(text = \"Transakcje\").parent.find(\"span\").get_text().replace(\" \",\"\")\n",
    "    transaction = int(transactionText) if transactionText else 0\n",
    "    data[\"Transakcje\"].append(transaction)\n",
    "\n",
    "\n",
    "\n"
   ],
   "metadata": {
    "collapsed": false,
    "pycharm": {
     "name": "#%%\n"
    }
   }
  },
  {
   "cell_type": "code",
   "execution_count": 6,
   "outputs": [],
   "source": [
    "#zapisz wyniki do arkusza ‘Giełda’\n",
    "df=pd.DataFrame(data)\n",
    "save_to_excel(df,\"Giełda\")"
   ],
   "metadata": {
    "collapsed": false,
    "pycharm": {
     "name": "#%%\n"
    }
   }
  },
  {
   "cell_type": "code",
   "execution_count": 7,
   "outputs": [],
   "source": [
    "#dla wybranej strony internetowej napisz kod, który połączy się ze stroną, znajdzie wszystkie linki (co najmniej 10) na stronie (znacznik ‘a’ posiadający atrybut ‘href’), a następnie zapisze je do arkusza ‘Linki’\n",
    "data = {\"Linki\":[]}\n",
    "url = \"https://www.python.org\"\n",
    "request = requests.get(url)\n",
    "soup = BeautifulSoup(request.text,\"html.parser\")\n",
    "links = soup.find_all('a',href=True)\n",
    "for link in links:\n",
    "    x = str(link.get(\"href\"))\n",
    "    if x not in data[\"Linki\"]:\n",
    "        if \"http\" not in x:\n",
    "            x = url+x\n",
    "        data[\"Linki\"].append(x)\n",
    "\n",
    "df = pd.DataFrame(data)\n",
    "save_to_excel(df,\"Linki\")"
   ],
   "metadata": {
    "collapsed": false,
    "pycharm": {
     "name": "#%%\n"
    }
   }
  },
  {
   "cell_type": "code",
   "execution_count": 8,
   "outputs": [],
   "source": [
    "'''dla ustalonego linku do filmu na Filmwebie, np. tego, napisz kod, który zwróci:\n",
    "reżysera,\n",
    "datę premiery,\n",
    "boxoffice,\n",
    "ocenę filmu.\n",
    "zapisz uzyskane wyniki do arkusza ‘Filmweb’'''\n",
    "film = {}\n",
    "url = \"https://www.filmweb.pl/film/Diabe%C5%82+wcielony-2020-809318\"\n",
    "request = requests.get(url)\n",
    "soup = BeautifulSoup(request.text,\"html.parser\")\n",
    "\n",
    "director = soup.find(itemprop=\"director\").text.strip()\n",
    "film[\"Reżyser\"] = [director]\n",
    "\n",
    "premiere_date = soup.find(\"span\", {\"class\": \"block\"}).text.strip()\n",
    "film[\"Data premiery\"] = [premiere_date]\n",
    "\n",
    "boxoffice = soup.find(\"div\", {\"class\": \"filmRating filmRating--hasPanel\"}).attrs.get(\"data-count\")\n",
    "film[\"boxoffice\"] = [boxoffice]\n",
    "\n",
    "rating = float(soup.find(\"div\", {\"class\": \"filmRating filmRating--hasPanel\"}).attrs.get(\"data-rate\"))\n",
    "film[\"rating\"] = [round(rating,1)]\n",
    "\n",
    "\n",
    "df = pd.DataFrame(film)\n",
    "\n",
    "save_to_excel(df,\"Filmweb\")"
   ],
   "metadata": {
    "collapsed": false,
    "pycharm": {
     "name": "#%%\n"
    }
   }
  }
 ],
 "metadata": {
  "kernelspec": {
   "display_name": "Python 3",
   "language": "python",
   "name": "python3"
  },
  "language_info": {
   "codemirror_mode": {
    "name": "ipython",
    "version": 2
   },
   "file_extension": ".py",
   "mimetype": "text/x-python",
   "name": "python",
   "nbconvert_exporter": "python",
   "pygments_lexer": "ipython2",
   "version": "2.7.6"
  }
 },
 "nbformat": 4,
 "nbformat_minor": 0
}