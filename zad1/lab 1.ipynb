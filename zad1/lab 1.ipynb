{
 "cells": [
  {
   "cell_type": "code",
   "execution_count": 1,
   "metadata": {
    "collapsed": true,
    "pycharm": {
     "name": "#%%\n"
    }
   },
   "outputs": [
    {
     "data": {
      "text/plain": "array([0., 0., 0., 0., 0., 0., 0., 0., 0., 0.])"
     },
     "execution_count": 1,
     "metadata": {},
     "output_type": "execute_result"
    }
   ],
   "source": [
    "# utwórz tablicę zawierającą 10 zer\n",
    "import numpy as np\n",
    "np.zeros(10)"
   ]
  },
  {
   "cell_type": "code",
   "execution_count": 2,
   "outputs": [
    {
     "data": {
      "text/plain": "array([5., 5., 5., 5., 5., 5., 5., 5., 5., 5.])"
     },
     "execution_count": 2,
     "metadata": {},
     "output_type": "execute_result"
    }
   ],
   "source": [
    "#utwórz tablicę zawierającą 10 piątek\n",
    "np.zeros(10)+5"
   ],
   "metadata": {
    "collapsed": false,
    "pycharm": {
     "name": "#%%\n"
    }
   }
  },
  {
   "cell_type": "code",
   "execution_count": 3,
   "outputs": [
    {
     "data": {
      "text/plain": "array([10, 11, 12, 13, 14, 15, 16, 17, 18, 19, 20, 21, 22, 23, 24, 25, 26,\n       27, 28, 29, 30, 31, 32, 33, 34, 35, 36, 37, 38, 39, 40, 41, 42, 43,\n       44, 45, 46, 47, 48, 49, 50])"
     },
     "execution_count": 3,
     "metadata": {},
     "output_type": "execute_result"
    }
   ],
   "source": [
    "#utwórz tablicę zawierającą liczby od 10 do 50\n",
    "np.arange(10,51,1)"
   ],
   "metadata": {
    "collapsed": false,
    "pycharm": {
     "name": "#%%\n"
    }
   }
  },
  {
   "cell_type": "code",
   "execution_count": 4,
   "outputs": [
    {
     "data": {
      "text/plain": "array([[0, 1, 2],\n       [3, 4, 5],\n       [6, 7, 8]])"
     },
     "execution_count": 4,
     "metadata": {},
     "output_type": "execute_result"
    }
   ],
   "source": [
    "#utwórz macierz (tablica wielowymiarowa) o wymiarach 3x3 zawierającą liczby od 0 do 8\n",
    "np.arange(0,9,1).reshape([3,3])"
   ],
   "metadata": {
    "collapsed": false,
    "pycharm": {
     "name": "#%%\n"
    }
   }
  },
  {
   "cell_type": "code",
   "execution_count": 5,
   "outputs": [
    {
     "data": {
      "text/plain": "array([[1., 0., 0.],\n       [0., 1., 0.],\n       [0., 0., 1.]])"
     },
     "execution_count": 5,
     "metadata": {},
     "output_type": "execute_result"
    }
   ],
   "source": [
    "#utwórz macierz jednostkową o wymiarach 3x3,\n",
    "np.eye(3)\n"
   ],
   "metadata": {
    "collapsed": false,
    "pycharm": {
     "name": "#%%\n"
    }
   }
  },
  {
   "cell_type": "code",
   "execution_count": 6,
   "outputs": [
    {
     "data": {
      "text/plain": "array([[-0.00747202, -0.10603024, -0.15240565, -0.18636064,  0.05396816],\n       [-0.03215727,  0.00760576,  0.04530619, -0.00960673, -0.12019657],\n       [ 0.01635026,  0.04316252,  0.04142458,  0.08432179, -0.00994229],\n       [ 0.02226913, -0.02755003, -0.11837245,  0.07520353,  0.08168666],\n       [-0.08266831,  0.02656761, -0.08218091,  0.06544529,  0.1984915 ]])"
     },
     "execution_count": 6,
     "metadata": {},
     "output_type": "execute_result"
    }
   ],
   "source": [
    "#utwórz macierz o wymiarach 5x5 zawierającą liczby z dystrybucji normalnej\n",
    "np.random.normal(0,0.1,25).reshape([5,5])\n"
   ],
   "metadata": {
    "collapsed": false,
    "pycharm": {
     "name": "#%%\n"
    }
   }
  },
  {
   "cell_type": "code",
   "execution_count": 7,
   "outputs": [
    {
     "data": {
      "text/plain": "array([[0.01, 0.02, 0.03, 0.04, 0.05, 0.06, 0.07, 0.08, 0.09, 0.1 ],\n       [0.11, 0.12, 0.13, 0.14, 0.15, 0.16, 0.17, 0.18, 0.19, 0.2 ],\n       [0.21, 0.22, 0.23, 0.24, 0.25, 0.26, 0.27, 0.28, 0.29, 0.3 ],\n       [0.31, 0.32, 0.33, 0.34, 0.35, 0.36, 0.37, 0.38, 0.39, 0.4 ],\n       [0.41, 0.42, 0.43, 0.44, 0.45, 0.46, 0.47, 0.48, 0.49, 0.5 ],\n       [0.51, 0.52, 0.53, 0.54, 0.55, 0.56, 0.57, 0.58, 0.59, 0.6 ],\n       [0.61, 0.62, 0.63, 0.64, 0.65, 0.66, 0.67, 0.68, 0.69, 0.7 ],\n       [0.71, 0.72, 0.73, 0.74, 0.75, 0.76, 0.77, 0.78, 0.79, 0.8 ],\n       [0.81, 0.82, 0.83, 0.84, 0.85, 0.86, 0.87, 0.88, 0.89, 0.9 ],\n       [0.91, 0.92, 0.93, 0.94, 0.95, 0.96, 0.97, 0.98, 0.99, 1.  ]])"
     },
     "execution_count": 7,
     "metadata": {},
     "output_type": "execute_result"
    }
   ],
   "source": [
    "#utwórz macierz o wymiarach 10x10 zawierającą liczby od 0,01 do 1 z krokiem 0,01\n",
    "np.arange(0.01,1.01,0.01).reshape([10,10])\n",
    "\n"
   ],
   "metadata": {
    "collapsed": false,
    "pycharm": {
     "name": "#%%\n"
    }
   }
  },
  {
   "cell_type": "code",
   "execution_count": 8,
   "outputs": [
    {
     "data": {
      "text/plain": "array([0.        , 0.05263158, 0.10526316, 0.15789474, 0.21052632,\n       0.26315789, 0.31578947, 0.36842105, 0.42105263, 0.47368421,\n       0.52631579, 0.57894737, 0.63157895, 0.68421053, 0.73684211,\n       0.78947368, 0.84210526, 0.89473684, 0.94736842, 1.        ])"
     },
     "execution_count": 8,
     "metadata": {},
     "output_type": "execute_result"
    }
   ],
   "source": [
    "#utwórz tablicę zawierającą 20 liniowo rozłożonych liczb między 0 a 1 (włącznie z 0 i 1),\n",
    "np.linspace(0,1,20)"
   ],
   "metadata": {
    "collapsed": false,
    "pycharm": {
     "name": "#%%\n"
    }
   }
  },
  {
   "cell_type": "code",
   "execution_count": 9,
   "outputs": [
    {
     "name": "stdout",
     "output_type": "stream",
     "text": [
      "macierz: [[22.73067133  6.06851005  1.5326157  19.05550479 18.54461168]\n",
      " [ 8.95741838 13.56887368 22.71728606 19.58629877 18.16797622]\n",
      " [14.59252344 17.17604485 20.45179357  8.42469214 16.35005493]\n",
      " [16.1068794  16.62841102 18.69712427 11.77982396 18.85926495]\n",
      " [23.42549553 18.30746054 21.57145551 18.65676752  6.03204034]]\n",
      "suma: 397.9895986332592\n",
      "średnia: 15.919583945330368\n",
      "dewiacja: 5.6545967435099955\n",
      "suma kolumn: [85.81298808 71.74930014 84.97027511 77.50308718 77.95394812]\n"
     ]
    }
   ],
   "source": [
    "'''utwórz tablicę zawierającą losowe liczby z przedziału (1, 25), następnie zamień ją na macierz o wymiarach 5 x 5 z tymi samymi liczbami:\n",
    "oblicz sumę wszystkich liczb w ww. macierzy,\n",
    "oblicz średnią wszystkich liczb w ww. macierzy,\n",
    "oblicz standardową dewiację dla liczb w ww. macierzy,\n",
    "oblicz sumę każdej kolumny ww. macierzy i zapisz ją do tablicy.'''\n",
    "\n",
    "array = np.random.uniform(1,25,25).reshape([5,5])\n",
    "print(\"macierz: \"+ str(array))\n",
    "print(\"suma: \" + str(np.sum(array)))\n",
    "print(\"średnia: \" + str(np.mean(array)))\n",
    "print(\"dewiacja: \" + str(np.std(array)))\n",
    "col_sum = np.sum(array,axis=0)\n",
    "print(\"suma kolumn: \"+ str(col_sum))"
   ],
   "metadata": {
    "collapsed": false,
    "pycharm": {
     "name": "#%%\n"
    }
   }
  },
  {
   "cell_type": "code",
   "execution_count": 10,
   "outputs": [
    {
     "name": "stdout",
     "output_type": "stream",
     "text": [
      "[[95.31257511 82.42077899 83.38336942 32.49712688 38.69025922]\n",
      " [52.08264966 60.58685058 42.87591697 86.46637631 59.34832   ]\n",
      " [72.44727597 37.95271776 10.58369683 63.91777264 91.3083387 ]\n",
      " [46.33519565 91.60248255 66.78576532 55.99489403 17.84588591]\n",
      " [23.01957777  4.237124   92.22901217 28.52557137 56.4485781 ]]\n",
      "mediana: 56.44857810278873\n",
      "najmniejsza liczba: 4.237123997855852\n",
      "największa liczba: 95.31257511334344\n"
     ]
    }
   ],
   "source": [
    "'''utwórz macierz o wymiarach 5x5 zawierającą losowe liczby z przedziału (0, 100) i:\n",
    "oblicz medianę tych liczb,\n",
    "znajdź najmniejszą liczbę tej macierzy,\n",
    "znajdź największą liczbę tej macierzy.'''\n",
    "array = np.random.uniform(0,100,25).reshape([5,5])\n",
    "print(array)\n",
    "print(\"mediana: \" + str(np.median(array)))\n",
    "print(\"najmniejsza liczba: \"+ str(np.min(array)))\n",
    "print(\"największa liczba: \"+ str(np.max(array)))"
   ],
   "metadata": {
    "collapsed": false,
    "pycharm": {
     "name": "#%%\n"
    }
   }
  },
  {
   "cell_type": "code",
   "execution_count": 11,
   "outputs": [
    {
     "name": "stdout",
     "output_type": "stream",
     "text": [
      "[[15.76683462 23.86953904  7.14838426 11.507556  ]\n",
      " [ 5.91725233 53.07122047 29.40055173 83.66604923]\n",
      " [39.14891127 64.07352899 12.85238283 70.33978005]\n",
      " [77.54604823 83.16338601 56.76125437 10.30857286]\n",
      " [89.96657882 26.74998617 79.72914646 87.67512124]\n",
      " [75.69855227 99.32635077 78.90663958 36.95284082]]\n",
      "[[15.76683462  5.91725233 39.14891127 77.54604823 89.96657882 75.69855227]\n",
      " [23.86953904 53.07122047 64.07352899 83.16338601 26.74998617 99.32635077]\n",
      " [ 7.14838426 29.40055173 12.85238283 56.76125437 79.72914646 78.90663958]\n",
      " [11.507556   83.66604923 70.33978005 10.30857286 87.67512124 36.95284082]]\n"
     ]
    }
   ],
   "source": [
    "#utwórz macierz o wymiarach różnych od siebie i większych od 1, zawierającą losowe liczby z przedziału (0, 100) i dokonaj jej transpozycji\n",
    "mat = np.random.uniform(0,100,24).reshape([6,4])\n",
    "print(mat)\n",
    "transposed = mat.T\n",
    "print(transposed)"
   ],
   "metadata": {
    "collapsed": false,
    "pycharm": {
     "name": "#%%\n"
    }
   }
  },
  {
   "cell_type": "code",
   "execution_count": 12,
   "outputs": [
    {
     "name": "stdout",
     "output_type": "stream",
     "text": [
      "[[66.98218157 58.21811707 64.34841152 46.19444091 63.19028863]\n",
      " [23.37430492 31.56568432 36.68220584 28.93549395 20.46606422]\n",
      " [18.93416682 47.75457104 32.72773679 98.13252004 28.20679251]\n",
      " [32.9196954  15.72817901 89.88273745 40.09074591 57.89532212]\n",
      " [19.39865352 80.80061695 19.66190755 97.3924215  87.50273087]]\n",
      "\n",
      "[[70.37777107 60.72879755 49.41269575 17.67156072 11.22085893]\n",
      " [65.77601012 76.78980762 11.5005835  14.18184455 40.63744577]\n",
      " [53.47304528 95.65757777 21.76410548 22.42777594  8.55995194]\n",
      " [ 3.13428258 85.5191782  92.47282205  7.25837832 44.17834222]\n",
      " [91.12007436 96.49953405  1.40231114 16.70699084 89.08767133]]\n",
      "[[137.35995265 118.94691462 113.76110727  63.86600163  74.41114756]\n",
      " [ 89.15031504 108.35549194  48.18278934  43.1173385   61.10351   ]\n",
      " [ 72.4072121  143.4121488   54.49184227 120.56029598  36.76674446]\n",
      " [ 36.05397798 101.24735721 182.3555595   47.34912422 102.07366434]\n",
      " [110.51872788 177.300151    21.06421869 114.09941234 176.59040219]]\n"
     ]
    }
   ],
   "source": [
    "#utwórz dwie macierze o odpowiednich wymiarach (doczytać), większych od 2 i dodaj je do siebie\n",
    "mat1 = np.random.uniform(0,100,25).reshape([5,5])\n",
    "mat2 = np.random.uniform(0,100,25).reshape([5,5])\n",
    "print(mat1, mat2,sep=\"\\n\\n\")\n",
    "print(mat1+mat2)"
   ],
   "metadata": {
    "collapsed": false,
    "pycharm": {
     "name": "#%%\n"
    }
   }
  },
  {
   "cell_type": "code",
   "execution_count": 13,
   "outputs": [
    {
     "name": "stdout",
     "output_type": "stream",
     "text": [
      "[[56.19500142 13.96589714 64.93925418]\n",
      " [53.37855172 41.92137305 44.17788595]]\n",
      "\n",
      "[[20.7237723  45.44039158]\n",
      " [87.56038885 16.50175092]\n",
      " [16.58259753 10.81661278]]\n",
      "[[3464.29331417 3486.40739214]\n",
      " [5509.44077952 3595.173434  ]]\n"
     ]
    }
   ],
   "source": [
    "#utwórz dwie macierze o odpowiednich wymiarach (doczytać) różnych od siebie i większych od 2, a następnie pomnóż je przez siebie za pomocą dwóch różnych funkcji (np. ‘matmul’ i ‘multiply’)\n",
    "mat1 = np.random.uniform(0,100,6).reshape([2,3])\n",
    "mat2 = np.random.uniform(0,100,6).reshape([3,2])\n",
    "print(mat1, mat2,sep=\"\\n\\n\")\n",
    "print(np.matmul(mat1,mat2))"
   ],
   "metadata": {
    "collapsed": false,
    "pycharm": {
     "name": "#%%\n"
    }
   }
  }
 ],
 "metadata": {
  "kernelspec": {
   "display_name": "Python 3",
   "language": "python",
   "name": "python3"
  },
  "language_info": {
   "codemirror_mode": {
    "name": "ipython",
    "version": 2
   },
   "file_extension": ".py",
   "mimetype": "text/x-python",
   "name": "python",
   "nbconvert_exporter": "python",
   "pygments_lexer": "ipython2",
   "version": "2.7.6"
  }
 },
 "nbformat": 4,
 "nbformat_minor": 0
}