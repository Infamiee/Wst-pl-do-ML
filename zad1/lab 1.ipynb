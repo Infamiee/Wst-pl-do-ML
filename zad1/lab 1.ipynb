{
 "cells": [
  {
   "cell_type": "code",
   "execution_count": 57,
   "metadata": {
    "collapsed": true,
    "pycharm": {
     "name": "#%%\n"
    }
   },
   "outputs": [
    {
     "data": {
      "text/plain": "array([0., 0., 0., 0., 0., 0., 0., 0., 0., 0.])"
     },
     "execution_count": 57,
     "metadata": {},
     "output_type": "execute_result"
    }
   ],
   "source": [
    "# utwórz tablicę zawierającą 10 zer\n",
    "import numpy as np\n",
    "np.zeros(10)"
   ]
  },
  {
   "cell_type": "code",
   "execution_count": 58,
   "outputs": [
    {
     "data": {
      "text/plain": "array([5., 5., 5., 5., 5., 5., 5., 5., 5., 5.])"
     },
     "execution_count": 58,
     "metadata": {},
     "output_type": "execute_result"
    }
   ],
   "source": [
    "#utwórz tablicę zawierającą 10 piątek\n",
    "np.zeros(10)+5"
   ],
   "metadata": {
    "collapsed": false,
    "pycharm": {
     "name": "#%%\n"
    }
   }
  },
  {
   "cell_type": "code",
   "execution_count": 59,
   "outputs": [
    {
     "data": {
      "text/plain": "array([10, 11, 12, 13, 14, 15, 16, 17, 18, 19, 20, 21, 22, 23, 24, 25, 26,\n       27, 28, 29, 30, 31, 32, 33, 34, 35, 36, 37, 38, 39, 40, 41, 42, 43,\n       44, 45, 46, 47, 48, 49, 50])"
     },
     "execution_count": 59,
     "metadata": {},
     "output_type": "execute_result"
    }
   ],
   "source": [
    "#utwórz tablicę zawierającą liczby od 10 do 50\n",
    "np.arange(10,51,1)"
   ],
   "metadata": {
    "collapsed": false,
    "pycharm": {
     "name": "#%%\n"
    }
   }
  },
  {
   "cell_type": "code",
   "execution_count": 60,
   "outputs": [
    {
     "data": {
      "text/plain": "array([[0, 1, 2],\n       [3, 4, 5],\n       [6, 7, 8]])"
     },
     "execution_count": 60,
     "metadata": {},
     "output_type": "execute_result"
    }
   ],
   "source": [
    "#utwórz macierz (tablica wielowymiarowa) o wymiarach 3x3 zawierającą liczby od 0 do 8\n",
    "np.arange(0,9,1).reshape([3,3])"
   ],
   "metadata": {
    "collapsed": false,
    "pycharm": {
     "name": "#%%\n"
    }
   }
  },
  {
   "cell_type": "code",
   "execution_count": 61,
   "outputs": [
    {
     "data": {
      "text/plain": "array([[1., 0., 0.],\n       [0., 1., 0.],\n       [0., 0., 1.]])"
     },
     "execution_count": 61,
     "metadata": {},
     "output_type": "execute_result"
    }
   ],
   "source": [
    "#utwórz macierz jednostkową o wymiarach 3x3,\n",
    "np.eye(3)\n"
   ],
   "metadata": {
    "collapsed": false,
    "pycharm": {
     "name": "#%%\n"
    }
   }
  },
  {
   "cell_type": "code",
   "execution_count": 62,
   "outputs": [
    {
     "data": {
      "text/plain": "array([[-0.14941195,  0.01581855,  0.06070116,  0.12262639, -0.10572168],\n       [-0.06012094,  0.02421781, -0.15613478, -0.08754045, -0.05908965],\n       [ 0.12187897, -0.05848711, -0.08778121, -0.03473394, -0.17558931],\n       [-0.09609469, -0.05617356, -0.06553683,  0.05467376,  0.04338974],\n       [ 0.12945504,  0.04010597, -0.22706424, -0.12152732, -0.033125  ]])"
     },
     "execution_count": 62,
     "metadata": {},
     "output_type": "execute_result"
    }
   ],
   "source": [
    "#utwórz macierz o wymiarach 5x5 zawierającą liczby z dystrybucji normalnej\n",
    "np.random.normal(0,0.1,25).reshape([5,5])\n"
   ],
   "metadata": {
    "collapsed": false,
    "pycharm": {
     "name": "#%%\n"
    }
   }
  },
  {
   "cell_type": "code",
   "execution_count": 63,
   "outputs": [
    {
     "data": {
      "text/plain": "array([[0.01, 0.02, 0.03, 0.04, 0.05, 0.06, 0.07, 0.08, 0.09, 0.1 ],\n       [0.11, 0.12, 0.13, 0.14, 0.15, 0.16, 0.17, 0.18, 0.19, 0.2 ],\n       [0.21, 0.22, 0.23, 0.24, 0.25, 0.26, 0.27, 0.28, 0.29, 0.3 ],\n       [0.31, 0.32, 0.33, 0.34, 0.35, 0.36, 0.37, 0.38, 0.39, 0.4 ],\n       [0.41, 0.42, 0.43, 0.44, 0.45, 0.46, 0.47, 0.48, 0.49, 0.5 ],\n       [0.51, 0.52, 0.53, 0.54, 0.55, 0.56, 0.57, 0.58, 0.59, 0.6 ],\n       [0.61, 0.62, 0.63, 0.64, 0.65, 0.66, 0.67, 0.68, 0.69, 0.7 ],\n       [0.71, 0.72, 0.73, 0.74, 0.75, 0.76, 0.77, 0.78, 0.79, 0.8 ],\n       [0.81, 0.82, 0.83, 0.84, 0.85, 0.86, 0.87, 0.88, 0.89, 0.9 ],\n       [0.91, 0.92, 0.93, 0.94, 0.95, 0.96, 0.97, 0.98, 0.99, 1.  ]])"
     },
     "execution_count": 63,
     "metadata": {},
     "output_type": "execute_result"
    }
   ],
   "source": [
    "#utwórz macierz o wymiarach 10x10 zawierającą liczby od 0,01 do 1 z krokiem 0,01\n",
    "np.arange(0.01,1.01,0.01).reshape([10,10])\n",
    "\n"
   ],
   "metadata": {
    "collapsed": false,
    "pycharm": {
     "name": "#%%\n"
    }
   }
  },
  {
   "cell_type": "code",
   "execution_count": 64,
   "outputs": [
    {
     "data": {
      "text/plain": "array([0.        , 0.05263158, 0.10526316, 0.15789474, 0.21052632,\n       0.26315789, 0.31578947, 0.36842105, 0.42105263, 0.47368421,\n       0.52631579, 0.57894737, 0.63157895, 0.68421053, 0.73684211,\n       0.78947368, 0.84210526, 0.89473684, 0.94736842, 1.        ])"
     },
     "execution_count": 64,
     "metadata": {},
     "output_type": "execute_result"
    }
   ],
   "source": [
    "#utwórz tablicę zawierającą 20 liniowo rozłożonych liczb między 0 a 1 (włącznie z 0 i 1),\n",
    "np.linspace(0,1,20)"
   ],
   "metadata": {
    "collapsed": false,
    "pycharm": {
     "name": "#%%\n"
    }
   }
  },
  {
   "cell_type": "code",
   "execution_count": 65,
   "outputs": [
    {
     "name": "stdout",
     "output_type": "stream",
     "text": [
      "macierz: [[ 4.47789754 24.69872747 18.86877029  2.80202578 19.70170414]\n",
      " [19.93427245  9.49957546 19.63850863 17.80770709 23.56123931]\n",
      " [14.92052497 23.98421393  7.86820025 13.53068399  8.96419243]\n",
      " [15.37377098  4.4376863  20.82514294 24.60256689  1.52712223]\n",
      " [21.71826767 16.37407858 12.92304692 10.42848366  6.11768593]]\n",
      "suma: 364.58609582608943\n",
      "średnia: 14.583443833043578\n",
      "dewiacja: 7.167341833333357\n",
      "suma kolumn: [76.42473361 78.99428174 80.12366903 69.17146741 59.87194404]\n"
     ]
    }
   ],
   "source": [
    "'''utwórz tablicę zawierającą losowe liczby z przedziału (1, 25), następnie zamień ją na macierz o wymiarach 5 x 5 z tymi samymi liczbami:\n",
    "oblicz sumę wszystkich liczb w ww. macierzy,\n",
    "oblicz średnią wszystkich liczb w ww. macierzy,\n",
    "oblicz standardową dewiację dla liczb w ww. macierzy,\n",
    "oblicz sumę każdej kolumny ww. macierzy i zapisz ją do tablicy.'''\n",
    "\n",
    "array = np.random.uniform(1,25,25).reshape([5,5])\n",
    "print(\"macierz: \"+ str(array))\n",
    "print(\"suma: \" + str(np.sum(array)))\n",
    "print(\"średnia: \" + str(np.mean(array)))\n",
    "print(\"dewiacja: \" + str(np.std(array)))\n",
    "col_sum = np.sum(array,axis=0)\n",
    "print(\"suma kolumn: \"+ str(col_sum))"
   ],
   "metadata": {
    "collapsed": false,
    "pycharm": {
     "name": "#%%\n"
    }
   }
  },
  {
   "cell_type": "code",
   "execution_count": 66,
   "outputs": [
    {
     "name": "stdout",
     "output_type": "stream",
     "text": [
      "[[37.51562526 77.50631079 93.05075662 27.57251201 68.06338005]\n",
      " [14.58237665 22.58545591 13.2288509  85.30895445 41.77014042]\n",
      " [52.41277484 27.3129647  92.28847428 87.20577056 27.93288829]\n",
      " [83.73481831 83.93028817 43.68796591 34.10559075 96.88626524]\n",
      " [25.49747258 52.91661597 79.48003353 93.18874799 57.48565957]]\n",
      "mediana: 52.91661597445116\n",
      "najmniejsza liczba: 13.228850902446599\n",
      "największa liczba: 96.88626523900568\n"
     ]
    }
   ],
   "source": [
    "'''utwórz macierz o wymiarach 5x5 zawierającą losowe liczby z przedziału (0, 100) i:\n",
    "oblicz medianę tych liczb,\n",
    "znajdź najmniejszą liczbę tej macierzy,\n",
    "znajdź największą liczbę tej macierzy.'''\n",
    "array = np.random.uniform(0,100,25).reshape([5,5])\n",
    "print(array)\n",
    "print(\"mediana: \" + str(np.median(array)))\n",
    "print(\"najmniejsza liczba: \"+ str(np.min(array)))\n",
    "print(\"największa liczba: \"+ str(np.max(array)))"
   ],
   "metadata": {
    "collapsed": false,
    "pycharm": {
     "name": "#%%\n"
    }
   }
  },
  {
   "cell_type": "code",
   "execution_count": 67,
   "outputs": [
    {
     "name": "stdout",
     "output_type": "stream",
     "text": [
      "[[64.42171449 86.34792521  7.98966678 63.10973858]\n",
      " [64.64401739 20.56185922 29.3807026   3.09630833]\n",
      " [27.43412151 52.91331218 83.37370264 64.39563196]\n",
      " [13.18547121 22.3775812  66.47484508 45.09258862]\n",
      " [49.78515119 62.87000748 76.65421595 59.45098981]\n",
      " [45.98353959 88.74806448  0.70993913 41.37975303]]\n",
      "[[64.42171449 64.64401739 27.43412151 13.18547121 49.78515119 45.98353959]\n",
      " [86.34792521 20.56185922 52.91331218 22.3775812  62.87000748 88.74806448]\n",
      " [ 7.98966678 29.3807026  83.37370264 66.47484508 76.65421595  0.70993913]\n",
      " [63.10973858  3.09630833 64.39563196 45.09258862 59.45098981 41.37975303]]\n"
     ]
    }
   ],
   "source": [
    "#utwórz macierz o wymiarach różnych od siebie i większych od 1, zawierającą losowe liczby z przedziału (0, 100) i dokonaj jej transpozycji\n",
    "mat = np.random.uniform(0,100,24).reshape([6,4])\n",
    "print(mat)\n",
    "transposed = mat.T\n",
    "print(transposed)"
   ],
   "metadata": {
    "collapsed": false,
    "pycharm": {
     "name": "#%%\n"
    }
   }
  },
  {
   "cell_type": "code",
   "execution_count": 68,
   "outputs": [
    {
     "name": "stdout",
     "output_type": "stream",
     "text": [
      "[[84.55427852 36.98424968  8.04799877 21.87298192 33.60466766]\n",
      " [93.0807775  30.23800591 76.43811456 46.69044073 27.9805185 ]\n",
      " [79.59829188 96.78157591 44.61651029 57.54633847 36.64951907]\n",
      " [ 4.67356481 64.80532531 89.76443122 62.92565762 98.0023565 ]\n",
      " [74.98677516 69.57842336 48.8933257  77.42158264 74.44094798]]\n",
      "\n",
      "[[17.93911439 42.48237346 33.97945818 87.62493644 45.68282363]\n",
      " [84.78773125 49.00282666 94.90359042 39.97442991 86.70623907]\n",
      " [99.15440723 13.73483515  0.67473674 87.86897364 12.47168879]\n",
      " [26.53590846 19.69936829 94.23363568  9.99240878  1.2107695 ]\n",
      " [33.76772489 77.60047722 72.06804924 44.4623744   6.25198744]]\n",
      "[[102.49339291  79.46662314  42.02745694 109.49791836  79.28749129]\n",
      " [177.86850875  79.24083257 171.34170498  86.66487064 114.68675757]\n",
      " [178.75269911 110.51641107  45.29124703 145.41531212  49.12120786]\n",
      " [ 31.20947326  84.5046936  183.9980669   72.9180664   99.213126  ]\n",
      " [108.75450005 147.17890057 120.96137493 121.88395704  80.69293543]]\n"
     ]
    }
   ],
   "source": [
    "#utwórz dwie macierze o odpowiednich wymiarach (doczytać), większych od 2 i dodaj je do siebie\n",
    "mat1 = np.random.uniform(0,100,25).reshape([5,5])\n",
    "mat2 = np.random.uniform(0,100,25).reshape([5,5])\n",
    "print(mat1, mat2,sep=\"\\n\\n\")\n",
    "print(mat1+mat2)"
   ],
   "metadata": {
    "collapsed": false,
    "pycharm": {
     "name": "#%%\n"
    }
   }
  },
  {
   "cell_type": "code",
   "execution_count": 69,
   "outputs": [
    {
     "name": "stdout",
     "output_type": "stream",
     "text": [
      "[[74.59468081 16.47660657 89.60711444]\n",
      " [49.1332497  81.46634347 17.75636857]]\n",
      "\n",
      "[[11.31818784 44.26758626]\n",
      " [82.84729778  2.46621783]\n",
      " [44.33115182 37.67821932]]\n",
      "[[6181.7055348  6718.9978793 ]\n",
      " [8092.52603705 3044.95246778]]\n"
     ]
    }
   ],
   "source": [
    "#utwórz dwie macierze o odpowiednich wymiarach (doczytać) różnych od siebie i większych od 2, a następnie pomnóż je przez siebie za pomocą dwóch różnych funkcji (np. ‘matmul’ i ‘multiply’)\n",
    "mat1 = np.random.uniform(0,100,6).reshape([2,3])\n",
    "mat2 = np.random.uniform(0,100,6).reshape([3,2])\n",
    "print(mat1, mat2,sep=\"\\n\\n\")\n",
    "print(np.matmul(mat1,mat2))"
   ],
   "metadata": {
    "collapsed": false,
    "pycharm": {
     "name": "#%%\n"
    }
   }
  }
 ],
 "metadata": {
  "kernelspec": {
   "display_name": "Python 3",
   "language": "python",
   "name": "python3"
  },
  "language_info": {
   "codemirror_mode": {
    "name": "ipython",
    "version": 2
   },
   "file_extension": ".py",
   "mimetype": "text/x-python",
   "name": "python",
   "nbconvert_exporter": "python",
   "pygments_lexer": "ipython2",
   "version": "2.7.6"
  }
 },
 "nbformat": 4,
 "nbformat_minor": 0
}